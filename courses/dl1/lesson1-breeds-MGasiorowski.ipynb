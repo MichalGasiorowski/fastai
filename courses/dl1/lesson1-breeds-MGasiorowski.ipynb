{
 "cells": [
  {
   "cell_type": "markdown",
   "metadata": {},
   "source": [
    "# Dogs breeds\n",
    "\n",
    "https://youtu.be/JNxcznsrRb8?t=1h31m8s"
   ]
  },
  {
   "cell_type": "code",
   "execution_count": 1,
   "metadata": {},
   "outputs": [],
   "source": [
    "%reload_ext autoreload\n",
    "%autoreload 2\n",
    "%matplotlib inline"
   ]
  },
  {
   "cell_type": "code",
   "execution_count": 2,
   "metadata": {},
   "outputs": [
    {
     "name": "stderr",
     "output_type": "stream",
     "text": [
      "/home/ubuntu/src/anaconda3/envs/fastai/lib/python3.6/site-packages/sklearn/ensemble/weight_boosting.py:29: DeprecationWarning: numpy.core.umath_tests is an internal NumPy module and should not be imported. It will be removed in a future NumPy release.\n",
      "  from numpy.core.umath_tests import inner1d\n"
     ]
    }
   ],
   "source": [
    "from fastai.imports import *\n",
    "from fastai.torch_imports import *\n",
    "from fastai.transforms import *\n",
    "from fastai.conv_learner import *\n",
    "from fastai.model import *\n",
    "from fastai.dataset import *\n",
    "from fastai.sgdr import *\n",
    "from fastai.plots import *"
   ]
  },
  {
   "cell_type": "code",
   "execution_count": 4,
   "metadata": {},
   "outputs": [],
   "source": [
    "torch.cuda.set_device(0)"
   ]
  },
  {
   "cell_type": "markdown",
   "metadata": {},
   "source": [
    "Kaggle Dog Breed Identification. Get data from https://www.kaggle.com/c/dog-breed-identification"
   ]
  },
  {
   "cell_type": "code",
   "execution_count": 7,
   "metadata": {},
   "outputs": [],
   "source": [
    "HOME = \"/home/ubuntu\"\n",
    "PATH = HOME + \"/data/dogbreed/\"\n",
    "sz = 224 # size\n",
    "arch = resnext101_64\n",
    "bs = 58 # batch size"
   ]
  },
  {
   "cell_type": "code",
   "execution_count": 8,
   "metadata": {},
   "outputs": [],
   "source": [
    "label_csv = f'{PATH}labels.csv'\n",
    "n = len(list(open(label_csv))) - 1 # header is not counted (-1)\n",
    "val_idxs = get_cv_idxs(n) # random 20% data for validation set"
   ]
  },
  {
   "cell_type": "code",
   "execution_count": 9,
   "metadata": {},
   "outputs": [
    {
     "data": {
      "text/plain": [
       "10222"
      ]
     },
     "execution_count": 9,
     "metadata": {},
     "output_type": "execute_result"
    }
   ],
   "source": [
    "n"
   ]
  },
  {
   "cell_type": "code",
   "execution_count": 10,
   "metadata": {},
   "outputs": [
    {
     "data": {
      "text/plain": [
       "2044"
      ]
     },
     "execution_count": 10,
     "metadata": {},
     "output_type": "execute_result"
    }
   ],
   "source": [
    "len(val_idxs)"
   ]
  },
  {
   "cell_type": "code",
   "execution_count": 8,
   "metadata": {},
   "outputs": [],
   "source": [
    "# If you haven't downloaded weights.tgz yet, download the file.\n",
    "#     http://forums.fast.ai/t/error-when-trying-to-use-resnext50/7555\n",
    "#     http://forums.fast.ai/t/lesson-2-in-class-discussion/7452/222\n",
    "#!wget -O fastai/weights.tgz http://files.fast.ai/models/weights.tgz\n",
    "\n",
    "#!tar xvfz fastai/weights.tgz -C fastai"
   ]
  },
  {
   "cell_type": "markdown",
   "metadata": {},
   "source": [
    "## Initial exploration"
   ]
  },
  {
   "cell_type": "code",
   "execution_count": 11,
   "metadata": {
    "scrolled": true
   },
   "outputs": [
    {
     "name": "stdout",
     "output_type": "stream",
     "text": [
      "labels.csv  sample_submission.csv  test  train\r\n"
     ]
    }
   ],
   "source": [
    "!ls {PATH}"
   ]
  },
  {
   "cell_type": "markdown",
   "metadata": {},
   "source": [
    "## Different types of data formats - here it's csv file for image -> label mapping"
   ]
  },
  {
   "cell_type": "code",
   "execution_count": 12,
   "metadata": {},
   "outputs": [],
   "source": [
    "label_df = pd.read_csv(label_csv)"
   ]
  },
  {
   "cell_type": "code",
   "execution_count": 13,
   "metadata": {},
   "outputs": [
    {
     "data": {
      "text/html": [
       "<div>\n",
       "<style scoped>\n",
       "    .dataframe tbody tr th:only-of-type {\n",
       "        vertical-align: middle;\n",
       "    }\n",
       "\n",
       "    .dataframe tbody tr th {\n",
       "        vertical-align: top;\n",
       "    }\n",
       "\n",
       "    .dataframe thead th {\n",
       "        text-align: right;\n",
       "    }\n",
       "</style>\n",
       "<table border=\"1\" class=\"dataframe\">\n",
       "  <thead>\n",
       "    <tr style=\"text-align: right;\">\n",
       "      <th></th>\n",
       "      <th>id</th>\n",
       "      <th>breed</th>\n",
       "    </tr>\n",
       "  </thead>\n",
       "  <tbody>\n",
       "    <tr>\n",
       "      <th>0</th>\n",
       "      <td>000bec180eb18c7604dcecc8fe0dba07</td>\n",
       "      <td>boston_bull</td>\n",
       "    </tr>\n",
       "    <tr>\n",
       "      <th>1</th>\n",
       "      <td>001513dfcb2ffafc82cccf4d8bbaba97</td>\n",
       "      <td>dingo</td>\n",
       "    </tr>\n",
       "    <tr>\n",
       "      <th>2</th>\n",
       "      <td>001cdf01b096e06d78e9e5112d419397</td>\n",
       "      <td>pekinese</td>\n",
       "    </tr>\n",
       "    <tr>\n",
       "      <th>3</th>\n",
       "      <td>00214f311d5d2247d5dfe4fe24b2303d</td>\n",
       "      <td>bluetick</td>\n",
       "    </tr>\n",
       "    <tr>\n",
       "      <th>4</th>\n",
       "      <td>0021f9ceb3235effd7fcde7f7538ed62</td>\n",
       "      <td>golden_retriever</td>\n",
       "    </tr>\n",
       "  </tbody>\n",
       "</table>\n",
       "</div>"
      ],
      "text/plain": [
       "                                 id             breed\n",
       "0  000bec180eb18c7604dcecc8fe0dba07       boston_bull\n",
       "1  001513dfcb2ffafc82cccf4d8bbaba97             dingo\n",
       "2  001cdf01b096e06d78e9e5112d419397          pekinese\n",
       "3  00214f311d5d2247d5dfe4fe24b2303d          bluetick\n",
       "4  0021f9ceb3235effd7fcde7f7538ed62  golden_retriever"
      ]
     },
     "execution_count": 13,
     "metadata": {},
     "output_type": "execute_result"
    }
   ],
   "source": [
    "label_df.head()"
   ]
  },
  {
   "cell_type": "code",
   "execution_count": 14,
   "metadata": {
    "scrolled": true
   },
   "outputs": [
    {
     "data": {
      "text/html": [
       "<div>\n",
       "<style scoped>\n",
       "    .dataframe tbody tr th:only-of-type {\n",
       "        vertical-align: middle;\n",
       "    }\n",
       "\n",
       "    .dataframe tbody tr th {\n",
       "        vertical-align: top;\n",
       "    }\n",
       "\n",
       "    .dataframe thead th {\n",
       "        text-align: right;\n",
       "    }\n",
       "</style>\n",
       "<table border=\"1\" class=\"dataframe\">\n",
       "  <thead>\n",
       "    <tr style=\"text-align: right;\">\n",
       "      <th></th>\n",
       "      <th>id</th>\n",
       "    </tr>\n",
       "    <tr>\n",
       "      <th>breed</th>\n",
       "      <th></th>\n",
       "    </tr>\n",
       "  </thead>\n",
       "  <tbody>\n",
       "    <tr>\n",
       "      <th>scottish_deerhound</th>\n",
       "      <td>126</td>\n",
       "    </tr>\n",
       "    <tr>\n",
       "      <th>maltese_dog</th>\n",
       "      <td>117</td>\n",
       "    </tr>\n",
       "    <tr>\n",
       "      <th>afghan_hound</th>\n",
       "      <td>116</td>\n",
       "    </tr>\n",
       "    <tr>\n",
       "      <th>entlebucher</th>\n",
       "      <td>115</td>\n",
       "    </tr>\n",
       "    <tr>\n",
       "      <th>bernese_mountain_dog</th>\n",
       "      <td>114</td>\n",
       "    </tr>\n",
       "    <tr>\n",
       "      <th>shih-tzu</th>\n",
       "      <td>112</td>\n",
       "    </tr>\n",
       "    <tr>\n",
       "      <th>great_pyrenees</th>\n",
       "      <td>111</td>\n",
       "    </tr>\n",
       "    <tr>\n",
       "      <th>pomeranian</th>\n",
       "      <td>111</td>\n",
       "    </tr>\n",
       "    <tr>\n",
       "      <th>basenji</th>\n",
       "      <td>110</td>\n",
       "    </tr>\n",
       "    <tr>\n",
       "      <th>samoyed</th>\n",
       "      <td>109</td>\n",
       "    </tr>\n",
       "    <tr>\n",
       "      <th>airedale</th>\n",
       "      <td>107</td>\n",
       "    </tr>\n",
       "    <tr>\n",
       "      <th>tibetan_terrier</th>\n",
       "      <td>107</td>\n",
       "    </tr>\n",
       "    <tr>\n",
       "      <th>leonberg</th>\n",
       "      <td>106</td>\n",
       "    </tr>\n",
       "    <tr>\n",
       "      <th>cairn</th>\n",
       "      <td>106</td>\n",
       "    </tr>\n",
       "    <tr>\n",
       "      <th>beagle</th>\n",
       "      <td>105</td>\n",
       "    </tr>\n",
       "    <tr>\n",
       "      <th>japanese_spaniel</th>\n",
       "      <td>105</td>\n",
       "    </tr>\n",
       "    <tr>\n",
       "      <th>australian_terrier</th>\n",
       "      <td>102</td>\n",
       "    </tr>\n",
       "    <tr>\n",
       "      <th>blenheim_spaniel</th>\n",
       "      <td>102</td>\n",
       "    </tr>\n",
       "    <tr>\n",
       "      <th>miniature_pinscher</th>\n",
       "      <td>102</td>\n",
       "    </tr>\n",
       "    <tr>\n",
       "      <th>irish_wolfhound</th>\n",
       "      <td>101</td>\n",
       "    </tr>\n",
       "    <tr>\n",
       "      <th>lakeland_terrier</th>\n",
       "      <td>99</td>\n",
       "    </tr>\n",
       "    <tr>\n",
       "      <th>saluki</th>\n",
       "      <td>99</td>\n",
       "    </tr>\n",
       "    <tr>\n",
       "      <th>papillon</th>\n",
       "      <td>96</td>\n",
       "    </tr>\n",
       "    <tr>\n",
       "      <th>whippet</th>\n",
       "      <td>95</td>\n",
       "    </tr>\n",
       "    <tr>\n",
       "      <th>siberian_husky</th>\n",
       "      <td>95</td>\n",
       "    </tr>\n",
       "    <tr>\n",
       "      <th>norwegian_elkhound</th>\n",
       "      <td>95</td>\n",
       "    </tr>\n",
       "    <tr>\n",
       "      <th>pug</th>\n",
       "      <td>94</td>\n",
       "    </tr>\n",
       "    <tr>\n",
       "      <th>chow</th>\n",
       "      <td>93</td>\n",
       "    </tr>\n",
       "    <tr>\n",
       "      <th>italian_greyhound</th>\n",
       "      <td>92</td>\n",
       "    </tr>\n",
       "    <tr>\n",
       "      <th>pembroke</th>\n",
       "      <td>92</td>\n",
       "    </tr>\n",
       "    <tr>\n",
       "      <th>...</th>\n",
       "      <td>...</td>\n",
       "    </tr>\n",
       "    <tr>\n",
       "      <th>german_short-haired_pointer</th>\n",
       "      <td>75</td>\n",
       "    </tr>\n",
       "    <tr>\n",
       "      <th>boxer</th>\n",
       "      <td>75</td>\n",
       "    </tr>\n",
       "    <tr>\n",
       "      <th>bull_mastiff</th>\n",
       "      <td>75</td>\n",
       "    </tr>\n",
       "    <tr>\n",
       "      <th>borzoi</th>\n",
       "      <td>75</td>\n",
       "    </tr>\n",
       "    <tr>\n",
       "      <th>pekinese</th>\n",
       "      <td>75</td>\n",
       "    </tr>\n",
       "    <tr>\n",
       "      <th>cocker_spaniel</th>\n",
       "      <td>74</td>\n",
       "    </tr>\n",
       "    <tr>\n",
       "      <th>american_staffordshire_terrier</th>\n",
       "      <td>74</td>\n",
       "    </tr>\n",
       "    <tr>\n",
       "      <th>doberman</th>\n",
       "      <td>74</td>\n",
       "    </tr>\n",
       "    <tr>\n",
       "      <th>brittany_spaniel</th>\n",
       "      <td>73</td>\n",
       "    </tr>\n",
       "    <tr>\n",
       "      <th>malinois</th>\n",
       "      <td>73</td>\n",
       "    </tr>\n",
       "    <tr>\n",
       "      <th>standard_schnauzer</th>\n",
       "      <td>72</td>\n",
       "    </tr>\n",
       "    <tr>\n",
       "      <th>flat-coated_retriever</th>\n",
       "      <td>72</td>\n",
       "    </tr>\n",
       "    <tr>\n",
       "      <th>redbone</th>\n",
       "      <td>72</td>\n",
       "    </tr>\n",
       "    <tr>\n",
       "      <th>border_collie</th>\n",
       "      <td>72</td>\n",
       "    </tr>\n",
       "    <tr>\n",
       "      <th>curly-coated_retriever</th>\n",
       "      <td>72</td>\n",
       "    </tr>\n",
       "    <tr>\n",
       "      <th>kuvasz</th>\n",
       "      <td>71</td>\n",
       "    </tr>\n",
       "    <tr>\n",
       "      <th>chihuahua</th>\n",
       "      <td>71</td>\n",
       "    </tr>\n",
       "    <tr>\n",
       "      <th>soft-coated_wheaten_terrier</th>\n",
       "      <td>71</td>\n",
       "    </tr>\n",
       "    <tr>\n",
       "      <th>french_bulldog</th>\n",
       "      <td>70</td>\n",
       "    </tr>\n",
       "    <tr>\n",
       "      <th>vizsla</th>\n",
       "      <td>70</td>\n",
       "    </tr>\n",
       "    <tr>\n",
       "      <th>tibetan_mastiff</th>\n",
       "      <td>69</td>\n",
       "    </tr>\n",
       "    <tr>\n",
       "      <th>german_shepherd</th>\n",
       "      <td>69</td>\n",
       "    </tr>\n",
       "    <tr>\n",
       "      <th>giant_schnauzer</th>\n",
       "      <td>69</td>\n",
       "    </tr>\n",
       "    <tr>\n",
       "      <th>walker_hound</th>\n",
       "      <td>69</td>\n",
       "    </tr>\n",
       "    <tr>\n",
       "      <th>otterhound</th>\n",
       "      <td>69</td>\n",
       "    </tr>\n",
       "    <tr>\n",
       "      <th>golden_retriever</th>\n",
       "      <td>67</td>\n",
       "    </tr>\n",
       "    <tr>\n",
       "      <th>brabancon_griffon</th>\n",
       "      <td>67</td>\n",
       "    </tr>\n",
       "    <tr>\n",
       "      <th>komondor</th>\n",
       "      <td>67</td>\n",
       "    </tr>\n",
       "    <tr>\n",
       "      <th>briard</th>\n",
       "      <td>66</td>\n",
       "    </tr>\n",
       "    <tr>\n",
       "      <th>eskimo_dog</th>\n",
       "      <td>66</td>\n",
       "    </tr>\n",
       "  </tbody>\n",
       "</table>\n",
       "<p>120 rows × 1 columns</p>\n",
       "</div>"
      ],
      "text/plain": [
       "                                 id\n",
       "breed                              \n",
       "scottish_deerhound              126\n",
       "maltese_dog                     117\n",
       "afghan_hound                    116\n",
       "entlebucher                     115\n",
       "bernese_mountain_dog            114\n",
       "shih-tzu                        112\n",
       "great_pyrenees                  111\n",
       "pomeranian                      111\n",
       "basenji                         110\n",
       "samoyed                         109\n",
       "airedale                        107\n",
       "tibetan_terrier                 107\n",
       "leonberg                        106\n",
       "cairn                           106\n",
       "beagle                          105\n",
       "japanese_spaniel                105\n",
       "australian_terrier              102\n",
       "blenheim_spaniel                102\n",
       "miniature_pinscher              102\n",
       "irish_wolfhound                 101\n",
       "lakeland_terrier                 99\n",
       "saluki                           99\n",
       "papillon                         96\n",
       "whippet                          95\n",
       "siberian_husky                   95\n",
       "norwegian_elkhound               95\n",
       "pug                              94\n",
       "chow                             93\n",
       "italian_greyhound                92\n",
       "pembroke                         92\n",
       "...                             ...\n",
       "german_short-haired_pointer      75\n",
       "boxer                            75\n",
       "bull_mastiff                     75\n",
       "borzoi                           75\n",
       "pekinese                         75\n",
       "cocker_spaniel                   74\n",
       "american_staffordshire_terrier   74\n",
       "doberman                         74\n",
       "brittany_spaniel                 73\n",
       "malinois                         73\n",
       "standard_schnauzer               72\n",
       "flat-coated_retriever            72\n",
       "redbone                          72\n",
       "border_collie                    72\n",
       "curly-coated_retriever           72\n",
       "kuvasz                           71\n",
       "chihuahua                        71\n",
       "soft-coated_wheaten_terrier      71\n",
       "french_bulldog                   70\n",
       "vizsla                           70\n",
       "tibetan_mastiff                  69\n",
       "german_shepherd                  69\n",
       "giant_schnauzer                  69\n",
       "walker_hound                     69\n",
       "otterhound                       69\n",
       "golden_retriever                 67\n",
       "brabancon_griffon                67\n",
       "komondor                         67\n",
       "briard                           66\n",
       "eskimo_dog                       66\n",
       "\n",
       "[120 rows x 1 columns]"
      ]
     },
     "execution_count": 14,
     "metadata": {},
     "output_type": "execute_result"
    }
   ],
   "source": [
    "label_df.pivot_table(index=\"breed\", aggfunc=len).sort_values('id', ascending=False)"
   ]
  },
  {
   "cell_type": "code",
   "execution_count": 15,
   "metadata": {
    "run_control": {
     "marked": true
    }
   },
   "outputs": [],
   "source": [
    "#enable data augmentation, passing aug_tfms -> transforms side-ways\n",
    "tfms = tfms_from_model(arch, sz, aug_tfms=transforms_side_on, max_zoom=1.1)\n",
    "# ImageClassifierData.from_csv \n",
    "# no separate validation folder in data !\n",
    "# val_idxs -> cross-validation indexes\n",
    "# suffix -> filenames have .jpg at the end\n",
    "data = ImageClassifierData.from_csv(PATH, 'train', f'{PATH}labels.csv', test_name='test', # we need to specify where the test set is if you want to submit to Kaggle competitions\n",
    "                                   val_idxs=val_idxs, suffix='.jpg', tfms=tfms, bs=bs)"
   ]
  },
  {
   "cell_type": "code",
   "execution_count": 16,
   "metadata": {
    "scrolled": true
   },
   "outputs": [
    {
     "data": {
      "text/plain": [
       "'/home/ubuntu/data/dogbreed/train/001cdf01b096e06d78e9e5112d419397.jpg'"
      ]
     },
     "execution_count": 16,
     "metadata": {},
     "output_type": "execute_result"
    }
   ],
   "source": [
    "fn = PATH + data.trn_ds.fnames[1]; fn"
   ]
  },
  {
   "cell_type": "code",
   "execution_count": 17,
   "metadata": {},
   "outputs": [
    {
     "data": {
      "text/plain": [
       "['/home/ubuntu/data/dogbreed/train/001513dfcb2ffafc82cccf4d8bbaba97.jpg',\n",
       " '/home/ubuntu/data/dogbreed/train/001cdf01b096e06d78e9e5112d419397.jpg',\n",
       " '/home/ubuntu/data/dogbreed/train/0021f9ceb3235effd7fcde7f7538ed62.jpg',\n",
       " '/home/ubuntu/data/dogbreed/train/002211c81b498ef88e1b40b9abf84e1d.jpg',\n",
       " '/home/ubuntu/data/dogbreed/train/00290d3e1fdd27226ba27a8ce248ce85.jpg',\n",
       " '/home/ubuntu/data/dogbreed/train/002a283a315af96eaea0e28e7163b21b.jpg',\n",
       " '/home/ubuntu/data/dogbreed/train/0042188c895a2f14ef64a918ed9c7b64.jpg',\n",
       " '/home/ubuntu/data/dogbreed/train/0067dc3eab0b3c3ef0439477624d85d6.jpg',\n",
       " '/home/ubuntu/data/dogbreed/train/006cc3ddb9dc1bd827479569fcdc52dc.jpg',\n",
       " '/home/ubuntu/data/dogbreed/train/00792e341f3c6eb33663e415d0715370.jpg']"
      ]
     },
     "execution_count": 17,
     "metadata": {},
     "output_type": "execute_result"
    }
   ],
   "source": [
    "files = [PATH + data.trn_ds.fnames[i] for i in range(10)]\n",
    "files\n",
    "#for f in files:\n",
    "#    f\n",
    "#    img = PIL.Image.open(f)\n",
    "#    img.show()\n",
    "    #img"
   ]
  },
  {
   "cell_type": "code",
   "execution_count": 18,
   "metadata": {},
   "outputs": [
    {
     "data": {
      "image/png": "[encoded data removed]",
      "text/plain": [
       "<PIL.JpegImagePlugin.JpegImageFile image mode=RGB size=500x375 at 0x7FE96AEAC940>"
      ]
     },
     "execution_count": 18,
     "metadata": {},
     "output_type": "execute_result"
    }
   ],
   "source": [
    "img = PIL.Image.open(fn); img"
   ]
  },
  {
   "cell_type": "code",
   "execution_count": 19,
   "metadata": {},
   "outputs": [
    {
     "data": {
      "text/plain": [
       "(500, 375)"
      ]
     },
     "execution_count": 19,
     "metadata": {},
     "output_type": "execute_result"
    }
   ],
   "source": [
    "img.size"
   ]
  },
  {
   "cell_type": "code",
   "execution_count": 20,
   "metadata": {},
   "outputs": [],
   "source": [
    "# dictionary comprehension\n",
    "size_d = {k: PIL.Image.open(PATH + k).size for k in data.trn_ds.fnames}"
   ]
  },
  {
   "cell_type": "code",
   "execution_count": 21,
   "metadata": {},
   "outputs": [],
   "source": [
    "#*size_d.values()\n",
    "# python-starred-expression\n",
    "# http://yaoyao.codes/python/2016/09/25/python-starred-expression\n",
    "row_sz, col_sz = list(zip(*size_d.values()))"
   ]
  },
  {
   "cell_type": "code",
   "execution_count": 22,
   "metadata": {},
   "outputs": [],
   "source": [
    "row_sz = np.array(row_sz); col_sz = np.array(col_sz)"
   ]
  },
  {
   "cell_type": "code",
   "execution_count": 23,
   "metadata": {},
   "outputs": [
    {
     "data": {
      "text/plain": [
       "array([500, 500, 500, 500, 500])"
      ]
     },
     "execution_count": 23,
     "metadata": {},
     "output_type": "execute_result"
    }
   ],
   "source": [
    "row_sz[:5]"
   ]
  },
  {
   "cell_type": "code",
   "execution_count": 24,
   "metadata": {},
   "outputs": [
    {
     "data": {
      "image/png": "[encoded data removed]",
      "text/plain": [
       "<Figure size 432x288 with 1 Axes>"
      ]
     },
     "metadata": {
      "needs_background": "light"
     },
     "output_type": "display_data"
    }
   ],
   "source": [
    "# histogram how high the images are\n",
    "plt.hist(row_sz);"
   ]
  },
  {
   "cell_type": "code",
   "execution_count": 25,
   "metadata": {
    "scrolled": true
   },
   "outputs": [
    {
     "data": {
      "text/plain": [
       "(array([ 135.,  592., 1347., 1164., 4599.,  128.,   76.,   62.,   14.,   11.]),\n",
       " array([ 97. , 185.5, 274. , 362.5, 451. , 539.5, 628. , 716.5, 805. , 893.5, 982. ]),\n",
       " <a list of 10 Patch objects>)"
      ]
     },
     "execution_count": 25,
     "metadata": {},
     "output_type": "execute_result"
    },
    {
     "data": {
      "image/png": "[encoded data removed]",
      "text/plain": [
       "<Figure size 432x288 with 1 Axes>"
      ]
     },
     "metadata": {
      "needs_background": "light"
     },
     "output_type": "display_data"
    }
   ],
   "source": [
    "plt.hist(row_sz[row_sz < 1000])"
   ]
  },
  {
   "cell_type": "code",
   "execution_count": 26,
   "metadata": {},
   "outputs": [
    {
     "data": {
      "image/png": "[encoded data removed]",
      "text/plain": [
       "<Figure size 432x288 with 1 Axes>"
      ]
     },
     "metadata": {
      "needs_background": "light"
     },
     "output_type": "display_data"
    }
   ],
   "source": [
    "plt.hist(col_sz);"
   ]
  },
  {
   "cell_type": "code",
   "execution_count": 27,
   "metadata": {
    "scrolled": false
   },
   "outputs": [
    {
     "data": {
      "text/plain": [
       "(array([ 235.,  733., 2205., 2979., 1807.,   98.,   27.,   33.,    7.,   10.]),\n",
       " array([102., 190., 278., 366., 454., 542., 630., 718., 806., 894., 982.]),\n",
       " <a list of 10 Patch objects>)"
      ]
     },
     "execution_count": 27,
     "metadata": {},
     "output_type": "execute_result"
    },
    {
     "data": {
      "image/png": "[encoded data removed]",
      "text/plain": [
       "<Figure size 432x288 with 1 Axes>"
      ]
     },
     "metadata": {
      "needs_background": "light"
     },
     "output_type": "display_data"
    }
   ],
   "source": [
    "plt.hist(col_sz[col_sz < 1000])"
   ]
  },
  {
   "cell_type": "code",
   "execution_count": 28,
   "metadata": {
    "scrolled": true
   },
   "outputs": [
    {
     "data": {
      "text/plain": [
       "(8178, 10357)"
      ]
     },
     "execution_count": 28,
     "metadata": {},
     "output_type": "execute_result"
    }
   ],
   "source": [
    "len(data.trn_ds), len(data.test_ds)"
   ]
  },
  {
   "cell_type": "code",
   "execution_count": 29,
   "metadata": {},
   "outputs": [
    {
     "data": {
      "text/plain": [
       "(120,\n",
       " ['affenpinscher',\n",
       "  'afghan_hound',\n",
       "  'african_hunting_dog',\n",
       "  'airedale',\n",
       "  'american_staffordshire_terrier'])"
      ]
     },
     "execution_count": 29,
     "metadata": {},
     "output_type": "execute_result"
    }
   ],
   "source": [
    "len(data.classes), data.classes[:5]"
   ]
  },
  {
   "cell_type": "markdown",
   "metadata": {},
   "source": [
    "## Initial model"
   ]
  },
  {
   "cell_type": "code",
   "execution_count": 30,
   "metadata": {},
   "outputs": [],
   "source": [
    "# function for resizing data - we start with small images, later on we can go with larger.\n",
    "# But we can get Cuda OOM -> so we lower the batch-size\n",
    "def get_data(sz, bs): # sz: image size, bs: batch size\n",
    "    tfms = tfms_from_model(arch, sz, aug_tfms=transforms_side_on, max_zoom=1.1)\n",
    "    data = ImageClassifierData.from_csv(PATH, 'train', f'{PATH}labels.csv', test_name='test',\n",
    "                                       val_idxs=val_idxs, suffix='.jpg', tfms=tfms, bs=bs)\n",
    "    \n",
    "    # http://forums.fast.ai/t/how-to-train-on-the-full-dataset-using-imageclassifierdata-from-csv/7761/13\n",
    "    # http://forums.fast.ai/t/how-to-train-on-the-full-dataset-using-imageclassifierdata-from-csv/7761/37\n",
    "    return data if sz > 300 else data.resize(340, 'tmp') # Reading the jpgs and resizing is slow for big images, so resizing them all to 340 first saves time\n",
    "\n",
    "#Source:   \n",
    "#    def resize(self, targ, new_path):\n",
    "#        new_ds = []\n",
    "#        dls = [self.trn_dl,self.val_dl,self.fix_dl,self.aug_dl]\n",
    "#        if self.test_dl: dls += [self.test_dl, self.test_aug_dl]\n",
    "#        else: dls += [None,None]\n",
    "#        t = tqdm_notebook(dls)\n",
    "#        for dl in t: new_ds.append(self.resized(dl, targ, new_path))\n",
    "#        t.close()\n",
    "#        return self.__class__(new_ds[0].path, new_ds, self.bs, self.num_workers, self.classes)\n",
    "#File:      ~/fastai/courses/dl1/fastai/dataset.py"
   ]
  },
  {
   "cell_type": "markdown",
   "metadata": {},
   "source": [
    "### Precompute"
   ]
  },
  {
   "cell_type": "code",
   "execution_count": 31,
   "metadata": {},
   "outputs": [
    {
     "data": {
      "application/vnd.jupyter.widget-view+json": {
       "model_id": "a1c0d27e01ed4f0fbf8e513b15d7db05",
       "version_major": 2,
       "version_minor": 0
      },
      "text/plain": [
       "HBox(children=(IntProgress(value=0, max=6), HTML(value='')))"
      ]
     },
     "metadata": {},
     "output_type": "display_data"
    },
    {
     "name": "stdout",
     "output_type": "stream",
     "text": [
      "                                                      \n"
     ]
    }
   ],
   "source": [
    "data = get_data(sz, bs)"
   ]
  },
  {
   "cell_type": "code",
   "execution_count": 32,
   "metadata": {},
   "outputs": [
    {
     "name": "stdout",
     "output_type": "stream",
     "text": [
      "100%|██████████| 141/141 [01:20<00:00,  3.43it/s]\n",
      "100%|██████████| 36/36 [00:11<00:00,  3.26it/s]\n",
      "100%|██████████| 179/179 [00:55<00:00,  3.96it/s]\n"
     ]
    }
   ],
   "source": [
    "learn = ConvLearner.pretrained(arch, data, precompute=True)"
   ]
  },
  {
   "cell_type": "code",
   "execution_count": 33,
   "metadata": {},
   "outputs": [
    {
     "data": {
      "application/vnd.jupyter.widget-view+json": {
       "model_id": "43b0b0002b81482d85edfd821630b472",
       "version_major": 2,
       "version_minor": 0
      },
      "text/plain": [
       "HBox(children=(IntProgress(value=0, description='Epoch', max=5), HTML(value='')))"
      ]
     },
     "metadata": {},
     "output_type": "display_data"
    },
    {
     "name": "stdout",
     "output_type": "stream",
     "text": [
      "epoch      trn_loss   val_loss   accuracy                   \n",
      "    0      0.93067    0.401094   0.90411   \n",
      "    1      0.434837   0.293668   0.919765                    \n",
      "    2      0.291274   0.274131   0.919276                    \n",
      "    3      0.233052   0.254534   0.923679                    \n",
      "    4      0.179266   0.253613   0.920744                    \n",
      "\n"
     ]
    },
    {
     "data": {
      "text/plain": [
       "[array([0.25361]), 0.9207436430710869]"
      ]
     },
     "execution_count": 33,
     "metadata": {},
     "output_type": "execute_result"
    }
   ],
   "source": [
    "# basic fit , 5 epochs\n",
    "# epoch - 1 cycle through the data\n",
    "# cyccle -> how many epoch in a cycle\n",
    "learn.fit(1e-2, 5)"
   ]
  },
  {
   "cell_type": "markdown",
   "metadata": {},
   "source": [
    "### Augment"
   ]
  },
  {
   "cell_type": "code",
   "execution_count": 34,
   "metadata": {},
   "outputs": [],
   "source": [
    "from sklearn import metrics"
   ]
  },
  {
   "cell_type": "code",
   "execution_count": 35,
   "metadata": {},
   "outputs": [
    {
     "data": {
      "application/vnd.jupyter.widget-view+json": {
       "model_id": "207dae60cea9464ab1eed5b2abad169a",
       "version_major": 2,
       "version_minor": 0
      },
      "text/plain": [
       "HBox(children=(IntProgress(value=0, max=6), HTML(value='')))"
      ]
     },
     "metadata": {},
     "output_type": "display_data"
    },
    {
     "name": "stdout",
     "output_type": "stream",
     "text": [
      "\n"
     ]
    }
   ],
   "source": [
    "data = get_data(sz, bs)"
   ]
  },
  {
   "cell_type": "code",
   "execution_count": 36,
   "metadata": {},
   "outputs": [],
   "source": [
    "# ps = p's (percents for dropouts)  \n",
    "learn = ConvLearner.pretrained(arch, data, precompute=True, ps=0.5)"
   ]
  },
  {
   "cell_type": "code",
   "execution_count": 37,
   "metadata": {},
   "outputs": [
    {
     "data": {
      "application/vnd.jupyter.widget-view+json": {
       "model_id": "1b2ae270b70e40948c53b1e057366b8d",
       "version_major": 2,
       "version_minor": 0
      },
      "text/plain": [
       "HBox(children=(IntProgress(value=0, description='Epoch', max=2), HTML(value='')))"
      ]
     },
     "metadata": {},
     "output_type": "display_data"
    },
    {
     "name": "stdout",
     "output_type": "stream",
     "text": [
      "epoch      trn_loss   val_loss   accuracy                   \n",
      "    0      1.130612   0.430625   0.899217  \n",
      "    1      0.527742   0.316451   0.907045                    \n",
      "\n"
     ]
    },
    {
     "data": {
      "text/plain": [
       "[array([0.31645]), 0.907045015733536]"
      ]
     },
     "execution_count": 37,
     "metadata": {},
     "output_type": "execute_result"
    }
   ],
   "source": [
    "learn.fit(1e-2, 2)"
   ]
  },
  {
   "cell_type": "code",
   "execution_count": 38,
   "metadata": {},
   "outputs": [],
   "source": [
    "learn.precompute = False"
   ]
  },
  {
   "cell_type": "code",
   "execution_count": 39,
   "metadata": {},
   "outputs": [
    {
     "data": {
      "application/vnd.jupyter.widget-view+json": {
       "model_id": "f6c31fd2a7924e919ed70cde1a7995d3",
       "version_major": 2,
       "version_minor": 0
      },
      "text/plain": [
       "HBox(children=(IntProgress(value=0, description='Epoch', max=5), HTML(value='')))"
      ]
     },
     "metadata": {},
     "output_type": "display_data"
    },
    {
     "name": "stdout",
     "output_type": "stream",
     "text": [
      "epoch      trn_loss   val_loss   accuracy                    \n",
      "    0      0.476226   0.284914   0.917808  \n",
      "    1      0.439072   0.26991    0.918297                    \n",
      "    2      0.397528   0.265665   0.913405                    \n",
      "    3      0.349829   0.254298   0.919276                    \n",
      "    4      0.326676   0.245816   0.920254                    \n",
      "\n"
     ]
    },
    {
     "data": {
      "text/plain": [
       "[array([0.24582]), 0.920254406863696]"
      ]
     },
     "execution_count": 39,
     "metadata": {},
     "output_type": "execute_result"
    }
   ],
   "source": [
    "learn.fit(1e-2, 5, cycle_len=1)"
   ]
  },
  {
   "cell_type": "code",
   "execution_count": 40,
   "metadata": {},
   "outputs": [],
   "source": [
    "learn.save('dogbreed_224_pre')"
   ]
  },
  {
   "cell_type": "code",
   "execution_count": 41,
   "metadata": {},
   "outputs": [],
   "source": [
    "learn.load('dogbreed_224_pre')"
   ]
  },
  {
   "cell_type": "code",
   "execution_count": 42,
   "metadata": {},
   "outputs": [
    {
     "data": {
      "application/vnd.jupyter.widget-view+json": {
       "model_id": "4eb246008d1744948c0e0eabe81629d1",
       "version_major": 2,
       "version_minor": 0
      },
      "text/plain": [
       "HBox(children=(IntProgress(value=0, description='Epoch', max=1), HTML(value='')))"
      ]
     },
     "metadata": {},
     "output_type": "display_data"
    },
    {
     "name": "stdout",
     "output_type": "stream",
     "text": [
      " 84%|████████▍ | 119/141 [00:36<00:06,  3.49it/s, loss=0.881]"
     ]
    }
   ],
   "source": [
    "lrf=learn.lr_find()"
   ]
  },
  {
   "cell_type": "code",
   "execution_count": 43,
   "metadata": {},
   "outputs": [
    {
     "data": {
      "image/png": "[encoded data removed]",
      "text/plain": [
       "<Figure size 432x288 with 1 Axes>"
      ]
     },
     "metadata": {
      "needs_background": "light"
     },
     "output_type": "display_data"
    }
   ],
   "source": [
    "learn.sched.plot_lr()"
   ]
  },
  {
   "cell_type": "code",
   "execution_count": 44,
   "metadata": {},
   "outputs": [
    {
     "data": {
      "image/png": "[encoded data removed]",
      "text/plain": [
       "<Figure size 432x288 with 1 Axes>"
      ]
     },
     "metadata": {
      "needs_background": "light"
     },
     "output_type": "display_data"
    }
   ],
   "source": [
    "learn.sched.plot()"
   ]
  },
  {
   "cell_type": "markdown",
   "metadata": {},
   "source": [
    "## Increase size"
   ]
  },
  {
   "cell_type": "code",
   "execution_count": 45,
   "metadata": {
    "scrolled": true
   },
   "outputs": [
    {
     "data": {
      "application/vnd.jupyter.widget-view+json": {
       "model_id": "be41aef7be0c4b179d55a70af45ff9aa",
       "version_major": 2,
       "version_minor": 0
      },
      "text/plain": [
       "HBox(children=(IntProgress(value=0, max=6), HTML(value='')))"
      ]
     },
     "metadata": {},
     "output_type": "display_data"
    }
   ],
   "source": [
    "# Starting training on small images for a few epochs, then switching to bigger images, and continuing training is an amazingly effective way to avoid overfitting.\n",
    "\n",
    "# http://forums.fast.ai/t/planet-classification-challenge/7824/96\n",
    "# set_data doesn’t change the model at all. It just gives it new data to train with.\n",
    "learn.set_data(get_data(299, bs)) \n",
    "learn.freeze()\n",
    "\n",
    "#Source:   \n",
    "#    def set_data(self, data, precompute=False):\n",
    "#        super().set_data(data)\n",
    "#        if precompute:\n",
    "#            self.unfreeze()\n",
    "#            self.save_fc1()\n",
    "#            self.freeze()\n",
    "#            self.precompute = True\n",
    "#        else:\n",
    "#            self.freeze()\n",
    "#File:      ~/fastai/courses/dl1/fastai/conv_learner.py"
   ]
  },
  {
   "cell_type": "code",
   "execution_count": 46,
   "metadata": {},
   "outputs": [
    {
     "data": {
      "text/plain": [
       "OrderedDict([('Conv2d-1',\n",
       "              OrderedDict([('input_shape', [-1, 3, 299, 299]),\n",
       "                           ('output_shape', [-1, 64, 150, 150]),\n",
       "                           ('trainable', False),\n",
       "                           ('nb_params', 9408)])),\n",
       "             ('BatchNorm2d-2',\n",
       "              OrderedDict([('input_shape', [-1, 64, 150, 150]),\n",
       "                           ('output_shape', [-1, 64, 150, 150]),\n",
       "                           ('trainable', False),\n",
       "                           ('nb_params', 128)])),\n",
       "             ('ReLU-3',\n",
       "              OrderedDict([('input_shape', [-1, 64, 150, 150]),\n",
       "                           ('output_shape', [-1, 64, 150, 150]),\n",
       "                           ('nb_params', 0)])),\n",
       "             ('MaxPool2d-4',\n",
       "              OrderedDict([('input_shape', [-1, 64, 150, 150]),\n",
       "                           ('output_shape', [-1, 64, 75, 75]),\n",
       "                           ('nb_params', 0)])),\n",
       "             ('Conv2d-5',\n",
       "              OrderedDict([('input_shape', [-1, 64, 75, 75]),\n",
       "                           ('output_shape', [-1, 256, 75, 75]),\n",
       "                           ('trainable', False),\n",
       "                           ('nb_params', 16384)])),\n",
       "             ('BatchNorm2d-6',\n",
       "              OrderedDict([('input_shape', [-1, 256, 75, 75]),\n",
       "                           ('output_shape', [-1, 256, 75, 75]),\n",
       "                           ('trainable', False),\n",
       "                           ('nb_params', 512)])),\n",
       "             ('ReLU-7',\n",
       "              OrderedDict([('input_shape', [-1, 256, 75, 75]),\n",
       "                           ('output_shape', [-1, 256, 75, 75]),\n",
       "                           ('nb_params', 0)])),\n",
       "             ('Conv2d-8',\n",
       "              OrderedDict([('input_shape', [-1, 256, 75, 75]),\n",
       "                           ('output_shape', [-1, 256, 75, 75]),\n",
       "                           ('trainable', False),\n",
       "                           ('nb_params', 9216)])),\n",
       "             ('BatchNorm2d-9',\n",
       "              OrderedDict([('input_shape', [-1, 256, 75, 75]),\n",
       "                           ('output_shape', [-1, 256, 75, 75]),\n",
       "                           ('trainable', False),\n",
       "                           ('nb_params', 512)])),\n",
       "             ('ReLU-10',\n",
       "              OrderedDict([('input_shape', [-1, 256, 75, 75]),\n",
       "                           ('output_shape', [-1, 256, 75, 75]),\n",
       "                           ('nb_params', 0)])),\n",
       "             ('Conv2d-11',\n",
       "              OrderedDict([('input_shape', [-1, 256, 75, 75]),\n",
       "                           ('output_shape', [-1, 256, 75, 75]),\n",
       "                           ('trainable', False),\n",
       "                           ('nb_params', 65536)])),\n",
       "             ('BatchNorm2d-12',\n",
       "              OrderedDict([('input_shape', [-1, 256, 75, 75]),\n",
       "                           ('output_shape', [-1, 256, 75, 75]),\n",
       "                           ('trainable', False),\n",
       "                           ('nb_params', 512)])),\n",
       "             ('Conv2d-13',\n",
       "              OrderedDict([('input_shape', [-1, 64, 75, 75]),\n",
       "                           ('output_shape', [-1, 256, 75, 75]),\n",
       "                           ('trainable', False),\n",
       "                           ('nb_params', 16384)])),\n",
       "             ('BatchNorm2d-14',\n",
       "              OrderedDict([('input_shape', [-1, 256, 75, 75]),\n",
       "                           ('output_shape', [-1, 256, 75, 75]),\n",
       "                           ('trainable', False),\n",
       "                           ('nb_params', 512)])),\n",
       "             ('ReLU-15',\n",
       "              OrderedDict([('input_shape', [-1, 256, 75, 75]),\n",
       "                           ('output_shape', [-1, 256, 75, 75]),\n",
       "                           ('nb_params', 0)])),\n",
       "             ('Conv2d-16',\n",
       "              OrderedDict([('input_shape', [-1, 256, 75, 75]),\n",
       "                           ('output_shape', [-1, 256, 75, 75]),\n",
       "                           ('trainable', False),\n",
       "                           ('nb_params', 65536)])),\n",
       "             ('BatchNorm2d-17',\n",
       "              OrderedDict([('input_shape', [-1, 256, 75, 75]),\n",
       "                           ('output_shape', [-1, 256, 75, 75]),\n",
       "                           ('trainable', False),\n",
       "                           ('nb_params', 512)])),\n",
       "             ('ReLU-18',\n",
       "              OrderedDict([('input_shape', [-1, 256, 75, 75]),\n",
       "                           ('output_shape', [-1, 256, 75, 75]),\n",
       "                           ('nb_params', 0)])),\n",
       "             ('Conv2d-19',\n",
       "              OrderedDict([('input_shape', [-1, 256, 75, 75]),\n",
       "                           ('output_shape', [-1, 256, 75, 75]),\n",
       "                           ('trainable', False),\n",
       "                           ('nb_params', 9216)])),\n",
       "             ('BatchNorm2d-20',\n",
       "              OrderedDict([('input_shape', [-1, 256, 75, 75]),\n",
       "                           ('output_shape', [-1, 256, 75, 75]),\n",
       "                           ('trainable', False),\n",
       "                           ('nb_params', 512)])),\n",
       "             ('ReLU-21',\n",
       "              OrderedDict([('input_shape', [-1, 256, 75, 75]),\n",
       "                           ('output_shape', [-1, 256, 75, 75]),\n",
       "                           ('nb_params', 0)])),\n",
       "             ('Conv2d-22',\n",
       "              OrderedDict([('input_shape', [-1, 256, 75, 75]),\n",
       "                           ('output_shape', [-1, 256, 75, 75]),\n",
       "                           ('trainable', False),\n",
       "                           ('nb_params', 65536)])),\n",
       "             ('BatchNorm2d-23',\n",
       "              OrderedDict([('input_shape', [-1, 256, 75, 75]),\n",
       "                           ('output_shape', [-1, 256, 75, 75]),\n",
       "                           ('trainable', False),\n",
       "                           ('nb_params', 512)])),\n",
       "             ('ReLU-24',\n",
       "              OrderedDict([('input_shape', [-1, 256, 75, 75]),\n",
       "                           ('output_shape', [-1, 256, 75, 75]),\n",
       "                           ('nb_params', 0)])),\n",
       "             ('Conv2d-25',\n",
       "              OrderedDict([('input_shape', [-1, 256, 75, 75]),\n",
       "                           ('output_shape', [-1, 256, 75, 75]),\n",
       "                           ('trainable', False),\n",
       "                           ('nb_params', 65536)])),\n",
       "             ('BatchNorm2d-26',\n",
       "              OrderedDict([('input_shape', [-1, 256, 75, 75]),\n",
       "                           ('output_shape', [-1, 256, 75, 75]),\n",
       "                           ('trainable', False),\n",
       "                           ('nb_params', 512)])),\n",
       "             ('ReLU-27',\n",
       "              OrderedDict([('input_shape', [-1, 256, 75, 75]),\n",
       "                           ('output_shape', [-1, 256, 75, 75]),\n",
       "                           ('nb_params', 0)])),\n",
       "             ('Conv2d-28',\n",
       "              OrderedDict([('input_shape', [-1, 256, 75, 75]),\n",
       "                           ('output_shape', [-1, 256, 75, 75]),\n",
       "                           ('trainable', False),\n",
       "                           ('nb_params', 9216)])),\n",
       "             ('BatchNorm2d-29',\n",
       "              OrderedDict([('input_shape', [-1, 256, 75, 75]),\n",
       "                           ('output_shape', [-1, 256, 75, 75]),\n",
       "                           ('trainable', False),\n",
       "                           ('nb_params', 512)])),\n",
       "             ('ReLU-30',\n",
       "              OrderedDict([('input_shape', [-1, 256, 75, 75]),\n",
       "                           ('output_shape', [-1, 256, 75, 75]),\n",
       "                           ('nb_params', 0)])),\n",
       "             ('Conv2d-31',\n",
       "              OrderedDict([('input_shape', [-1, 256, 75, 75]),\n",
       "                           ('output_shape', [-1, 256, 75, 75]),\n",
       "                           ('trainable', False),\n",
       "                           ('nb_params', 65536)])),\n",
       "             ('BatchNorm2d-32',\n",
       "              OrderedDict([('input_shape', [-1, 256, 75, 75]),\n",
       "                           ('output_shape', [-1, 256, 75, 75]),\n",
       "                           ('trainable', False),\n",
       "                           ('nb_params', 512)])),\n",
       "             ('ReLU-33',\n",
       "              OrderedDict([('input_shape', [-1, 256, 75, 75]),\n",
       "                           ('output_shape', [-1, 256, 75, 75]),\n",
       "                           ('nb_params', 0)])),\n",
       "             ('Conv2d-34',\n",
       "              OrderedDict([('input_shape', [-1, 256, 75, 75]),\n",
       "                           ('output_shape', [-1, 512, 75, 75]),\n",
       "                           ('trainable', False),\n",
       "                           ('nb_params', 131072)])),\n",
       "             ('BatchNorm2d-35',\n",
       "              OrderedDict([('input_shape', [-1, 512, 75, 75]),\n",
       "                           ('output_shape', [-1, 512, 75, 75]),\n",
       "                           ('trainable', False),\n",
       "                           ('nb_params', 1024)])),\n",
       "             ('ReLU-36',\n",
       "              OrderedDict([('input_shape', [-1, 512, 75, 75]),\n",
       "                           ('output_shape', [-1, 512, 75, 75]),\n",
       "                           ('nb_params', 0)])),\n",
       "             ('Conv2d-37',\n",
       "              OrderedDict([('input_shape', [-1, 512, 75, 75]),\n",
       "                           ('output_shape', [-1, 512, 38, 38]),\n",
       "                           ('trainable', False),\n",
       "                           ('nb_params', 36864)])),\n",
       "             ('BatchNorm2d-38',\n",
       "              OrderedDict([('input_shape', [-1, 512, 38, 38]),\n",
       "                           ('output_shape', [-1, 512, 38, 38]),\n",
       "                           ('trainable', False),\n",
       "                           ('nb_params', 1024)])),\n",
       "             ('ReLU-39',\n",
       "              OrderedDict([('input_shape', [-1, 512, 38, 38]),\n",
       "                           ('output_shape', [-1, 512, 38, 38]),\n",
       "                           ('nb_params', 0)])),\n",
       "             ('Conv2d-40',\n",
       "              OrderedDict([('input_shape', [-1, 512, 38, 38]),\n",
       "                           ('output_shape', [-1, 512, 38, 38]),\n",
       "                           ('trainable', False),\n",
       "                           ('nb_params', 262144)])),\n",
       "             ('BatchNorm2d-41',\n",
       "              OrderedDict([('input_shape', [-1, 512, 38, 38]),\n",
       "                           ('output_shape', [-1, 512, 38, 38]),\n",
       "                           ('trainable', False),\n",
       "                           ('nb_params', 1024)])),\n",
       "             ('Conv2d-42',\n",
       "              OrderedDict([('input_shape', [-1, 256, 75, 75]),\n",
       "                           ('output_shape', [-1, 512, 38, 38]),\n",
       "                           ('trainable', False),\n",
       "                           ('nb_params', 131072)])),\n",
       "             ('BatchNorm2d-43',\n",
       "              OrderedDict([('input_shape', [-1, 512, 38, 38]),\n",
       "                           ('output_shape', [-1, 512, 38, 38]),\n",
       "                           ('trainable', False),\n",
       "                           ('nb_params', 1024)])),\n",
       "             ('ReLU-44',\n",
       "              OrderedDict([('input_shape', [-1, 512, 38, 38]),\n",
       "                           ('output_shape', [-1, 512, 38, 38]),\n",
       "                           ('nb_params', 0)])),\n",
       "             ('Conv2d-45',\n",
       "              OrderedDict([('input_shape', [-1, 512, 38, 38]),\n",
       "                           ('output_shape', [-1, 512, 38, 38]),\n",
       "                           ('trainable', False),\n",
       "                           ('nb_params', 262144)])),\n",
       "             ('BatchNorm2d-46',\n",
       "              OrderedDict([('input_shape', [-1, 512, 38, 38]),\n",
       "                           ('output_shape', [-1, 512, 38, 38]),\n",
       "                           ('trainable', False),\n",
       "                           ('nb_params', 1024)])),\n",
       "             ('ReLU-47',\n",
       "              OrderedDict([('input_shape', [-1, 512, 38, 38]),\n",
       "                           ('output_shape', [-1, 512, 38, 38]),\n",
       "                           ('nb_params', 0)])),\n",
       "             ('Conv2d-48',\n",
       "              OrderedDict([('input_shape', [-1, 512, 38, 38]),\n",
       "                           ('output_shape', [-1, 512, 38, 38]),\n",
       "                           ('trainable', False),\n",
       "                           ('nb_params', 36864)])),\n",
       "             ('BatchNorm2d-49',\n",
       "              OrderedDict([('input_shape', [-1, 512, 38, 38]),\n",
       "                           ('output_shape', [-1, 512, 38, 38]),\n",
       "                           ('trainable', False),\n",
       "                           ('nb_params', 1024)])),\n",
       "             ('ReLU-50',\n",
       "              OrderedDict([('input_shape', [-1, 512, 38, 38]),\n",
       "                           ('output_shape', [-1, 512, 38, 38]),\n",
       "                           ('nb_params', 0)])),\n",
       "             ('Conv2d-51',\n",
       "              OrderedDict([('input_shape', [-1, 512, 38, 38]),\n",
       "                           ('output_shape', [-1, 512, 38, 38]),\n",
       "                           ('trainable', False),\n",
       "                           ('nb_params', 262144)])),\n",
       "             ('BatchNorm2d-52',\n",
       "              OrderedDict([('input_shape', [-1, 512, 38, 38]),\n",
       "                           ('output_shape', [-1, 512, 38, 38]),\n",
       "                           ('trainable', False),\n",
       "                           ('nb_params', 1024)])),\n",
       "             ('ReLU-53',\n",
       "              OrderedDict([('input_shape', [-1, 512, 38, 38]),\n",
       "                           ('output_shape', [-1, 512, 38, 38]),\n",
       "                           ('nb_params', 0)])),\n",
       "             ('Conv2d-54',\n",
       "              OrderedDict([('input_shape', [-1, 512, 38, 38]),\n",
       "                           ('output_shape', [-1, 512, 38, 38]),\n",
       "                           ('trainable', False),\n",
       "                           ('nb_params', 262144)])),\n",
       "             ('BatchNorm2d-55',\n",
       "              OrderedDict([('input_shape', [-1, 512, 38, 38]),\n",
       "                           ('output_shape', [-1, 512, 38, 38]),\n",
       "                           ('trainable', False),\n",
       "                           ('nb_params', 1024)])),\n",
       "             ('ReLU-56',\n",
       "              OrderedDict([('input_shape', [-1, 512, 38, 38]),\n",
       "                           ('output_shape', [-1, 512, 38, 38]),\n",
       "                           ('nb_params', 0)])),\n",
       "             ('Conv2d-57',\n",
       "              OrderedDict([('input_shape', [-1, 512, 38, 38]),\n",
       "                           ('output_shape', [-1, 512, 38, 38]),\n",
       "                           ('trainable', False),\n",
       "                           ('nb_params', 36864)])),\n",
       "             ('BatchNorm2d-58',\n",
       "              OrderedDict([('input_shape', [-1, 512, 38, 38]),\n",
       "                           ('output_shape', [-1, 512, 38, 38]),\n",
       "                           ('trainable', False),\n",
       "                           ('nb_params', 1024)])),\n",
       "             ('ReLU-59',\n",
       "              OrderedDict([('input_shape', [-1, 512, 38, 38]),\n",
       "                           ('output_shape', [-1, 512, 38, 38]),\n",
       "                           ('nb_params', 0)])),\n",
       "             ('Conv2d-60',\n",
       "              OrderedDict([('input_shape', [-1, 512, 38, 38]),\n",
       "                           ('output_shape', [-1, 512, 38, 38]),\n",
       "                           ('trainable', False),\n",
       "                           ('nb_params', 262144)])),\n",
       "             ('BatchNorm2d-61',\n",
       "              OrderedDict([('input_shape', [-1, 512, 38, 38]),\n",
       "                           ('output_shape', [-1, 512, 38, 38]),\n",
       "                           ('trainable', False),\n",
       "                           ('nb_params', 1024)])),\n",
       "             ('ReLU-62',\n",
       "              OrderedDict([('input_shape', [-1, 512, 38, 38]),\n",
       "                           ('output_shape', [-1, 512, 38, 38]),\n",
       "                           ('nb_params', 0)])),\n",
       "             ('Conv2d-63',\n",
       "              OrderedDict([('input_shape', [-1, 512, 38, 38]),\n",
       "                           ('output_shape', [-1, 512, 38, 38]),\n",
       "                           ('trainable', False),\n",
       "                           ('nb_params', 262144)])),\n",
       "             ('BatchNorm2d-64',\n",
       "              OrderedDict([('input_shape', [-1, 512, 38, 38]),\n",
       "                           ('output_shape', [-1, 512, 38, 38]),\n",
       "                           ('trainable', False),\n",
       "                           ('nb_params', 1024)])),\n",
       "             ('ReLU-65',\n",
       "              OrderedDict([('input_shape', [-1, 512, 38, 38]),\n",
       "                           ('output_shape', [-1, 512, 38, 38]),\n",
       "                           ('nb_params', 0)])),\n",
       "             ('Conv2d-66',\n",
       "              OrderedDict([('input_shape', [-1, 512, 38, 38]),\n",
       "                           ('output_shape', [-1, 512, 38, 38]),\n",
       "                           ('trainable', False),\n",
       "                           ('nb_params', 36864)])),\n",
       "             ('BatchNorm2d-67',\n",
       "              OrderedDict([('input_shape', [-1, 512, 38, 38]),\n",
       "                           ('output_shape', [-1, 512, 38, 38]),\n",
       "                           ('trainable', False),\n",
       "                           ('nb_params', 1024)])),\n",
       "             ('ReLU-68',\n",
       "              OrderedDict([('input_shape', [-1, 512, 38, 38]),\n",
       "                           ('output_shape', [-1, 512, 38, 38]),\n",
       "                           ('nb_params', 0)])),\n",
       "             ('Conv2d-69',\n",
       "              OrderedDict([('input_shape', [-1, 512, 38, 38]),\n",
       "                           ('output_shape', [-1, 512, 38, 38]),\n",
       "                           ('trainable', False),\n",
       "                           ('nb_params', 262144)])),\n",
       "             ('BatchNorm2d-70',\n",
       "              OrderedDict([('input_shape', [-1, 512, 38, 38]),\n",
       "                           ('output_shape', [-1, 512, 38, 38]),\n",
       "                           ('trainable', False),\n",
       "                           ('nb_params', 1024)])),\n",
       "             ('ReLU-71',\n",
       "              OrderedDict([('input_shape', [-1, 512, 38, 38]),\n",
       "                           ('output_shape', [-1, 512, 38, 38]),\n",
       "                           ('nb_params', 0)])),\n",
       "             ('Conv2d-72',\n",
       "              OrderedDict([('input_shape', [-1, 512, 38, 38]),\n",
       "                           ('output_shape', [-1, 1024, 38, 38]),\n",
       "                           ('trainable', False),\n",
       "                           ('nb_params', 524288)])),\n",
       "             ('BatchNorm2d-73',\n",
       "              OrderedDict([('input_shape', [-1, 1024, 38, 38]),\n",
       "                           ('output_shape', [-1, 1024, 38, 38]),\n",
       "                           ('trainable', False),\n",
       "                           ('nb_params', 2048)])),\n",
       "             ('ReLU-74',\n",
       "              OrderedDict([('input_shape', [-1, 1024, 38, 38]),\n",
       "                           ('output_shape', [-1, 1024, 38, 38]),\n",
       "                           ('nb_params', 0)])),\n",
       "             ('Conv2d-75',\n",
       "              OrderedDict([('input_shape', [-1, 1024, 38, 38]),\n",
       "                           ('output_shape', [-1, 1024, 19, 19]),\n",
       "                           ('trainable', False),\n",
       "                           ('nb_params', 147456)])),\n",
       "             ('BatchNorm2d-76',\n",
       "              OrderedDict([('input_shape', [-1, 1024, 19, 19]),\n",
       "                           ('output_shape', [-1, 1024, 19, 19]),\n",
       "                           ('trainable', False),\n",
       "                           ('nb_params', 2048)])),\n",
       "             ('ReLU-77',\n",
       "              OrderedDict([('input_shape', [-1, 1024, 19, 19]),\n",
       "                           ('output_shape', [-1, 1024, 19, 19]),\n",
       "                           ('nb_params', 0)])),\n",
       "             ('Conv2d-78',\n",
       "              OrderedDict([('input_shape', [-1, 1024, 19, 19]),\n",
       "                           ('output_shape', [-1, 1024, 19, 19]),\n",
       "                           ('trainable', False),\n",
       "                           ('nb_params', 1048576)])),\n",
       "             ('BatchNorm2d-79',\n",
       "              OrderedDict([('input_shape', [-1, 1024, 19, 19]),\n",
       "                           ('output_shape', [-1, 1024, 19, 19]),\n",
       "                           ('trainable', False),\n",
       "                           ('nb_params', 2048)])),\n",
       "             ('Conv2d-80',\n",
       "              OrderedDict([('input_shape', [-1, 512, 38, 38]),\n",
       "                           ('output_shape', [-1, 1024, 19, 19]),\n",
       "                           ('trainable', False),\n",
       "                           ('nb_params', 524288)])),\n",
       "             ('BatchNorm2d-81',\n",
       "              OrderedDict([('input_shape', [-1, 1024, 19, 19]),\n",
       "                           ('output_shape', [-1, 1024, 19, 19]),\n",
       "                           ('trainable', False),\n",
       "                           ('nb_params', 2048)])),\n",
       "             ('ReLU-82',\n",
       "              OrderedDict([('input_shape', [-1, 1024, 19, 19]),\n",
       "                           ('output_shape', [-1, 1024, 19, 19]),\n",
       "                           ('nb_params', 0)])),\n",
       "             ('Conv2d-83',\n",
       "              OrderedDict([('input_shape', [-1, 1024, 19, 19]),\n",
       "                           ('output_shape', [-1, 1024, 19, 19]),\n",
       "                           ('trainable', False),\n",
       "                           ('nb_params', 1048576)])),\n",
       "             ('BatchNorm2d-84',\n",
       "              OrderedDict([('input_shape', [-1, 1024, 19, 19]),\n",
       "                           ('output_shape', [-1, 1024, 19, 19]),\n",
       "                           ('trainable', False),\n",
       "                           ('nb_params', 2048)])),\n",
       "             ('ReLU-85',\n",
       "              OrderedDict([('input_shape', [-1, 1024, 19, 19]),\n",
       "                           ('output_shape', [-1, 1024, 19, 19]),\n",
       "                           ('nb_params', 0)])),\n",
       "             ('Conv2d-86',\n",
       "              OrderedDict([('input_shape', [-1, 1024, 19, 19]),\n",
       "                           ('output_shape', [-1, 1024, 19, 19]),\n",
       "                           ('trainable', False),\n",
       "                           ('nb_params', 147456)])),\n",
       "             ('BatchNorm2d-87',\n",
       "              OrderedDict([('input_shape', [-1, 1024, 19, 19]),\n",
       "                           ('output_shape', [-1, 1024, 19, 19]),\n",
       "                           ('trainable', False),\n",
       "                           ('nb_params', 2048)])),\n",
       "             ('ReLU-88',\n",
       "              OrderedDict([('input_shape', [-1, 1024, 19, 19]),\n",
       "                           ('output_shape', [-1, 1024, 19, 19]),\n",
       "                           ('nb_params', 0)])),\n",
       "             ('Conv2d-89',\n",
       "              OrderedDict([('input_shape', [-1, 1024, 19, 19]),\n",
       "                           ('output_shape', [-1, 1024, 19, 19]),\n",
       "                           ('trainable', False),\n",
       "                           ('nb_params', 1048576)])),\n",
       "             ('BatchNorm2d-90',\n",
       "              OrderedDict([('input_shape', [-1, 1024, 19, 19]),\n",
       "                           ('output_shape', [-1, 1024, 19, 19]),\n",
       "                           ('trainable', False),\n",
       "                           ('nb_params', 2048)])),\n",
       "             ('ReLU-91',\n",
       "              OrderedDict([('input_shape', [-1, 1024, 19, 19]),\n",
       "                           ('output_shape', [-1, 1024, 19, 19]),\n",
       "                           ('nb_params', 0)])),\n",
       "             ('Conv2d-92',\n",
       "              OrderedDict([('input_shape', [-1, 1024, 19, 19]),\n",
       "                           ('output_shape', [-1, 1024, 19, 19]),\n",
       "                           ('trainable', False),\n",
       "                           ('nb_params', 1048576)])),\n",
       "             ('BatchNorm2d-93',\n",
       "              OrderedDict([('input_shape', [-1, 1024, 19, 19]),\n",
       "                           ('output_shape', [-1, 1024, 19, 19]),\n",
       "                           ('trainable', False),\n",
       "                           ('nb_params', 2048)])),\n",
       "             ('ReLU-94',\n",
       "              OrderedDict([('input_shape', [-1, 1024, 19, 19]),\n",
       "                           ('output_shape', [-1, 1024, 19, 19]),\n",
       "                           ('nb_params', 0)])),\n",
       "             ('Conv2d-95',\n",
       "              OrderedDict([('input_shape', [-1, 1024, 19, 19]),\n",
       "                           ('output_shape', [-1, 1024, 19, 19]),\n",
       "                           ('trainable', False),\n",
       "                           ('nb_params', 147456)])),\n",
       "             ('BatchNorm2d-96',\n",
       "              OrderedDict([('input_shape', [-1, 1024, 19, 19]),\n",
       "                           ('output_shape', [-1, 1024, 19, 19]),\n",
       "                           ('trainable', False),\n",
       "                           ('nb_params', 2048)])),\n",
       "             ('ReLU-97',\n",
       "              OrderedDict([('input_shape', [-1, 1024, 19, 19]),\n",
       "                           ('output_shape', [-1, 1024, 19, 19]),\n",
       "                           ('nb_params', 0)])),\n",
       "             ('Conv2d-98',\n",
       "              OrderedDict([('input_shape', [-1, 1024, 19, 19]),\n",
       "                           ('output_shape', [-1, 1024, 19, 19]),\n",
       "                           ('trainable', False),\n",
       "                           ('nb_params', 1048576)])),\n",
       "             ('BatchNorm2d-99',\n",
       "              OrderedDict([('input_shape', [-1, 1024, 19, 19]),\n",
       "                           ('output_shape', [-1, 1024, 19, 19]),\n",
       "                           ('trainable', False),\n",
       "                           ('nb_params', 2048)])),\n",
       "             ('ReLU-100',\n",
       "              OrderedDict([('input_shape', [-1, 1024, 19, 19]),\n",
       "                           ('output_shape', [-1, 1024, 19, 19]),\n",
       "                           ('nb_params', 0)])),\n",
       "             ('Conv2d-101',\n",
       "              OrderedDict([('input_shape', [-1, 1024, 19, 19]),\n",
       "                           ('output_shape', [-1, 1024, 19, 19]),\n",
       "                           ('trainable', False),\n",
       "                           ('nb_params', 1048576)])),\n",
       "             ('BatchNorm2d-102',\n",
       "              OrderedDict([('input_shape', [-1, 1024, 19, 19]),\n",
       "                           ('output_shape', [-1, 1024, 19, 19]),\n",
       "                           ('trainable', False),\n",
       "                           ('nb_params', 2048)])),\n",
       "             ('ReLU-103',\n",
       "              OrderedDict([('input_shape', [-1, 1024, 19, 19]),\n",
       "                           ('output_shape', [-1, 1024, 19, 19]),\n",
       "                           ('nb_params', 0)])),\n",
       "             ('Conv2d-104',\n",
       "              OrderedDict([('input_shape', [-1, 1024, 19, 19]),\n",
       "                           ('output_shape', [-1, 1024, 19, 19]),\n",
       "                           ('trainable', False),\n",
       "                           ('nb_params', 147456)])),\n",
       "             ('BatchNorm2d-105',\n",
       "              OrderedDict([('input_shape', [-1, 1024, 19, 19]),\n",
       "                           ('output_shape', [-1, 1024, 19, 19]),\n",
       "                           ('trainable', False),\n",
       "                           ('nb_params', 2048)])),\n",
       "             ('ReLU-106',\n",
       "              OrderedDict([('input_shape', [-1, 1024, 19, 19]),\n",
       "                           ('output_shape', [-1, 1024, 19, 19]),\n",
       "                           ('nb_params', 0)])),\n",
       "             ('Conv2d-107',\n",
       "              OrderedDict([('input_shape', [-1, 1024, 19, 19]),\n",
       "                           ('output_shape', [-1, 1024, 19, 19]),\n",
       "                           ('trainable', False),\n",
       "                           ('nb_params', 1048576)])),\n",
       "             ('BatchNorm2d-108',\n",
       "              OrderedDict([('input_shape', [-1, 1024, 19, 19]),\n",
       "                           ('output_shape', [-1, 1024, 19, 19]),\n",
       "                           ('trainable', False),\n",
       "                           ('nb_params', 2048)])),\n",
       "             ('ReLU-109',\n",
       "              OrderedDict([('input_shape', [-1, 1024, 19, 19]),\n",
       "                           ('output_shape', [-1, 1024, 19, 19]),\n",
       "                           ('nb_params', 0)])),\n",
       "             ('Conv2d-110',\n",
       "              OrderedDict([('input_shape', [-1, 1024, 19, 19]),\n",
       "                           ('output_shape', [-1, 1024, 19, 19]),\n",
       "                           ('trainable', False),\n",
       "                           ('nb_params', 1048576)])),\n",
       "             ('BatchNorm2d-111',\n",
       "              OrderedDict([('input_shape', [-1, 1024, 19, 19]),\n",
       "                           ('output_shape', [-1, 1024, 19, 19]),\n",
       "                           ('trainable', False),\n",
       "                           ('nb_params', 2048)])),\n",
       "             ('ReLU-112',\n",
       "              OrderedDict([('input_shape', [-1, 1024, 19, 19]),\n",
       "                           ('output_shape', [-1, 1024, 19, 19]),\n",
       "                           ('nb_params', 0)])),\n",
       "             ('Conv2d-113',\n",
       "              OrderedDict([('input_shape', [-1, 1024, 19, 19]),\n",
       "                           ('output_shape', [-1, 1024, 19, 19]),\n",
       "                           ('trainable', False),\n",
       "                           ('nb_params', 147456)])),\n",
       "             ('BatchNorm2d-114',\n",
       "              OrderedDict([('input_shape', [-1, 1024, 19, 19]),\n",
       "                           ('output_shape', [-1, 1024, 19, 19]),\n",
       "                           ('trainable', False),\n",
       "                           ('nb_params', 2048)])),\n",
       "             ('ReLU-115',\n",
       "              OrderedDict([('input_shape', [-1, 1024, 19, 19]),\n",
       "                           ('output_shape', [-1, 1024, 19, 19]),\n",
       "                           ('nb_params', 0)])),\n",
       "             ('Conv2d-116',\n",
       "              OrderedDict([('input_shape', [-1, 1024, 19, 19]),\n",
       "                           ('output_shape', [-1, 1024, 19, 19]),\n",
       "                           ('trainable', False),\n",
       "                           ('nb_params', 1048576)])),\n",
       "             ('BatchNorm2d-117',\n",
       "              OrderedDict([('input_shape', [-1, 1024, 19, 19]),\n",
       "                           ('output_shape', [-1, 1024, 19, 19]),\n",
       "                           ('trainable', False),\n",
       "                           ('nb_params', 2048)])),\n",
       "             ('ReLU-118',\n",
       "              OrderedDict([('input_shape', [-1, 1024, 19, 19]),\n",
       "                           ('output_shape', [-1, 1024, 19, 19]),\n",
       "                           ('nb_params', 0)])),\n",
       "             ('Conv2d-119',\n",
       "              OrderedDict([('input_shape', [-1, 1024, 19, 19]),\n",
       "                           ('output_shape', [-1, 1024, 19, 19]),\n",
       "                           ('trainable', False),\n",
       "                           ('nb_params', 1048576)])),\n",
       "             ('BatchNorm2d-120',\n",
       "              OrderedDict([('input_shape', [-1, 1024, 19, 19]),\n",
       "                           ('output_shape', [-1, 1024, 19, 19]),\n",
       "                           ('trainable', False),\n",
       "                           ('nb_params', 2048)])),\n",
       "             ('ReLU-121',\n",
       "              OrderedDict([('input_shape', [-1, 1024, 19, 19]),\n",
       "                           ('output_shape', [-1, 1024, 19, 19]),\n",
       "                           ('nb_params', 0)])),\n",
       "             ('Conv2d-122',\n",
       "              OrderedDict([('input_shape', [-1, 1024, 19, 19]),\n",
       "                           ('output_shape', [-1, 1024, 19, 19]),\n",
       "                           ('trainable', False),\n",
       "                           ('nb_params', 147456)])),\n",
       "             ('BatchNorm2d-123',\n",
       "              OrderedDict([('input_shape', [-1, 1024, 19, 19]),\n",
       "                           ('output_shape', [-1, 1024, 19, 19]),\n",
       "                           ('trainable', False),\n",
       "                           ('nb_params', 2048)])),\n",
       "             ('ReLU-124',\n",
       "              OrderedDict([('input_shape', [-1, 1024, 19, 19]),\n",
       "                           ('output_shape', [-1, 1024, 19, 19]),\n",
       "                           ('nb_params', 0)])),\n",
       "             ('Conv2d-125',\n",
       "              OrderedDict([('input_shape', [-1, 1024, 19, 19]),\n",
       "                           ('output_shape', [-1, 1024, 19, 19]),\n",
       "                           ('trainable', False),\n",
       "                           ('nb_params', 1048576)])),\n",
       "             ('BatchNorm2d-126',\n",
       "              OrderedDict([('input_shape', [-1, 1024, 19, 19]),\n",
       "                           ('output_shape', [-1, 1024, 19, 19]),\n",
       "                           ('trainable', False),\n",
       "                           ('nb_params', 2048)])),\n",
       "             ('ReLU-127',\n",
       "              OrderedDict([('input_shape', [-1, 1024, 19, 19]),\n",
       "                           ('output_shape', [-1, 1024, 19, 19]),\n",
       "                           ('nb_params', 0)])),\n",
       "             ('Conv2d-128',\n",
       "              OrderedDict([('input_shape', [-1, 1024, 19, 19]),\n",
       "                           ('output_shape', [-1, 1024, 19, 19]),\n",
       "                           ('trainable', False),\n",
       "                           ('nb_params', 1048576)])),\n",
       "             ('BatchNorm2d-129',\n",
       "              OrderedDict([('input_shape', [-1, 1024, 19, 19]),\n",
       "                           ('output_shape', [-1, 1024, 19, 19]),\n",
       "                           ('trainable', False),\n",
       "                           ('nb_params', 2048)])),\n",
       "             ('ReLU-130',\n",
       "              OrderedDict([('input_shape', [-1, 1024, 19, 19]),\n",
       "                           ('output_shape', [-1, 1024, 19, 19]),\n",
       "                           ('nb_params', 0)])),\n",
       "             ('Conv2d-131',\n",
       "              OrderedDict([('input_shape', [-1, 1024, 19, 19]),\n",
       "                           ('output_shape', [-1, 1024, 19, 19]),\n",
       "                           ('trainable', False),\n",
       "                           ('nb_params', 147456)])),\n",
       "             ('BatchNorm2d-132',\n",
       "              OrderedDict([('input_shape', [-1, 1024, 19, 19]),\n",
       "                           ('output_shape', [-1, 1024, 19, 19]),\n",
       "                           ('trainable', False),\n",
       "                           ('nb_params', 2048)])),\n",
       "             ('ReLU-133',\n",
       "              OrderedDict([('input_shape', [-1, 1024, 19, 19]),\n",
       "                           ('output_shape', [-1, 1024, 19, 19]),\n",
       "                           ('nb_params', 0)])),\n",
       "             ('Conv2d-134',\n",
       "              OrderedDict([('input_shape', [-1, 1024, 19, 19]),\n",
       "                           ('output_shape', [-1, 1024, 19, 19]),\n",
       "                           ('trainable', False),\n",
       "                           ('nb_params', 1048576)])),\n",
       "             ('BatchNorm2d-135',\n",
       "              OrderedDict([('input_shape', [-1, 1024, 19, 19]),\n",
       "                           ('output_shape', [-1, 1024, 19, 19]),\n",
       "                           ('trainable', False),\n",
       "                           ('nb_params', 2048)])),\n",
       "             ('ReLU-136',\n",
       "              OrderedDict([('input_shape', [-1, 1024, 19, 19]),\n",
       "                           ('output_shape', [-1, 1024, 19, 19]),\n",
       "                           ('nb_params', 0)])),\n",
       "             ('Conv2d-137',\n",
       "              OrderedDict([('input_shape', [-1, 1024, 19, 19]),\n",
       "                           ('output_shape', [-1, 1024, 19, 19]),\n",
       "                           ('trainable', False),\n",
       "                           ('nb_params', 1048576)])),\n",
       "             ('BatchNorm2d-138',\n",
       "              OrderedDict([('input_shape', [-1, 1024, 19, 19]),\n",
       "                           ('output_shape', [-1, 1024, 19, 19]),\n",
       "                           ('trainable', False),\n",
       "                           ('nb_params', 2048)])),\n",
       "             ('ReLU-139',\n",
       "              OrderedDict([('input_shape', [-1, 1024, 19, 19]),\n",
       "                           ('output_shape', [-1, 1024, 19, 19]),\n",
       "                           ('nb_params', 0)])),\n",
       "             ('Conv2d-140',\n",
       "              OrderedDict([('input_shape', [-1, 1024, 19, 19]),\n",
       "                           ('output_shape', [-1, 1024, 19, 19]),\n",
       "                           ('trainable', False),\n",
       "                           ('nb_params', 147456)])),\n",
       "             ('BatchNorm2d-141',\n",
       "              OrderedDict([('input_shape', [-1, 1024, 19, 19]),\n",
       "                           ('output_shape', [-1, 1024, 19, 19]),\n",
       "                           ('trainable', False),\n",
       "                           ('nb_params', 2048)])),\n",
       "             ('ReLU-142',\n",
       "              OrderedDict([('input_shape', [-1, 1024, 19, 19]),\n",
       "                           ('output_shape', [-1, 1024, 19, 19]),\n",
       "                           ('nb_params', 0)])),\n",
       "             ('Conv2d-143',\n",
       "              OrderedDict([('input_shape', [-1, 1024, 19, 19]),\n",
       "                           ('output_shape', [-1, 1024, 19, 19]),\n",
       "                           ('trainable', False),\n",
       "                           ('nb_params', 1048576)])),\n",
       "             ('BatchNorm2d-144',\n",
       "              OrderedDict([('input_shape', [-1, 1024, 19, 19]),\n",
       "                           ('output_shape', [-1, 1024, 19, 19]),\n",
       "                           ('trainable', False),\n",
       "                           ('nb_params', 2048)])),\n",
       "             ('ReLU-145',\n",
       "              OrderedDict([('input_shape', [-1, 1024, 19, 19]),\n",
       "                           ('output_shape', [-1, 1024, 19, 19]),\n",
       "                           ('nb_params', 0)])),\n",
       "             ('Conv2d-146',\n",
       "              OrderedDict([('input_shape', [-1, 1024, 19, 19]),\n",
       "                           ('output_shape', [-1, 1024, 19, 19]),\n",
       "                           ('trainable', False),\n",
       "                           ('nb_params', 1048576)])),\n",
       "             ('BatchNorm2d-147',\n",
       "              OrderedDict([('input_shape', [-1, 1024, 19, 19]),\n",
       "                           ('output_shape', [-1, 1024, 19, 19]),\n",
       "                           ('trainable', False),\n",
       "                           ('nb_params', 2048)])),\n",
       "             ('ReLU-148',\n",
       "              OrderedDict([('input_shape', [-1, 1024, 19, 19]),\n",
       "                           ('output_shape', [-1, 1024, 19, 19]),\n",
       "                           ('nb_params', 0)])),\n",
       "             ('Conv2d-149',\n",
       "              OrderedDict([('input_shape', [-1, 1024, 19, 19]),\n",
       "                           ('output_shape', [-1, 1024, 19, 19]),\n",
       "                           ('trainable', False),\n",
       "                           ('nb_params', 147456)])),\n",
       "             ('BatchNorm2d-150',\n",
       "              OrderedDict([('input_shape', [-1, 1024, 19, 19]),\n",
       "                           ('output_shape', [-1, 1024, 19, 19]),\n",
       "                           ('trainable', False),\n",
       "                           ('nb_params', 2048)])),\n",
       "             ('ReLU-151',\n",
       "              OrderedDict([('input_shape', [-1, 1024, 19, 19]),\n",
       "                           ('output_shape', [-1, 1024, 19, 19]),\n",
       "                           ('nb_params', 0)])),\n",
       "             ('Conv2d-152',\n",
       "              OrderedDict([('input_shape', [-1, 1024, 19, 19]),\n",
       "                           ('output_shape', [-1, 1024, 19, 19]),\n",
       "                           ('trainable', False),\n",
       "                           ('nb_params', 1048576)])),\n",
       "             ('BatchNorm2d-153',\n",
       "              OrderedDict([('input_shape', [-1, 1024, 19, 19]),\n",
       "                           ('output_shape', [-1, 1024, 19, 19]),\n",
       "                           ('trainable', False),\n",
       "                           ('nb_params', 2048)])),\n",
       "             ('ReLU-154',\n",
       "              OrderedDict([('input_shape', [-1, 1024, 19, 19]),\n",
       "                           ('output_shape', [-1, 1024, 19, 19]),\n",
       "                           ('nb_params', 0)])),\n",
       "             ('Conv2d-155',\n",
       "              OrderedDict([('input_shape', [-1, 1024, 19, 19]),\n",
       "                           ('output_shape', [-1, 1024, 19, 19]),\n",
       "                           ('trainable', False),\n",
       "                           ('nb_params', 1048576)])),\n",
       "             ('BatchNorm2d-156',\n",
       "              OrderedDict([('input_shape', [-1, 1024, 19, 19]),\n",
       "                           ('output_shape', [-1, 1024, 19, 19]),\n",
       "                           ('trainable', False),\n",
       "                           ('nb_params', 2048)])),\n",
       "             ('ReLU-157',\n",
       "              OrderedDict([('input_shape', [-1, 1024, 19, 19]),\n",
       "                           ('output_shape', [-1, 1024, 19, 19]),\n",
       "                           ('nb_params', 0)])),\n",
       "             ('Conv2d-158',\n",
       "              OrderedDict([('input_shape', [-1, 1024, 19, 19]),\n",
       "                           ('output_shape', [-1, 1024, 19, 19]),\n",
       "                           ('trainable', False),\n",
       "                           ('nb_params', 147456)])),\n",
       "             ('BatchNorm2d-159',\n",
       "              OrderedDict([('input_shape', [-1, 1024, 19, 19]),\n",
       "                           ('output_shape', [-1, 1024, 19, 19]),\n",
       "                           ('trainable', False),\n",
       "                           ('nb_params', 2048)])),\n",
       "             ('ReLU-160',\n",
       "              OrderedDict([('input_shape', [-1, 1024, 19, 19]),\n",
       "                           ('output_shape', [-1, 1024, 19, 19]),\n",
       "                           ('nb_params', 0)])),\n",
       "             ('Conv2d-161',\n",
       "              OrderedDict([('input_shape', [-1, 1024, 19, 19]),\n",
       "                           ('output_shape', [-1, 1024, 19, 19]),\n",
       "                           ('trainable', False),\n",
       "                           ('nb_params', 1048576)])),\n",
       "             ('BatchNorm2d-162',\n",
       "              OrderedDict([('input_shape', [-1, 1024, 19, 19]),\n",
       "                           ('output_shape', [-1, 1024, 19, 19]),\n",
       "                           ('trainable', False),\n",
       "                           ('nb_params', 2048)])),\n",
       "             ('ReLU-163',\n",
       "              OrderedDict([('input_shape', [-1, 1024, 19, 19]),\n",
       "                           ('output_shape', [-1, 1024, 19, 19]),\n",
       "                           ('nb_params', 0)])),\n",
       "             ('Conv2d-164',\n",
       "              OrderedDict([('input_shape', [-1, 1024, 19, 19]),\n",
       "                           ('output_shape', [-1, 1024, 19, 19]),\n",
       "                           ('trainable', False),\n",
       "                           ('nb_params', 1048576)])),\n",
       "             ('BatchNorm2d-165',\n",
       "              OrderedDict([('input_shape', [-1, 1024, 19, 19]),\n",
       "                           ('output_shape', [-1, 1024, 19, 19]),\n",
       "                           ('trainable', False),\n",
       "                           ('nb_params', 2048)])),\n",
       "             ('ReLU-166',\n",
       "              OrderedDict([('input_shape', [-1, 1024, 19, 19]),\n",
       "                           ('output_shape', [-1, 1024, 19, 19]),\n",
       "                           ('nb_params', 0)])),\n",
       "             ('Conv2d-167',\n",
       "              OrderedDict([('input_shape', [-1, 1024, 19, 19]),\n",
       "                           ('output_shape', [-1, 1024, 19, 19]),\n",
       "                           ('trainable', False),\n",
       "                           ('nb_params', 147456)])),\n",
       "             ('BatchNorm2d-168',\n",
       "              OrderedDict([('input_shape', [-1, 1024, 19, 19]),\n",
       "                           ('output_shape', [-1, 1024, 19, 19]),\n",
       "                           ('trainable', False),\n",
       "                           ('nb_params', 2048)])),\n",
       "             ('ReLU-169',\n",
       "              OrderedDict([('input_shape', [-1, 1024, 19, 19]),\n",
       "                           ('output_shape', [-1, 1024, 19, 19]),\n",
       "                           ('nb_params', 0)])),\n",
       "             ('Conv2d-170',\n",
       "              OrderedDict([('input_shape', [-1, 1024, 19, 19]),\n",
       "                           ('output_shape', [-1, 1024, 19, 19]),\n",
       "                           ('trainable', False),\n",
       "                           ('nb_params', 1048576)])),\n",
       "             ('BatchNorm2d-171',\n",
       "              OrderedDict([('input_shape', [-1, 1024, 19, 19]),\n",
       "                           ('output_shape', [-1, 1024, 19, 19]),\n",
       "                           ('trainable', False),\n",
       "                           ('nb_params', 2048)])),\n",
       "             ('ReLU-172',\n",
       "              OrderedDict([('input_shape', [-1, 1024, 19, 19]),\n",
       "                           ('output_shape', [-1, 1024, 19, 19]),\n",
       "                           ('nb_params', 0)])),\n",
       "             ('Conv2d-173',\n",
       "              OrderedDict([('input_shape', [-1, 1024, 19, 19]),\n",
       "                           ('output_shape', [-1, 1024, 19, 19]),\n",
       "                           ('trainable', False),\n",
       "                           ('nb_params', 1048576)])),\n",
       "             ('BatchNorm2d-174',\n",
       "              OrderedDict([('input_shape', [-1, 1024, 19, 19]),\n",
       "                           ('output_shape', [-1, 1024, 19, 19]),\n",
       "                           ('trainable', False),\n",
       "                           ('nb_params', 2048)])),\n",
       "             ('ReLU-175',\n",
       "              OrderedDict([('input_shape', [-1, 1024, 19, 19]),\n",
       "                           ('output_shape', [-1, 1024, 19, 19]),\n",
       "                           ('nb_params', 0)])),\n",
       "             ('Conv2d-176',\n",
       "              OrderedDict([('input_shape', [-1, 1024, 19, 19]),\n",
       "                           ('output_shape', [-1, 1024, 19, 19]),\n",
       "                           ('trainable', False),\n",
       "                           ('nb_params', 147456)])),\n",
       "             ('BatchNorm2d-177',\n",
       "              OrderedDict([('input_shape', [-1, 1024, 19, 19]),\n",
       "                           ('output_shape', [-1, 1024, 19, 19]),\n",
       "                           ('trainable', False),\n",
       "                           ('nb_params', 2048)])),\n",
       "             ('ReLU-178',\n",
       "              OrderedDict([('input_shape', [-1, 1024, 19, 19]),\n",
       "                           ('output_shape', [-1, 1024, 19, 19]),\n",
       "                           ('nb_params', 0)])),\n",
       "             ('Conv2d-179',\n",
       "              OrderedDict([('input_shape', [-1, 1024, 19, 19]),\n",
       "                           ('output_shape', [-1, 1024, 19, 19]),\n",
       "                           ('trainable', False),\n",
       "                           ('nb_params', 1048576)])),\n",
       "             ('BatchNorm2d-180',\n",
       "              OrderedDict([('input_shape', [-1, 1024, 19, 19]),\n",
       "                           ('output_shape', [-1, 1024, 19, 19]),\n",
       "                           ('trainable', False),\n",
       "                           ('nb_params', 2048)])),\n",
       "             ('ReLU-181',\n",
       "              OrderedDict([('input_shape', [-1, 1024, 19, 19]),\n",
       "                           ('output_shape', [-1, 1024, 19, 19]),\n",
       "                           ('nb_params', 0)])),\n",
       "             ('Conv2d-182',\n",
       "              OrderedDict([('input_shape', [-1, 1024, 19, 19]),\n",
       "                           ('output_shape', [-1, 1024, 19, 19]),\n",
       "                           ('trainable', False),\n",
       "                           ('nb_params', 1048576)])),\n",
       "             ('BatchNorm2d-183',\n",
       "              OrderedDict([('input_shape', [-1, 1024, 19, 19]),\n",
       "                           ('output_shape', [-1, 1024, 19, 19]),\n",
       "                           ('trainable', False),\n",
       "                           ('nb_params', 2048)])),\n",
       "             ('ReLU-184',\n",
       "              OrderedDict([('input_shape', [-1, 1024, 19, 19]),\n",
       "                           ('output_shape', [-1, 1024, 19, 19]),\n",
       "                           ('nb_params', 0)])),\n",
       "             ('Conv2d-185',\n",
       "              OrderedDict([('input_shape', [-1, 1024, 19, 19]),\n",
       "                           ('output_shape', [-1, 1024, 19, 19]),\n",
       "                           ('trainable', False),\n",
       "                           ('nb_params', 147456)])),\n",
       "             ('BatchNorm2d-186',\n",
       "              OrderedDict([('input_shape', [-1, 1024, 19, 19]),\n",
       "                           ('output_shape', [-1, 1024, 19, 19]),\n",
       "                           ('trainable', False),\n",
       "                           ('nb_params', 2048)])),\n",
       "             ('ReLU-187',\n",
       "              OrderedDict([('input_shape', [-1, 1024, 19, 19]),\n",
       "                           ('output_shape', [-1, 1024, 19, 19]),\n",
       "                           ('nb_params', 0)])),\n",
       "             ('Conv2d-188',\n",
       "              OrderedDict([('input_shape', [-1, 1024, 19, 19]),\n",
       "                           ('output_shape', [-1, 1024, 19, 19]),\n",
       "                           ('trainable', False),\n",
       "                           ('nb_params', 1048576)])),\n",
       "             ('BatchNorm2d-189',\n",
       "              OrderedDict([('input_shape', [-1, 1024, 19, 19]),\n",
       "                           ('output_shape', [-1, 1024, 19, 19]),\n",
       "                           ('trainable', False),\n",
       "                           ('nb_params', 2048)])),\n",
       "             ('ReLU-190',\n",
       "              OrderedDict([('input_shape', [-1, 1024, 19, 19]),\n",
       "                           ('output_shape', [-1, 1024, 19, 19]),\n",
       "                           ('nb_params', 0)])),\n",
       "             ('Conv2d-191',\n",
       "              OrderedDict([('input_shape', [-1, 1024, 19, 19]),\n",
       "                           ('output_shape', [-1, 1024, 19, 19]),\n",
       "                           ('trainable', False),\n",
       "                           ('nb_params', 1048576)])),\n",
       "             ('BatchNorm2d-192',\n",
       "              OrderedDict([('input_shape', [-1, 1024, 19, 19]),\n",
       "                           ('output_shape', [-1, 1024, 19, 19]),\n",
       "                           ('trainable', False),\n",
       "                           ('nb_params', 2048)])),\n",
       "             ('ReLU-193',\n",
       "              OrderedDict([('input_shape', [-1, 1024, 19, 19]),\n",
       "                           ('output_shape', [-1, 1024, 19, 19]),\n",
       "                           ('nb_params', 0)])),\n",
       "             ('Conv2d-194',\n",
       "              OrderedDict([('input_shape', [-1, 1024, 19, 19]),\n",
       "                           ('output_shape', [-1, 1024, 19, 19]),\n",
       "                           ('trainable', False),\n",
       "                           ('nb_params', 147456)])),\n",
       "             ('BatchNorm2d-195',\n",
       "              OrderedDict([('input_shape', [-1, 1024, 19, 19]),\n",
       "                           ('output_shape', [-1, 1024, 19, 19]),\n",
       "                           ('trainable', False),\n",
       "                           ('nb_params', 2048)])),\n",
       "             ('ReLU-196',\n",
       "              OrderedDict([('input_shape', [-1, 1024, 19, 19]),\n",
       "                           ('output_shape', [-1, 1024, 19, 19]),\n",
       "                           ('nb_params', 0)])),\n",
       "             ('Conv2d-197',\n",
       "              OrderedDict([('input_shape', [-1, 1024, 19, 19]),\n",
       "                           ('output_shape', [-1, 1024, 19, 19]),\n",
       "                           ('trainable', False),\n",
       "                           ('nb_params', 1048576)])),\n",
       "             ('BatchNorm2d-198',\n",
       "              OrderedDict([('input_shape', [-1, 1024, 19, 19]),\n",
       "                           ('output_shape', [-1, 1024, 19, 19]),\n",
       "                           ('trainable', False),\n",
       "                           ('nb_params', 2048)])),\n",
       "             ('ReLU-199',\n",
       "              OrderedDict([('input_shape', [-1, 1024, 19, 19]),\n",
       "                           ('output_shape', [-1, 1024, 19, 19]),\n",
       "                           ('nb_params', 0)])),\n",
       "             ('Conv2d-200',\n",
       "              OrderedDict([('input_shape', [-1, 1024, 19, 19]),\n",
       "                           ('output_shape', [-1, 1024, 19, 19]),\n",
       "                           ('trainable', False),\n",
       "                           ('nb_params', 1048576)])),\n",
       "             ('BatchNorm2d-201',\n",
       "              OrderedDict([('input_shape', [-1, 1024, 19, 19]),\n",
       "                           ('output_shape', [-1, 1024, 19, 19]),\n",
       "                           ('trainable', False),\n",
       "                           ('nb_params', 2048)])),\n",
       "             ('ReLU-202',\n",
       "              OrderedDict([('input_shape', [-1, 1024, 19, 19]),\n",
       "                           ('output_shape', [-1, 1024, 19, 19]),\n",
       "                           ('nb_params', 0)])),\n",
       "             ('Conv2d-203',\n",
       "              OrderedDict([('input_shape', [-1, 1024, 19, 19]),\n",
       "                           ('output_shape', [-1, 1024, 19, 19]),\n",
       "                           ('trainable', False),\n",
       "                           ('nb_params', 147456)])),\n",
       "             ('BatchNorm2d-204',\n",
       "              OrderedDict([('input_shape', [-1, 1024, 19, 19]),\n",
       "                           ('output_shape', [-1, 1024, 19, 19]),\n",
       "                           ('trainable', False),\n",
       "                           ('nb_params', 2048)])),\n",
       "             ('ReLU-205',\n",
       "              OrderedDict([('input_shape', [-1, 1024, 19, 19]),\n",
       "                           ('output_shape', [-1, 1024, 19, 19]),\n",
       "                           ('nb_params', 0)])),\n",
       "             ('Conv2d-206',\n",
       "              OrderedDict([('input_shape', [-1, 1024, 19, 19]),\n",
       "                           ('output_shape', [-1, 1024, 19, 19]),\n",
       "                           ('trainable', False),\n",
       "                           ('nb_params', 1048576)])),\n",
       "             ('BatchNorm2d-207',\n",
       "              OrderedDict([('input_shape', [-1, 1024, 19, 19]),\n",
       "                           ('output_shape', [-1, 1024, 19, 19]),\n",
       "                           ('trainable', False),\n",
       "                           ('nb_params', 2048)])),\n",
       "             ('ReLU-208',\n",
       "              OrderedDict([('input_shape', [-1, 1024, 19, 19]),\n",
       "                           ('output_shape', [-1, 1024, 19, 19]),\n",
       "                           ('nb_params', 0)])),\n",
       "             ('Conv2d-209',\n",
       "              OrderedDict([('input_shape', [-1, 1024, 19, 19]),\n",
       "                           ('output_shape', [-1, 1024, 19, 19]),\n",
       "                           ('trainable', False),\n",
       "                           ('nb_params', 1048576)])),\n",
       "             ('BatchNorm2d-210',\n",
       "              OrderedDict([('input_shape', [-1, 1024, 19, 19]),\n",
       "                           ('output_shape', [-1, 1024, 19, 19]),\n",
       "                           ('trainable', False),\n",
       "                           ('nb_params', 2048)])),\n",
       "             ('ReLU-211',\n",
       "              OrderedDict([('input_shape', [-1, 1024, 19, 19]),\n",
       "                           ('output_shape', [-1, 1024, 19, 19]),\n",
       "                           ('nb_params', 0)])),\n",
       "             ('Conv2d-212',\n",
       "              OrderedDict([('input_shape', [-1, 1024, 19, 19]),\n",
       "                           ('output_shape', [-1, 1024, 19, 19]),\n",
       "                           ('trainable', False),\n",
       "                           ('nb_params', 147456)])),\n",
       "             ('BatchNorm2d-213',\n",
       "              OrderedDict([('input_shape', [-1, 1024, 19, 19]),\n",
       "                           ('output_shape', [-1, 1024, 19, 19]),\n",
       "                           ('trainable', False),\n",
       "                           ('nb_params', 2048)])),\n",
       "             ('ReLU-214',\n",
       "              OrderedDict([('input_shape', [-1, 1024, 19, 19]),\n",
       "                           ('output_shape', [-1, 1024, 19, 19]),\n",
       "                           ('nb_params', 0)])),\n",
       "             ('Conv2d-215',\n",
       "              OrderedDict([('input_shape', [-1, 1024, 19, 19]),\n",
       "                           ('output_shape', [-1, 1024, 19, 19]),\n",
       "                           ('trainable', False),\n",
       "                           ('nb_params', 1048576)])),\n",
       "             ('BatchNorm2d-216',\n",
       "              OrderedDict([('input_shape', [-1, 1024, 19, 19]),\n",
       "                           ('output_shape', [-1, 1024, 19, 19]),\n",
       "                           ('trainable', False),\n",
       "                           ('nb_params', 2048)])),\n",
       "             ('ReLU-217',\n",
       "              OrderedDict([('input_shape', [-1, 1024, 19, 19]),\n",
       "                           ('output_shape', [-1, 1024, 19, 19]),\n",
       "                           ('nb_params', 0)])),\n",
       "             ('Conv2d-218',\n",
       "              OrderedDict([('input_shape', [-1, 1024, 19, 19]),\n",
       "                           ('output_shape', [-1, 1024, 19, 19]),\n",
       "                           ('trainable', False),\n",
       "                           ('nb_params', 1048576)])),\n",
       "             ('BatchNorm2d-219',\n",
       "              OrderedDict([('input_shape', [-1, 1024, 19, 19]),\n",
       "                           ('output_shape', [-1, 1024, 19, 19]),\n",
       "                           ('trainable', False),\n",
       "                           ('nb_params', 2048)])),\n",
       "             ('ReLU-220',\n",
       "              OrderedDict([('input_shape', [-1, 1024, 19, 19]),\n",
       "                           ('output_shape', [-1, 1024, 19, 19]),\n",
       "                           ('nb_params', 0)])),\n",
       "             ('Conv2d-221',\n",
       "              OrderedDict([('input_shape', [-1, 1024, 19, 19]),\n",
       "                           ('output_shape', [-1, 1024, 19, 19]),\n",
       "                           ('trainable', False),\n",
       "                           ('nb_params', 147456)])),\n",
       "             ('BatchNorm2d-222',\n",
       "              OrderedDict([('input_shape', [-1, 1024, 19, 19]),\n",
       "                           ('output_shape', [-1, 1024, 19, 19]),\n",
       "                           ('trainable', False),\n",
       "                           ('nb_params', 2048)])),\n",
       "             ('ReLU-223',\n",
       "              OrderedDict([('input_shape', [-1, 1024, 19, 19]),\n",
       "                           ('output_shape', [-1, 1024, 19, 19]),\n",
       "                           ('nb_params', 0)])),\n",
       "             ('Conv2d-224',\n",
       "              OrderedDict([('input_shape', [-1, 1024, 19, 19]),\n",
       "                           ('output_shape', [-1, 1024, 19, 19]),\n",
       "                           ('trainable', False),\n",
       "                           ('nb_params', 1048576)])),\n",
       "             ('BatchNorm2d-225',\n",
       "              OrderedDict([('input_shape', [-1, 1024, 19, 19]),\n",
       "                           ('output_shape', [-1, 1024, 19, 19]),\n",
       "                           ('trainable', False),\n",
       "                           ('nb_params', 2048)])),\n",
       "             ('ReLU-226',\n",
       "              OrderedDict([('input_shape', [-1, 1024, 19, 19]),\n",
       "                           ('output_shape', [-1, 1024, 19, 19]),\n",
       "                           ('nb_params', 0)])),\n",
       "             ('Conv2d-227',\n",
       "              OrderedDict([('input_shape', [-1, 1024, 19, 19]),\n",
       "                           ('output_shape', [-1, 1024, 19, 19]),\n",
       "                           ('trainable', False),\n",
       "                           ('nb_params', 1048576)])),\n",
       "             ('BatchNorm2d-228',\n",
       "              OrderedDict([('input_shape', [-1, 1024, 19, 19]),\n",
       "                           ('output_shape', [-1, 1024, 19, 19]),\n",
       "                           ('trainable', False),\n",
       "                           ('nb_params', 2048)])),\n",
       "             ('ReLU-229',\n",
       "              OrderedDict([('input_shape', [-1, 1024, 19, 19]),\n",
       "                           ('output_shape', [-1, 1024, 19, 19]),\n",
       "                           ('nb_params', 0)])),\n",
       "             ('Conv2d-230',\n",
       "              OrderedDict([('input_shape', [-1, 1024, 19, 19]),\n",
       "                           ('output_shape', [-1, 1024, 19, 19]),\n",
       "                           ('trainable', False),\n",
       "                           ('nb_params', 147456)])),\n",
       "             ('BatchNorm2d-231',\n",
       "              OrderedDict([('input_shape', [-1, 1024, 19, 19]),\n",
       "                           ('output_shape', [-1, 1024, 19, 19]),\n",
       "                           ('trainable', False),\n",
       "                           ('nb_params', 2048)])),\n",
       "             ('ReLU-232',\n",
       "              OrderedDict([('input_shape', [-1, 1024, 19, 19]),\n",
       "                           ('output_shape', [-1, 1024, 19, 19]),\n",
       "                           ('nb_params', 0)])),\n",
       "             ('Conv2d-233',\n",
       "              OrderedDict([('input_shape', [-1, 1024, 19, 19]),\n",
       "                           ('output_shape', [-1, 1024, 19, 19]),\n",
       "                           ('trainable', False),\n",
       "                           ('nb_params', 1048576)])),\n",
       "             ('BatchNorm2d-234',\n",
       "              OrderedDict([('input_shape', [-1, 1024, 19, 19]),\n",
       "                           ('output_shape', [-1, 1024, 19, 19]),\n",
       "                           ('trainable', False),\n",
       "                           ('nb_params', 2048)])),\n",
       "             ('ReLU-235',\n",
       "              OrderedDict([('input_shape', [-1, 1024, 19, 19]),\n",
       "                           ('output_shape', [-1, 1024, 19, 19]),\n",
       "                           ('nb_params', 0)])),\n",
       "             ('Conv2d-236',\n",
       "              OrderedDict([('input_shape', [-1, 1024, 19, 19]),\n",
       "                           ('output_shape', [-1, 1024, 19, 19]),\n",
       "                           ('trainable', False),\n",
       "                           ('nb_params', 1048576)])),\n",
       "             ('BatchNorm2d-237',\n",
       "              OrderedDict([('input_shape', [-1, 1024, 19, 19]),\n",
       "                           ('output_shape', [-1, 1024, 19, 19]),\n",
       "                           ('trainable', False),\n",
       "                           ('nb_params', 2048)])),\n",
       "             ('ReLU-238',\n",
       "              OrderedDict([('input_shape', [-1, 1024, 19, 19]),\n",
       "                           ('output_shape', [-1, 1024, 19, 19]),\n",
       "                           ('nb_params', 0)])),\n",
       "             ('Conv2d-239',\n",
       "              OrderedDict([('input_shape', [-1, 1024, 19, 19]),\n",
       "                           ('output_shape', [-1, 1024, 19, 19]),\n",
       "                           ('trainable', False),\n",
       "                           ('nb_params', 147456)])),\n",
       "             ('BatchNorm2d-240',\n",
       "              OrderedDict([('input_shape', [-1, 1024, 19, 19]),\n",
       "                           ('output_shape', [-1, 1024, 19, 19]),\n",
       "                           ('trainable', False),\n",
       "                           ('nb_params', 2048)])),\n",
       "             ('ReLU-241',\n",
       "              OrderedDict([('input_shape', [-1, 1024, 19, 19]),\n",
       "                           ('output_shape', [-1, 1024, 19, 19]),\n",
       "                           ('nb_params', 0)])),\n",
       "             ('Conv2d-242',\n",
       "              OrderedDict([('input_shape', [-1, 1024, 19, 19]),\n",
       "                           ('output_shape', [-1, 1024, 19, 19]),\n",
       "                           ('trainable', False),\n",
       "                           ('nb_params', 1048576)])),\n",
       "             ('BatchNorm2d-243',\n",
       "              OrderedDict([('input_shape', [-1, 1024, 19, 19]),\n",
       "                           ('output_shape', [-1, 1024, 19, 19]),\n",
       "                           ('trainable', False),\n",
       "                           ('nb_params', 2048)])),\n",
       "             ('ReLU-244',\n",
       "              OrderedDict([('input_shape', [-1, 1024, 19, 19]),\n",
       "                           ('output_shape', [-1, 1024, 19, 19]),\n",
       "                           ('nb_params', 0)])),\n",
       "             ('Conv2d-245',\n",
       "              OrderedDict([('input_shape', [-1, 1024, 19, 19]),\n",
       "                           ('output_shape', [-1, 1024, 19, 19]),\n",
       "                           ('trainable', False),\n",
       "                           ('nb_params', 1048576)])),\n",
       "             ('BatchNorm2d-246',\n",
       "              OrderedDict([('input_shape', [-1, 1024, 19, 19]),\n",
       "                           ('output_shape', [-1, 1024, 19, 19]),\n",
       "                           ('trainable', False),\n",
       "                           ('nb_params', 2048)])),\n",
       "             ('ReLU-247',\n",
       "              OrderedDict([('input_shape', [-1, 1024, 19, 19]),\n",
       "                           ('output_shape', [-1, 1024, 19, 19]),\n",
       "                           ('nb_params', 0)])),\n",
       "             ('Conv2d-248',\n",
       "              OrderedDict([('input_shape', [-1, 1024, 19, 19]),\n",
       "                           ('output_shape', [-1, 1024, 19, 19]),\n",
       "                           ('trainable', False),\n",
       "                           ('nb_params', 147456)])),\n",
       "             ('BatchNorm2d-249',\n",
       "              OrderedDict([('input_shape', [-1, 1024, 19, 19]),\n",
       "                           ('output_shape', [-1, 1024, 19, 19]),\n",
       "                           ('trainable', False),\n",
       "                           ('nb_params', 2048)])),\n",
       "             ('ReLU-250',\n",
       "              OrderedDict([('input_shape', [-1, 1024, 19, 19]),\n",
       "                           ('output_shape', [-1, 1024, 19, 19]),\n",
       "                           ('nb_params', 0)])),\n",
       "             ('Conv2d-251',\n",
       "              OrderedDict([('input_shape', [-1, 1024, 19, 19]),\n",
       "                           ('output_shape', [-1, 1024, 19, 19]),\n",
       "                           ('trainable', False),\n",
       "                           ('nb_params', 1048576)])),\n",
       "             ('BatchNorm2d-252',\n",
       "              OrderedDict([('input_shape', [-1, 1024, 19, 19]),\n",
       "                           ('output_shape', [-1, 1024, 19, 19]),\n",
       "                           ('trainable', False),\n",
       "                           ('nb_params', 2048)])),\n",
       "             ('ReLU-253',\n",
       "              OrderedDict([('input_shape', [-1, 1024, 19, 19]),\n",
       "                           ('output_shape', [-1, 1024, 19, 19]),\n",
       "                           ('nb_params', 0)])),\n",
       "             ('Conv2d-254',\n",
       "              OrderedDict([('input_shape', [-1, 1024, 19, 19]),\n",
       "                           ('output_shape', [-1, 1024, 19, 19]),\n",
       "                           ('trainable', False),\n",
       "                           ('nb_params', 1048576)])),\n",
       "             ('BatchNorm2d-255',\n",
       "              OrderedDict([('input_shape', [-1, 1024, 19, 19]),\n",
       "                           ('output_shape', [-1, 1024, 19, 19]),\n",
       "                           ('trainable', False),\n",
       "                           ('nb_params', 2048)])),\n",
       "             ('ReLU-256',\n",
       "              OrderedDict([('input_shape', [-1, 1024, 19, 19]),\n",
       "                           ('output_shape', [-1, 1024, 19, 19]),\n",
       "                           ('nb_params', 0)])),\n",
       "             ('Conv2d-257',\n",
       "              OrderedDict([('input_shape', [-1, 1024, 19, 19]),\n",
       "                           ('output_shape', [-1, 1024, 19, 19]),\n",
       "                           ('trainable', False),\n",
       "                           ('nb_params', 147456)])),\n",
       "             ('BatchNorm2d-258',\n",
       "              OrderedDict([('input_shape', [-1, 1024, 19, 19]),\n",
       "                           ('output_shape', [-1, 1024, 19, 19]),\n",
       "                           ('trainable', False),\n",
       "                           ('nb_params', 2048)])),\n",
       "             ('ReLU-259',\n",
       "              OrderedDict([('input_shape', [-1, 1024, 19, 19]),\n",
       "                           ('output_shape', [-1, 1024, 19, 19]),\n",
       "                           ('nb_params', 0)])),\n",
       "             ('Conv2d-260',\n",
       "              OrderedDict([('input_shape', [-1, 1024, 19, 19]),\n",
       "                           ('output_shape', [-1, 1024, 19, 19]),\n",
       "                           ('trainable', False),\n",
       "                           ('nb_params', 1048576)])),\n",
       "             ('BatchNorm2d-261',\n",
       "              OrderedDict([('input_shape', [-1, 1024, 19, 19]),\n",
       "                           ('output_shape', [-1, 1024, 19, 19]),\n",
       "                           ('trainable', False),\n",
       "                           ('nb_params', 2048)])),\n",
       "             ('ReLU-262',\n",
       "              OrderedDict([('input_shape', [-1, 1024, 19, 19]),\n",
       "                           ('output_shape', [-1, 1024, 19, 19]),\n",
       "                           ('nb_params', 0)])),\n",
       "             ('Conv2d-263',\n",
       "              OrderedDict([('input_shape', [-1, 1024, 19, 19]),\n",
       "                           ('output_shape', [-1, 1024, 19, 19]),\n",
       "                           ('trainable', False),\n",
       "                           ('nb_params', 1048576)])),\n",
       "             ('BatchNorm2d-264',\n",
       "              OrderedDict([('input_shape', [-1, 1024, 19, 19]),\n",
       "                           ('output_shape', [-1, 1024, 19, 19]),\n",
       "                           ('trainable', False),\n",
       "                           ('nb_params', 2048)])),\n",
       "             ('ReLU-265',\n",
       "              OrderedDict([('input_shape', [-1, 1024, 19, 19]),\n",
       "                           ('output_shape', [-1, 1024, 19, 19]),\n",
       "                           ('nb_params', 0)])),\n",
       "             ('Conv2d-266',\n",
       "              OrderedDict([('input_shape', [-1, 1024, 19, 19]),\n",
       "                           ('output_shape', [-1, 1024, 19, 19]),\n",
       "                           ('trainable', False),\n",
       "                           ('nb_params', 147456)])),\n",
       "             ('BatchNorm2d-267',\n",
       "              OrderedDict([('input_shape', [-1, 1024, 19, 19]),\n",
       "                           ('output_shape', [-1, 1024, 19, 19]),\n",
       "                           ('trainable', False),\n",
       "                           ('nb_params', 2048)])),\n",
       "             ('ReLU-268',\n",
       "              OrderedDict([('input_shape', [-1, 1024, 19, 19]),\n",
       "                           ('output_shape', [-1, 1024, 19, 19]),\n",
       "                           ('nb_params', 0)])),\n",
       "             ('Conv2d-269',\n",
       "              OrderedDict([('input_shape', [-1, 1024, 19, 19]),\n",
       "                           ('output_shape', [-1, 1024, 19, 19]),\n",
       "                           ('trainable', False),\n",
       "                           ('nb_params', 1048576)])),\n",
       "             ('BatchNorm2d-270',\n",
       "              OrderedDict([('input_shape', [-1, 1024, 19, 19]),\n",
       "                           ('output_shape', [-1, 1024, 19, 19]),\n",
       "                           ('trainable', False),\n",
       "                           ('nb_params', 2048)])),\n",
       "             ('ReLU-271',\n",
       "              OrderedDict([('input_shape', [-1, 1024, 19, 19]),\n",
       "                           ('output_shape', [-1, 1024, 19, 19]),\n",
       "                           ('nb_params', 0)])),\n",
       "             ('Conv2d-272',\n",
       "              OrderedDict([('input_shape', [-1, 1024, 19, 19]),\n",
       "                           ('output_shape', [-1, 1024, 19, 19]),\n",
       "                           ('trainable', False),\n",
       "                           ('nb_params', 1048576)])),\n",
       "             ('BatchNorm2d-273',\n",
       "              OrderedDict([('input_shape', [-1, 1024, 19, 19]),\n",
       "                           ('output_shape', [-1, 1024, 19, 19]),\n",
       "                           ('trainable', False),\n",
       "                           ('nb_params', 2048)])),\n",
       "             ('ReLU-274',\n",
       "              OrderedDict([('input_shape', [-1, 1024, 19, 19]),\n",
       "                           ('output_shape', [-1, 1024, 19, 19]),\n",
       "                           ('nb_params', 0)])),\n",
       "             ('Conv2d-275',\n",
       "              OrderedDict([('input_shape', [-1, 1024, 19, 19]),\n",
       "                           ('output_shape', [-1, 1024, 19, 19]),\n",
       "                           ('trainable', False),\n",
       "                           ('nb_params', 147456)])),\n",
       "             ('BatchNorm2d-276',\n",
       "              OrderedDict([('input_shape', [-1, 1024, 19, 19]),\n",
       "                           ('output_shape', [-1, 1024, 19, 19]),\n",
       "                           ('trainable', False),\n",
       "                           ('nb_params', 2048)])),\n",
       "             ('ReLU-277',\n",
       "              OrderedDict([('input_shape', [-1, 1024, 19, 19]),\n",
       "                           ('output_shape', [-1, 1024, 19, 19]),\n",
       "                           ('nb_params', 0)])),\n",
       "             ('Conv2d-278',\n",
       "              OrderedDict([('input_shape', [-1, 1024, 19, 19]),\n",
       "                           ('output_shape', [-1, 1024, 19, 19]),\n",
       "                           ('trainable', False),\n",
       "                           ('nb_params', 1048576)])),\n",
       "             ('BatchNorm2d-279',\n",
       "              OrderedDict([('input_shape', [-1, 1024, 19, 19]),\n",
       "                           ('output_shape', [-1, 1024, 19, 19]),\n",
       "                           ('trainable', False),\n",
       "                           ('nb_params', 2048)])),\n",
       "             ('ReLU-280',\n",
       "              OrderedDict([('input_shape', [-1, 1024, 19, 19]),\n",
       "                           ('output_shape', [-1, 1024, 19, 19]),\n",
       "                           ('nb_params', 0)])),\n",
       "             ('Conv2d-281',\n",
       "              OrderedDict([('input_shape', [-1, 1024, 19, 19]),\n",
       "                           ('output_shape', [-1, 2048, 19, 19]),\n",
       "                           ('trainable', False),\n",
       "                           ('nb_params', 2097152)])),\n",
       "             ('BatchNorm2d-282',\n",
       "              OrderedDict([('input_shape', [-1, 2048, 19, 19]),\n",
       "                           ('output_shape', [-1, 2048, 19, 19]),\n",
       "                           ('trainable', False),\n",
       "                           ('nb_params', 4096)])),\n",
       "             ('ReLU-283',\n",
       "              OrderedDict([('input_shape', [-1, 2048, 19, 19]),\n",
       "                           ('output_shape', [-1, 2048, 19, 19]),\n",
       "                           ('nb_params', 0)])),\n",
       "             ('Conv2d-284',\n",
       "              OrderedDict([('input_shape', [-1, 2048, 19, 19]),\n",
       "                           ('output_shape', [-1, 2048, 10, 10]),\n",
       "                           ('trainable', False),\n",
       "                           ('nb_params', 589824)])),\n",
       "             ('BatchNorm2d-285',\n",
       "              OrderedDict([('input_shape', [-1, 2048, 10, 10]),\n",
       "                           ('output_shape', [-1, 2048, 10, 10]),\n",
       "                           ('trainable', False),\n",
       "                           ('nb_params', 4096)])),\n",
       "             ('ReLU-286',\n",
       "              OrderedDict([('input_shape', [-1, 2048, 10, 10]),\n",
       "                           ('output_shape', [-1, 2048, 10, 10]),\n",
       "                           ('nb_params', 0)])),\n",
       "             ('Conv2d-287',\n",
       "              OrderedDict([('input_shape', [-1, 2048, 10, 10]),\n",
       "                           ('output_shape', [-1, 2048, 10, 10]),\n",
       "                           ('trainable', False),\n",
       "                           ('nb_params', 4194304)])),\n",
       "             ('BatchNorm2d-288',\n",
       "              OrderedDict([('input_shape', [-1, 2048, 10, 10]),\n",
       "                           ('output_shape', [-1, 2048, 10, 10]),\n",
       "                           ('trainable', False),\n",
       "                           ('nb_params', 4096)])),\n",
       "             ('Conv2d-289',\n",
       "              OrderedDict([('input_shape', [-1, 1024, 19, 19]),\n",
       "                           ('output_shape', [-1, 2048, 10, 10]),\n",
       "                           ('trainable', False),\n",
       "                           ('nb_params', 2097152)])),\n",
       "             ('BatchNorm2d-290',\n",
       "              OrderedDict([('input_shape', [-1, 2048, 10, 10]),\n",
       "                           ('output_shape', [-1, 2048, 10, 10]),\n",
       "                           ('trainable', False),\n",
       "                           ('nb_params', 4096)])),\n",
       "             ('ReLU-291',\n",
       "              OrderedDict([('input_shape', [-1, 2048, 10, 10]),\n",
       "                           ('output_shape', [-1, 2048, 10, 10]),\n",
       "                           ('nb_params', 0)])),\n",
       "             ('Conv2d-292',\n",
       "              OrderedDict([('input_shape', [-1, 2048, 10, 10]),\n",
       "                           ('output_shape', [-1, 2048, 10, 10]),\n",
       "                           ('trainable', False),\n",
       "                           ('nb_params', 4194304)])),\n",
       "             ('BatchNorm2d-293',\n",
       "              OrderedDict([('input_shape', [-1, 2048, 10, 10]),\n",
       "                           ('output_shape', [-1, 2048, 10, 10]),\n",
       "                           ('trainable', False),\n",
       "                           ('nb_params', 4096)])),\n",
       "             ('ReLU-294',\n",
       "              OrderedDict([('input_shape', [-1, 2048, 10, 10]),\n",
       "                           ('output_shape', [-1, 2048, 10, 10]),\n",
       "                           ('nb_params', 0)])),\n",
       "             ('Conv2d-295',\n",
       "              OrderedDict([('input_shape', [-1, 2048, 10, 10]),\n",
       "                           ('output_shape', [-1, 2048, 10, 10]),\n",
       "                           ('trainable', False),\n",
       "                           ('nb_params', 589824)])),\n",
       "             ('BatchNorm2d-296',\n",
       "              OrderedDict([('input_shape', [-1, 2048, 10, 10]),\n",
       "                           ('output_shape', [-1, 2048, 10, 10]),\n",
       "                           ('trainable', False),\n",
       "                           ('nb_params', 4096)])),\n",
       "             ('ReLU-297',\n",
       "              OrderedDict([('input_shape', [-1, 2048, 10, 10]),\n",
       "                           ('output_shape', [-1, 2048, 10, 10]),\n",
       "                           ('nb_params', 0)])),\n",
       "             ('Conv2d-298',\n",
       "              OrderedDict([('input_shape', [-1, 2048, 10, 10]),\n",
       "                           ('output_shape', [-1, 2048, 10, 10]),\n",
       "                           ('trainable', False),\n",
       "                           ('nb_params', 4194304)])),\n",
       "             ('BatchNorm2d-299',\n",
       "              OrderedDict([('input_shape', [-1, 2048, 10, 10]),\n",
       "                           ('output_shape', [-1, 2048, 10, 10]),\n",
       "                           ('trainable', False),\n",
       "                           ('nb_params', 4096)])),\n",
       "             ('ReLU-300',\n",
       "              OrderedDict([('input_shape', [-1, 2048, 10, 10]),\n",
       "                           ('output_shape', [-1, 2048, 10, 10]),\n",
       "                           ('nb_params', 0)])),\n",
       "             ('Conv2d-301',\n",
       "              OrderedDict([('input_shape', [-1, 2048, 10, 10]),\n",
       "                           ('output_shape', [-1, 2048, 10, 10]),\n",
       "                           ('trainable', False),\n",
       "                           ('nb_params', 4194304)])),\n",
       "             ('BatchNorm2d-302',\n",
       "              OrderedDict([('input_shape', [-1, 2048, 10, 10]),\n",
       "                           ('output_shape', [-1, 2048, 10, 10]),\n",
       "                           ('trainable', False),\n",
       "                           ('nb_params', 4096)])),\n",
       "             ('ReLU-303',\n",
       "              OrderedDict([('input_shape', [-1, 2048, 10, 10]),\n",
       "                           ('output_shape', [-1, 2048, 10, 10]),\n",
       "                           ('nb_params', 0)])),\n",
       "             ('Conv2d-304',\n",
       "              OrderedDict([('input_shape', [-1, 2048, 10, 10]),\n",
       "                           ('output_shape', [-1, 2048, 10, 10]),\n",
       "                           ('trainable', False),\n",
       "                           ('nb_params', 589824)])),\n",
       "             ('BatchNorm2d-305',\n",
       "              OrderedDict([('input_shape', [-1, 2048, 10, 10]),\n",
       "                           ('output_shape', [-1, 2048, 10, 10]),\n",
       "                           ('trainable', False),\n",
       "                           ('nb_params', 4096)])),\n",
       "             ('ReLU-306',\n",
       "              OrderedDict([('input_shape', [-1, 2048, 10, 10]),\n",
       "                           ('output_shape', [-1, 2048, 10, 10]),\n",
       "                           ('nb_params', 0)])),\n",
       "             ('Conv2d-307',\n",
       "              OrderedDict([('input_shape', [-1, 2048, 10, 10]),\n",
       "                           ('output_shape', [-1, 2048, 10, 10]),\n",
       "                           ('trainable', False),\n",
       "                           ('nb_params', 4194304)])),\n",
       "             ('BatchNorm2d-308',\n",
       "              OrderedDict([('input_shape', [-1, 2048, 10, 10]),\n",
       "                           ('output_shape', [-1, 2048, 10, 10]),\n",
       "                           ('trainable', False),\n",
       "                           ('nb_params', 4096)])),\n",
       "             ('ReLU-309',\n",
       "              OrderedDict([('input_shape', [-1, 2048, 10, 10]),\n",
       "                           ('output_shape', [-1, 2048, 10, 10]),\n",
       "                           ('nb_params', 0)])),\n",
       "             ('AdaptiveMaxPool2d-310',\n",
       "              OrderedDict([('input_shape', [-1, 2048, 10, 10]),\n",
       "                           ('output_shape', [-1, 2048, 1, 1]),\n",
       "                           ('nb_params', 0)])),\n",
       "             ('AdaptiveAvgPool2d-311',\n",
       "              OrderedDict([('input_shape', [-1, 2048, 10, 10]),\n",
       "                           ('output_shape', [-1, 2048, 1, 1]),\n",
       "                           ('nb_params', 0)])),\n",
       "             ('AdaptiveConcatPool2d-312',\n",
       "              OrderedDict([('input_shape', [-1, 2048, 10, 10]),\n",
       "                           ('output_shape', [-1, 4096, 1, 1]),\n",
       "                           ('nb_params', 0)])),\n",
       "             ('Flatten-313',\n",
       "              OrderedDict([('input_shape', [-1, 4096, 1, 1]),\n",
       "                           ('output_shape', [-1, 4096]),\n",
       "                           ('nb_params', 0)])),\n",
       "             ('BatchNorm1d-314',\n",
       "              OrderedDict([('input_shape', [-1, 4096]),\n",
       "                           ('output_shape', [-1, 4096]),\n",
       "                           ('trainable', True),\n",
       "                           ('nb_params', 8192)])),\n",
       "             ('Dropout-315',\n",
       "              OrderedDict([('input_shape', [-1, 4096]),\n",
       "                           ('output_shape', [-1, 4096]),\n",
       "                           ('nb_params', 0)])),\n",
       "             ('Linear-316',\n",
       "              OrderedDict([('input_shape', [-1, 4096]),\n",
       "                           ('output_shape', [-1, 512]),\n",
       "                           ('trainable', True),\n",
       "                           ('nb_params', 2097664)])),\n",
       "             ('ReLU-317',\n",
       "              OrderedDict([('input_shape', [-1, 512]),\n",
       "                           ('output_shape', [-1, 512]),\n",
       "                           ('nb_params', 0)])),\n",
       "             ('BatchNorm1d-318',\n",
       "              OrderedDict([('input_shape', [-1, 512]),\n",
       "                           ('output_shape', [-1, 512]),\n",
       "                           ('trainable', True),\n",
       "                           ('nb_params', 1024)])),\n",
       "             ('Dropout-319',\n",
       "              OrderedDict([('input_shape', [-1, 512]),\n",
       "                           ('output_shape', [-1, 512]),\n",
       "                           ('nb_params', 0)])),\n",
       "             ('Linear-320',\n",
       "              OrderedDict([('input_shape', [-1, 512]),\n",
       "                           ('output_shape', [-1, 120]),\n",
       "                           ('trainable', True),\n",
       "                           ('nb_params', 61560)])),\n",
       "             ('LogSoftmax-321',\n",
       "              OrderedDict([('input_shape', [-1, 120]),\n",
       "                           ('output_shape', [-1, 120]),\n",
       "                           ('nb_params', 0)]))])"
      ]
     },
     "execution_count": 46,
     "metadata": {},
     "output_type": "execute_result"
    }
   ],
   "source": [
    "learn.summary()"
   ]
  },
  {
   "cell_type": "code",
   "execution_count": 47,
   "metadata": {},
   "outputs": [
    {
     "data": {
      "application/vnd.jupyter.widget-view+json": {
       "model_id": "0db8f7b7929a49efa1d3c1758cb1dc78",
       "version_major": 2,
       "version_minor": 0
      },
      "text/plain": [
       "HBox(children=(IntProgress(value=0, description='Epoch', max=3), HTML(value='')))"
      ]
     },
     "metadata": {},
     "output_type": "display_data"
    },
    {
     "name": "stdout",
     "output_type": "stream",
     "text": [
      "epoch      trn_loss   val_loss   accuracy                    \n",
      "    0      0.336283   0.22907    0.928082  \n",
      "    1      0.308014   0.226803   0.926125                    \n",
      "    2      0.297807   0.221611   0.926125                    \n"
     ]
    },
    {
     "data": {
      "text/plain": [
       "[array([0.22161]), 0.9261252515003406]"
      ]
     },
     "execution_count": 47,
     "metadata": {},
     "output_type": "execute_result"
    }
   ],
   "source": [
    "# epoch - 1 cycle through the data\n",
    "# cyccle -> how many epoch in a cycle\n",
    "learn.fit(1e-2, 3, cycle_len=1)"
   ]
  },
  {
   "cell_type": "markdown",
   "metadata": {},
   "source": [
    "Validation loss is much lower than training loss. This is a sign of underfitting. Cycle_len=1 may be too short. Let's set cycle_mult=2 to find better parameter."
   ]
  },
  {
   "cell_type": "code",
   "execution_count": 48,
   "metadata": {},
   "outputs": [
    {
     "data": {
      "application/vnd.jupyter.widget-view+json": {
       "model_id": "69c8702d91574271a188d4129ee4f4cb",
       "version_major": 2,
       "version_minor": 0
      },
      "text/plain": [
       "HBox(children=(IntProgress(value=0, description='Epoch', max=7), HTML(value='')))"
      ]
     },
     "metadata": {},
     "output_type": "display_data"
    },
    {
     "name": "stdout",
     "output_type": "stream",
     "text": [
      "epoch      trn_loss   val_loss   accuracy                    \n",
      "    0      0.275955   0.217914   0.929061  \n",
      "    1      0.263141   0.217467   0.929061                    \n",
      "    2      0.242861   0.215816   0.927593                    \n",
      "    3      0.243171   0.221161   0.926614                    \n",
      "    4      0.218969   0.214837   0.927593                    \n",
      "    5      0.213114   0.21352    0.927104                    \n",
      "    6      0.200029   0.212671   0.928082                    \n"
     ]
    },
    {
     "data": {
      "text/plain": [
       "[array([0.21267]), 0.9280821912559278]"
      ]
     },
     "execution_count": 48,
     "metadata": {},
     "output_type": "execute_result"
    }
   ],
   "source": [
    "# When you are under fitting, it means cycle_len=1 is too short (learning rate is getting reset before it had the chance to zoom in properly).\n",
    "learn.fit(1e-2, 3, cycle_len=1, cycle_mult=2) # 1+2+4 = 7 epochs"
   ]
  },
  {
   "cell_type": "markdown",
   "metadata": {},
   "source": [
    "Training loss and validation loss are getting closer and smaller. We are on right track."
   ]
  },
  {
   "cell_type": "code",
   "execution_count": 49,
   "metadata": {
    "scrolled": true
   },
   "outputs": [
    {
     "name": "stdout",
     "output_type": "stream",
     "text": [
      "                                             \r"
     ]
    },
    {
     "data": {
      "text/plain": [
       "(0.9354207436399217, 0.21095394549804428)"
      ]
     },
     "execution_count": 49,
     "metadata": {},
     "output_type": "execute_result"
    }
   ],
   "source": [
    "log_preds, y = learn.TTA() # (5, 2044, 120), (2044,)\n",
    "probs = np.mean(np.exp(log_preds),0)\n",
    "accuracy_np(probs, y), metrics.log_loss(y, probs)"
   ]
  },
  {
   "cell_type": "code",
   "execution_count": 50,
   "metadata": {},
   "outputs": [
    {
     "data": {
      "text/plain": [
       "(2044, array([19, 15,  7, 99, 73]))"
      ]
     },
     "execution_count": 50,
     "metadata": {},
     "output_type": "execute_result"
    }
   ],
   "source": [
    "len(data.val_ds.y), data.val_ds.y[:5]"
   ]
  },
  {
   "cell_type": "code",
   "execution_count": 51,
   "metadata": {},
   "outputs": [],
   "source": [
    "learn.save('dogbreed_299_pre')"
   ]
  },
  {
   "cell_type": "code",
   "execution_count": 52,
   "metadata": {},
   "outputs": [],
   "source": [
    "learn.load('dogbreed_299_pre')"
   ]
  },
  {
   "cell_type": "code",
   "execution_count": 53,
   "metadata": {
    "scrolled": true
   },
   "outputs": [
    {
     "data": {
      "application/vnd.jupyter.widget-view+json": {
       "model_id": "e4ab47285605483cbff535f869bbf6ca",
       "version_major": 2,
       "version_minor": 0
      },
      "text/plain": [
       "HBox(children=(IntProgress(value=0, description='Epoch', max=2), HTML(value='')))"
      ]
     },
     "metadata": {},
     "output_type": "display_data"
    },
    {
     "name": "stdout",
     "output_type": "stream",
     "text": [
      "epoch      trn_loss   val_loss   accuracy                    \n",
      "    0      0.200948   0.218173   0.926125  \n",
      "    1      0.192547   0.215173   0.926125                    \n"
     ]
    },
    {
     "data": {
      "text/plain": [
       "[array([0.21517]), 0.926125246426364]"
      ]
     },
     "execution_count": 53,
     "metadata": {},
     "output_type": "execute_result"
    }
   ],
   "source": [
    "learn.fit(1e-2, 1, cycle_len=2) # 1+1 = 2 epochs"
   ]
  },
  {
   "cell_type": "code",
   "execution_count": 54,
   "metadata": {},
   "outputs": [],
   "source": [
    "learn.save('dogbreed_299_pre')"
   ]
  },
  {
   "cell_type": "code",
   "execution_count": 55,
   "metadata": {},
   "outputs": [
    {
     "name": "stdout",
     "output_type": "stream",
     "text": [
      "                                             \r"
     ]
    },
    {
     "data": {
      "text/plain": [
       "(0.9368884540117417, 0.20749802465611325)"
      ]
     },
     "execution_count": 55,
     "metadata": {},
     "output_type": "execute_result"
    }
   ],
   "source": [
    "log_preds, y = learn.TTA()\n",
    "probs = np.mean(np.exp(log_preds),0)\n",
    "accuracy_np(probs, y), metrics.log_loss(y, probs)"
   ]
  },
  {
   "cell_type": "markdown",
   "metadata": {},
   "source": [
    "This dataset is so similar to ImageNet dataset. Training convolution layers doesn't help much. We are not going to unfreeze."
   ]
  },
  {
   "cell_type": "markdown",
   "metadata": {},
   "source": [
    "## Create submission\n",
    "\n",
    "https://youtu.be/9C06ZPF8Uuc?t=1905"
   ]
  },
  {
   "cell_type": "code",
   "execution_count": 56,
   "metadata": {},
   "outputs": [
    {
     "data": {
      "text/plain": [
       "['affenpinscher',\n",
       " 'afghan_hound',\n",
       " 'african_hunting_dog',\n",
       " 'airedale',\n",
       " 'american_staffordshire_terrier',\n",
       " 'appenzeller',\n",
       " 'australian_terrier',\n",
       " 'basenji',\n",
       " 'basset',\n",
       " 'beagle',\n",
       " 'bedlington_terrier',\n",
       " 'bernese_mountain_dog',\n",
       " 'black-and-tan_coonhound',\n",
       " 'blenheim_spaniel',\n",
       " 'bloodhound',\n",
       " 'bluetick',\n",
       " 'border_collie',\n",
       " 'border_terrier',\n",
       " 'borzoi',\n",
       " 'boston_bull',\n",
       " 'bouvier_des_flandres',\n",
       " 'boxer',\n",
       " 'brabancon_griffon',\n",
       " 'briard',\n",
       " 'brittany_spaniel',\n",
       " 'bull_mastiff',\n",
       " 'cairn',\n",
       " 'cardigan',\n",
       " 'chesapeake_bay_retriever',\n",
       " 'chihuahua',\n",
       " 'chow',\n",
       " 'clumber',\n",
       " 'cocker_spaniel',\n",
       " 'collie',\n",
       " 'curly-coated_retriever',\n",
       " 'dandie_dinmont',\n",
       " 'dhole',\n",
       " 'dingo',\n",
       " 'doberman',\n",
       " 'english_foxhound',\n",
       " 'english_setter',\n",
       " 'english_springer',\n",
       " 'entlebucher',\n",
       " 'eskimo_dog',\n",
       " 'flat-coated_retriever',\n",
       " 'french_bulldog',\n",
       " 'german_shepherd',\n",
       " 'german_short-haired_pointer',\n",
       " 'giant_schnauzer',\n",
       " 'golden_retriever',\n",
       " 'gordon_setter',\n",
       " 'great_dane',\n",
       " 'great_pyrenees',\n",
       " 'greater_swiss_mountain_dog',\n",
       " 'groenendael',\n",
       " 'ibizan_hound',\n",
       " 'irish_setter',\n",
       " 'irish_terrier',\n",
       " 'irish_water_spaniel',\n",
       " 'irish_wolfhound',\n",
       " 'italian_greyhound',\n",
       " 'japanese_spaniel',\n",
       " 'keeshond',\n",
       " 'kelpie',\n",
       " 'kerry_blue_terrier',\n",
       " 'komondor',\n",
       " 'kuvasz',\n",
       " 'labrador_retriever',\n",
       " 'lakeland_terrier',\n",
       " 'leonberg',\n",
       " 'lhasa',\n",
       " 'malamute',\n",
       " 'malinois',\n",
       " 'maltese_dog',\n",
       " 'mexican_hairless',\n",
       " 'miniature_pinscher',\n",
       " 'miniature_poodle',\n",
       " 'miniature_schnauzer',\n",
       " 'newfoundland',\n",
       " 'norfolk_terrier',\n",
       " 'norwegian_elkhound',\n",
       " 'norwich_terrier',\n",
       " 'old_english_sheepdog',\n",
       " 'otterhound',\n",
       " 'papillon',\n",
       " 'pekinese',\n",
       " 'pembroke',\n",
       " 'pomeranian',\n",
       " 'pug',\n",
       " 'redbone',\n",
       " 'rhodesian_ridgeback',\n",
       " 'rottweiler',\n",
       " 'saint_bernard',\n",
       " 'saluki',\n",
       " 'samoyed',\n",
       " 'schipperke',\n",
       " 'scotch_terrier',\n",
       " 'scottish_deerhound',\n",
       " 'sealyham_terrier',\n",
       " 'shetland_sheepdog',\n",
       " 'shih-tzu',\n",
       " 'siberian_husky',\n",
       " 'silky_terrier',\n",
       " 'soft-coated_wheaten_terrier',\n",
       " 'staffordshire_bullterrier',\n",
       " 'standard_poodle',\n",
       " 'standard_schnauzer',\n",
       " 'sussex_spaniel',\n",
       " 'tibetan_mastiff',\n",
       " 'tibetan_terrier',\n",
       " 'toy_poodle',\n",
       " 'toy_terrier',\n",
       " 'vizsla',\n",
       " 'walker_hound',\n",
       " 'weimaraner',\n",
       " 'welsh_springer_spaniel',\n",
       " 'west_highland_white_terrier',\n",
       " 'whippet',\n",
       " 'wire-haired_fox_terrier',\n",
       " 'yorkshire_terrier']"
      ]
     },
     "execution_count": 56,
     "metadata": {},
     "output_type": "execute_result"
    }
   ],
   "source": [
    "data.classes"
   ]
  },
  {
   "cell_type": "code",
   "execution_count": 95,
   "metadata": {},
   "outputs": [
    {
     "data": {
      "text/plain": [
       "['test/de084b830010b6107215fef5d4a75b94.jpg',\n",
       " 'test/6b423ca7020e70eb05732843c5d2bad1.jpg',\n",
       " 'test/74aa7e201e0e93e13e87b986a7d31839.jpg',\n",
       " 'test/a079f72193264bc5685e5d28d7372680.jpg',\n",
       " 'test/583f7580fa5fec1266331fcf83b76fd6.jpg',\n",
       " 'test/72cd7496a319c832f670fbb8d349217e.jpg',\n",
       " 'test/ed9e75a553dbb4712addc1638693dc03.jpg',\n",
       " 'test/6322fa7edb40af844609b4843a89b5fd.jpg',\n",
       " 'test/d18de4f66f7d2ae8dffb08ec13b9bbc5.jpg',\n",
       " 'test/8c567325012bf8d7daeff453ec959312.jpg',\n",
       " 'test/bbecb2e61f07719abe32be3f36b3fac0.jpg',\n",
       " 'test/7d3a1066521da895f915af31e8e739df.jpg',\n",
       " 'test/a0256a9577f2e7c6631dd78556e4bab8.jpg',\n",
       " 'test/87dafc44ed8ae792ea5c341d7cbb6df4.jpg',\n",
       " 'test/1f2e9080823a6b093e7a4baa668393d2.jpg',\n",
       " 'test/c65172e587bf02794e5b40f830bcb2af.jpg',\n",
       " 'test/4f0b2dbc23fdef5f939144f456a62140.jpg',\n",
       " 'test/a5049952a1a2ea0473e6520db5e4a4fb.jpg',\n",
       " 'test/685ac2356ad42163b2141a41972e5c54.jpg',\n",
       " 'test/bd405393e16688e5282b57d92bdbb97b.jpg',\n",
       " 'test/cbb4039e5a16f80c02f3d188f98beaf7.jpg',\n",
       " 'test/18cf06b0c6a59c6891bf6f5a42bcc73d.jpg',\n",
       " 'test/9ec769e34bc902bd9de458103e9347c8.jpg',\n",
       " 'test/14dac63a8e92005b685c7d39ddd8ed40.jpg',\n",
       " 'test/c5ebdbaf77a7d833edfde7061bbb21d8.jpg',\n",
       " 'test/161b2a67618d2217940282d01d27c32a.jpg',\n",
       " 'test/74b133bbc2d4ece626394bdec13d702a.jpg',\n",
       " 'test/bfbadb3ef3dc0635a5a0fd800fe456b1.jpg',\n",
       " 'test/7a82374b96dd6ff135e84a079e4433d0.jpg',\n",
       " 'test/2e57d925d44dc59983f4fe979f78d505.jpg',\n",
       " 'test/4ded44ea906ddaeaff15eb82965a14d8.jpg',\n",
       " 'test/fb2cb63322ef0e9a7ade9ecd93921eb2.jpg',\n",
       " 'test/9d4d5b37e1be32393d4d36014587d0fd.jpg',\n",
       " 'test/e702ddff98bd0b05ab200ffb43fb080a.jpg',\n",
       " 'test/1799b329a758f8f9411337f44a7765de.jpg',\n",
       " 'test/014da249523b906a840f8c33ae055cf3.jpg',\n",
       " 'test/d7a8e33d60c6184bdedf9e2e8865199d.jpg',\n",
       " 'test/844ecf21ddef99656d7829d1e139f9fa.jpg',\n",
       " 'test/6c9d748c5a472b7f2d51a8f08ac294a8.jpg',\n",
       " 'test/e9fda9f4a21d4249b9d4a77d06ad751a.jpg',\n",
       " 'test/e7e9624f2a2e61ab187358f5968bfde8.jpg',\n",
       " 'test/a96541cd87b6508da3fa3840f2558fb1.jpg',\n",
       " 'test/2a43b986457a491c2efb3a055bb3fa90.jpg',\n",
       " 'test/a31c97ad52288cb414284e9b652b4d28.jpg',\n",
       " 'test/cad3462fb9999185eaa7a2318070d054.jpg',\n",
       " 'test/e806fbb5ca4dd3a094f7819bd810cc65.jpg',\n",
       " 'test/4064e9fe3249051177c27d4d505c1d83.jpg',\n",
       " 'test/c5852f5cc0deee04ab5f91ba2d77f0dd.jpg',\n",
       " 'test/7fb2caad62ce4a1183c6c5e4b59e36f2.jpg',\n",
       " 'test/7ca5580d25264b2454908b5346ff3281.jpg',\n",
       " 'test/e7b357150635c250757363718e4dae86.jpg',\n",
       " 'test/cebe26a2407cf5a98ee46f8e432b768c.jpg',\n",
       " 'test/a3f2bdc1b31e838afd609a242c44310d.jpg',\n",
       " 'test/91e6c6fbf42bc6a74db07709f904a256.jpg',\n",
       " 'test/3ab49993f5bbf72dc90204f1a931731f.jpg',\n",
       " 'test/3a8a7e8e65019c503a99922f816492a9.jpg',\n",
       " 'test/394217aa781f327cf4c26beabc50f457.jpg',\n",
       " 'test/22ceeed76fe2f66f8c820cbb24c5d05b.jpg',\n",
       " 'test/38f5d9a25b3f59b2b2857a335f96670a.jpg',\n",
       " 'test/32dc3f5809ddf87c24bc37c80f65d740.jpg',\n",
       " 'test/b9ec318f055b3534673cefe48cd60922.jpg',\n",
       " 'test/d62267a7ac7f98a7607900ea52515ca1.jpg',\n",
       " 'test/4d81103e9951e8b21aa0d7f60299e3d5.jpg',\n",
       " 'test/56fb2adffdd0354ef768879b4d5e51b5.jpg',\n",
       " 'test/205c78515771a0fb3e2e92d0aa2ba430.jpg',\n",
       " 'test/82f07a63a1f03ff9d8e0f4a8458caa93.jpg',\n",
       " 'test/a16ee73695f5b2d2c05447ce21b38365.jpg',\n",
       " 'test/be265fe804eb9ec39d4940f2a4ccf057.jpg',\n",
       " 'test/fc346bf7b0b6af0646a34a73ee8aa4b7.jpg',\n",
       " 'test/22f847ce70cd839a1c83b4730958c423.jpg',\n",
       " 'test/42e57c2a787a7dd2cc5fe260376bb71a.jpg',\n",
       " 'test/422a371c967d6a71ca5d9b7c8add7523.jpg',\n",
       " 'test/c737d057ec6e4c28e01f2f54e956a3ae.jpg',\n",
       " 'test/2a1aef68849e0e8bc88bf70771042fb2.jpg',\n",
       " 'test/b8e359b8f2e0a27d53611f3dd29c0b0b.jpg',\n",
       " 'test/d970085b1f181e52ff8046fe028ead6a.jpg',\n",
       " 'test/4addecc61b0c8b8edd14fb438d3e6608.jpg',\n",
       " 'test/94e4fb0bc06de9372f74d5b730d57bc7.jpg',\n",
       " 'test/c628fdca364232c1b60bb2eecff13add.jpg',\n",
       " 'test/3f99fa318e3a2f03fd51a2f6f1d15ad8.jpg',\n",
       " 'test/582c346847be9a10fcc5edf5656896c7.jpg',\n",
       " 'test/0d2eabeabab223d84cc00ffa8aacd16d.jpg',\n",
       " 'test/dc36523850695dbad4aeed2b626d1e99.jpg',\n",
       " 'test/c02cd35494405c5b848c9d1848f3f465.jpg',\n",
       " 'test/38a6be978e4b137b3a27e81fe3750511.jpg',\n",
       " 'test/6fdc2563e0d2f4a2bb3dfd173740503d.jpg',\n",
       " 'test/090179e04f4d8bf313d0fc97c1879b3f.jpg',\n",
       " 'test/2465e002f52fd1e6f38a13fa40868c36.jpg',\n",
       " 'test/8e8957436c6405e2579447229ea22a0d.jpg',\n",
       " 'test/06a141751c9327ab3afcdea3b0d92968.jpg',\n",
       " 'test/cb7a1afa2a529391169bd6e4deea1234.jpg',\n",
       " 'test/a0f0b3b71a37ed3b61a0497584e3eb7d.jpg',\n",
       " 'test/fbfd42217e500b5a9be29fdf0bff987c.jpg',\n",
       " 'test/0e1ea29028a5b914632b0c30ecf4d3ee.jpg',\n",
       " 'test/41bb88e8da45c400490febc6d8d13689.jpg',\n",
       " 'test/8e0d7d2c224de1d5716d7a69d7854d06.jpg',\n",
       " 'test/de172eece3080506aa3bcf1967f4a90b.jpg',\n",
       " 'test/d4f769129f9c415999dc400545af6053.jpg',\n",
       " 'test/02e513d277125b33ecfac5944dcc8bdb.jpg',\n",
       " 'test/509508def1fa3f8fb629dd82a9b83f15.jpg',\n",
       " 'test/8870333f2663e8001f88f8a8006f47d8.jpg',\n",
       " 'test/55f0dac253f7acd1387f3359e9696bc7.jpg',\n",
       " 'test/559c8471983b589691bd095e6a56c12b.jpg',\n",
       " 'test/4da3f70335465ba7f60de92ce05990ee.jpg',\n",
       " 'test/0f13a35521e28485de8cc802e429b324.jpg',\n",
       " 'test/7c587565ef90a9db9dc01ba6a6b12967.jpg',\n",
       " 'test/0c56abba9f7ff87afbbd1021364739af.jpg',\n",
       " 'test/66607a1c917170349084a2413767cdfd.jpg',\n",
       " 'test/7b4465b05399a7a0d5d16725ae547545.jpg',\n",
       " 'test/0c8383a09304fff32064f2054a12153c.jpg',\n",
       " 'test/b25b4c2a8ff3d492cc4c201b7f399f3e.jpg',\n",
       " 'test/b91281d65a5769c6312fec0d0ff6f606.jpg',\n",
       " 'test/52402474e075c1cfe0ced183c2f7f2a7.jpg',\n",
       " 'test/b2e8edc17029f3372090ec70b2d21291.jpg',\n",
       " 'test/13bbf5b7a9d2372c266af16905acfa25.jpg',\n",
       " 'test/0e01744db60c4f9933f9a85022b25324.jpg',\n",
       " 'test/a06f9a9761da243d492201df9bfb7828.jpg',\n",
       " 'test/caf242df58bdb9dc8a5101f0ea39492a.jpg',\n",
       " 'test/11f1d13042c0409b87fb39414f189e52.jpg',\n",
       " 'test/5e7ca529f7a5a55066db4b5f2214d6af.jpg',\n",
       " 'test/5d20d6460f27cfc44b891393f09ccda8.jpg',\n",
       " 'test/7abfb246ba4c6ba285ba4bb59536e3e2.jpg',\n",
       " 'test/d4bf6045e3453d9a2cc117d3e86a1e00.jpg',\n",
       " 'test/78a72d0e1953c906d3803da6c1798466.jpg',\n",
       " 'test/b4f81cada44103c6ac7d436b758e1c98.jpg',\n",
       " 'test/61bca8b109157bcd0bbcc083b6590e3b.jpg',\n",
       " 'test/5b8da1041db85099dac6f9eb5ff9fa1f.jpg',\n",
       " 'test/819b75579613e99d024dc42461146154.jpg',\n",
       " 'test/b70c678998de92f2236a6ec3dc761e0d.jpg',\n",
       " 'test/9d0e5786cd22d2fccab24a43fe41cd6e.jpg',\n",
       " 'test/fd7148fdd18ad0b4d1c5ff4c4c35f99d.jpg',\n",
       " 'test/8646d62c1e40c6a1806b472508200b89.jpg',\n",
       " 'test/b19a8a426fe7b91c890e33f5622fcced.jpg',\n",
       " 'test/73c829d5e439cd4416537ffa9126b5fb.jpg',\n",
       " 'test/76d1bf760bb0fc5d457442bf5de4fac6.jpg',\n",
       " 'test/304d7234be25057d44b86d1fbb5468c7.jpg',\n",
       " 'test/eb278b7573e08beb43823a006a7ba690.jpg',\n",
       " 'test/630d5fa66c2a3b447e9aaefb73dab96d.jpg',\n",
       " 'test/4acf1e1395d06ab2f8fc8ca232fe3634.jpg',\n",
       " 'test/af3bb35fbb65c50b2e707ff686f98f9d.jpg',\n",
       " 'test/7525ca4502214633f3395d55dc4771bc.jpg',\n",
       " 'test/157acf40281d77f6fa1e73df81dd91ba.jpg',\n",
       " 'test/413255471ea2810619065b6001a64bb8.jpg',\n",
       " 'test/c46442955474afb1b7f61fdcbe218e98.jpg',\n",
       " 'test/40b1f18fb2bec4a8ae46850f41e4df58.jpg',\n",
       " 'test/23a849cf21f4a759477f1013997af060.jpg',\n",
       " 'test/5ba53c5a1a62e47e6986c936a37605d7.jpg',\n",
       " 'test/70d038338da63ff4d4a5b42ecdf32aa9.jpg',\n",
       " 'test/9082c80ea0f49d1a08233606488e9cc0.jpg',\n",
       " 'test/f928a71d3356833e8c46734938c04cd7.jpg',\n",
       " 'test/303d2bc59de08d6973f67793f87e36f5.jpg',\n",
       " 'test/f367afa19bb30234fafa16c64b3730f0.jpg',\n",
       " 'test/c49487f04b2e91df237639ce16669507.jpg',\n",
       " 'test/e24b2d063b3ad699d5eba7a01e4ae956.jpg',\n",
       " 'test/cc3b7023898a9a305fcd97db7b163b93.jpg',\n",
       " 'test/d8886fb65417e2e3fc3f793e19f5d5ad.jpg',\n",
       " 'test/4927b65015742aa5f7574e3f8d0b4c90.jpg',\n",
       " 'test/e383a31009f0779536d43816c10bf662.jpg',\n",
       " 'test/38694b4eecef73bbdcba54e459d9c9e5.jpg',\n",
       " 'test/9ae64eb724d302df9b59eae70864962a.jpg',\n",
       " 'test/c971c03d76e8b2b18c0fb51f638fe22f.jpg',\n",
       " 'test/115e99fcb5d2b82c22d58df7d0011069.jpg',\n",
       " 'test/0e39ccd1021cefe374b0e38fd35b4356.jpg',\n",
       " 'test/ea6d2d4271393459e70d77e1026737b5.jpg',\n",
       " 'test/1b7e97f89451f417af1d0dfdfef21acf.jpg',\n",
       " 'test/1696bdbb672d81a099fa365b41c7dfd2.jpg',\n",
       " 'test/42040603428eb9e817bb39598194e1fb.jpg',\n",
       " 'test/f90ace46a8ccf051f6f7ec783ad8e258.jpg',\n",
       " 'test/79da8d9ce79801e2e5d5bf38f5e930ae.jpg',\n",
       " 'test/01b77c99d6ecf7aee49c8ec326bcb07c.jpg',\n",
       " 'test/b56650f1502f151ef1c307f93f1b03ff.jpg',\n",
       " 'test/c52405e4e5afb93a6ca775008480a41e.jpg',\n",
       " 'test/f8a99a454fe2bbf5ecfa59952d473506.jpg',\n",
       " 'test/3cc169af652a3252dfa5b580d450243a.jpg',\n",
       " 'test/0c4e4a613e16d0de30c4d13a01d2f8c1.jpg',\n",
       " 'test/a6f76d18079dd53cdaab9960572b8481.jpg',\n",
       " 'test/a00866ef441ff30b22e0fdc31b1fd604.jpg',\n",
       " 'test/d63bae3d392864deed929ad18ce36cc0.jpg',\n",
       " 'test/38fe82e9b160a8ea05467b989acba467.jpg',\n",
       " 'test/114b457d11f8ece14dd82ea525683a1f.jpg',\n",
       " 'test/21ca3205f590adf0f266ef71323bba49.jpg',\n",
       " 'test/52cab2e66727470960de51200f7c0e8f.jpg',\n",
       " 'test/9c84890aaf6d057d4e9ed04eebe025f5.jpg',\n",
       " 'test/4e26590f65c8753f6970ebc75cb4b0d5.jpg',\n",
       " 'test/0c3aff87f7d7f4263b2da9d322393ef9.jpg',\n",
       " 'test/4829d23e0ab531dc1d4fb0ac1835e76e.jpg',\n",
       " 'test/d289479b998595ea937f1474f47d3912.jpg',\n",
       " 'test/149727c54d9ca9e4757bc139afbd7183.jpg',\n",
       " 'test/27102c0ff9d923bc0643c90bd30d0924.jpg',\n",
       " 'test/e78b50f1d12148deef4c564ea4c88050.jpg',\n",
       " 'test/499c5bb7d85883280842e3c4d83c0f95.jpg',\n",
       " 'test/7f0143dbe13ebf3e0cce7e0e90002c69.jpg',\n",
       " 'test/77786f2601ba6ab4ddb5a36fa52b414b.jpg',\n",
       " 'test/ab1738dec4e8ca821949a9a9b3cd2724.jpg',\n",
       " 'test/c3794618f46522d52334aeac90f32e53.jpg',\n",
       " 'test/e9c961dc49fdf960fc46c8b54ae1996d.jpg',\n",
       " 'test/3df4a3259f7b08b1a3e325555346cdec.jpg',\n",
       " 'test/ea280d6cb873df2eb683f0a5f13e3dce.jpg',\n",
       " 'test/aac9a11187e8d0c4d7fa8b7f9cde597a.jpg',\n",
       " 'test/5ca4fc5b92f4a9da3b0623155f84a1ca.jpg',\n",
       " 'test/23ebeb57e74030f84613c46d473fa37f.jpg',\n",
       " 'test/519a507a5fb3038537549eb680c118dd.jpg',\n",
       " 'test/4b2a7b21a6cbb7c896353a5e30e27f00.jpg',\n",
       " 'test/58331fbf444ae943d867a7aafc434084.jpg',\n",
       " 'test/ae62c4b2e5b6a62444d2c8a4976a0c16.jpg',\n",
       " 'test/1e948d3e5358f0d736bd9648b5558b13.jpg',\n",
       " 'test/70cc4624a1eb9b0f0587045819143b62.jpg',\n",
       " 'test/514f6bacf175ecb69155ae52bf20ff98.jpg',\n",
       " 'test/899b696b73426a9201fb95579b937148.jpg',\n",
       " 'test/16297a865821f0d7e68340892521ea7f.jpg',\n",
       " 'test/af75455a4069c518b6a95358e0b48bd6.jpg',\n",
       " 'test/b18537245af0f3fb6e8e004c0bb62dbe.jpg',\n",
       " 'test/49de8ff5d5e6ab332356610bcb042948.jpg',\n",
       " 'test/b0c6220d92fb287b9bbee93b28305830.jpg',\n",
       " 'test/629a627eb84b246338859ebb6387183d.jpg',\n",
       " 'test/18c37f1db8d6950a031f9433bf9bc71b.jpg',\n",
       " 'test/70dfdc078135cb06654500c82993b083.jpg',\n",
       " 'test/21912b0666fb7fb953e57e3c785b845d.jpg',\n",
       " 'test/f5787e3574a4af6a19ff825cf0c32366.jpg',\n",
       " 'test/ec63d4730c5cf4b75227e103fea054c3.jpg',\n",
       " 'test/3959ee88ebaf0f18368c038edbd501cf.jpg',\n",
       " 'test/e334f758c7944df19c98d49498d28c64.jpg',\n",
       " 'test/2b560c80aaede000ebb101ffee26bf14.jpg',\n",
       " 'test/004476c96f575879af4af471af65cae8.jpg',\n",
       " 'test/52b0846e26f28f8f1a1899ad98481782.jpg',\n",
       " 'test/950618805a891d92ba13229d237a0b86.jpg',\n",
       " 'test/756e76c61e9f10021ceb8f9c7ce28987.jpg',\n",
       " 'test/1fbb419ca6796def6b25e0ef0af4af81.jpg',\n",
       " 'test/233c3979613d43bf3fd22273ac3bf619.jpg',\n",
       " 'test/b530f785608a421387ffcc3755b27228.jpg',\n",
       " 'test/6115343dabe1736fb7af70e617a0ebc9.jpg',\n",
       " 'test/dea92807aa2ac37bbc2dabf1b0eb6a39.jpg',\n",
       " 'test/be248438d8c470ccd5091b87d1fad336.jpg',\n",
       " 'test/455cb074853028d7b30d40fd87ffff8a.jpg',\n",
       " 'test/55519f4c05e0d85aac08d7ac92746973.jpg',\n",
       " 'test/f68c74c33e5a231bd45bff6206401f09.jpg',\n",
       " 'test/dbe2cc37ff845fd00c39175231d3f32a.jpg',\n",
       " 'test/83233e2774e116ef34a04c53dd00a282.jpg',\n",
       " 'test/104f49e346bad0509899046665a6292e.jpg',\n",
       " 'test/092b3603e559d05e09e226b56bf5f788.jpg',\n",
       " 'test/918b82a965d04368a095f574ef053292.jpg',\n",
       " 'test/30d0782c06dcdda736b702309d026430.jpg',\n",
       " 'test/11a1f410bc886bcd880fb90462c58f23.jpg',\n",
       " 'test/52daaff152ee0087423db59047cf1221.jpg',\n",
       " 'test/97ff87a80a1d4f1dfce697dd1938caf0.jpg',\n",
       " 'test/9ee85a81c98f14d7eb02c2cc0c17bb7d.jpg',\n",
       " 'test/609e8b82bda10358325662f5d837cf6c.jpg',\n",
       " 'test/4e07bc79134c620b3d750264ed6bce91.jpg',\n",
       " 'test/7586e72c940293cdda507e5e40c8af65.jpg',\n",
       " 'test/b5c279466085e036e36b360bd41830d5.jpg',\n",
       " 'test/e9d585ce5dc29b4e9aa6a7332ddfa983.jpg',\n",
       " 'test/1140e6284f80fc0bc1d668438a417a29.jpg',\n",
       " 'test/03700033c5426871aef41ec4b88ff8ec.jpg',\n",
       " 'test/4ba372127749cacacd148e8119e076a9.jpg',\n",
       " 'test/988668e926afe77c50029c1fdf78a789.jpg',\n",
       " 'test/8d5e67d4a02c44f377587a140b78f90b.jpg',\n",
       " 'test/83600f25c6094746a9a7720eefd52c75.jpg',\n",
       " 'test/25e6efde199e2074ecb4a101582c82b5.jpg',\n",
       " 'test/ac606d827479c6635a287e7af1b7d434.jpg',\n",
       " 'test/d988654d71f65b9db22fda35620380e0.jpg',\n",
       " 'test/d7759e463e93114b57e12c56e7a13289.jpg',\n",
       " 'test/0dd90b931c1817e7e3106a1d3c56545e.jpg',\n",
       " 'test/d79ac967b2359b51b9466249fd994e89.jpg',\n",
       " 'test/c23a169026a1e6517dc9f6ab1879922a.jpg',\n",
       " 'test/0ed4f500b04714eb648c0cb21060ec5b.jpg',\n",
       " 'test/19ab5466e29ae76e27d1c7211d6af610.jpg',\n",
       " 'test/5595534a0750931bc61de04cae2baaf7.jpg',\n",
       " 'test/6021ba651b3443ccdf552a4140ac1b47.jpg',\n",
       " 'test/01cb4c4d181a23e157429168e948fe5a.jpg',\n",
       " 'test/cbdeba60d00bced9474406ad74259d86.jpg',\n",
       " 'test/f6e66fbe9abfe44114ba82dee87c4d1e.jpg',\n",
       " 'test/3f89015446f2ddcb64e549249c866e1f.jpg',\n",
       " 'test/9e0fc3554dff837746953b94c1240e62.jpg',\n",
       " 'test/858f68880a6de58d30b0201bce385584.jpg',\n",
       " 'test/2d35cf67f34be380b13db24bf2bd30a4.jpg',\n",
       " 'test/26a9d1052d04bf8d3d31577e04cdb88d.jpg',\n",
       " 'test/fec0e1ad18d153c54a71215002ba4f04.jpg',\n",
       " 'test/802df01f1ec626aee99c8fc891dbead8.jpg',\n",
       " 'test/acf4ca39e3d94f0a6717b6775ab73868.jpg',\n",
       " 'test/42039581433077885058357f8cc0a281.jpg',\n",
       " 'test/7e27bb46148ca8d422963c62d76e753b.jpg',\n",
       " 'test/fdcd8dc270cee25e07e5f89966338985.jpg',\n",
       " 'test/591cb82babcda491717a3972d6a67a2f.jpg',\n",
       " 'test/a455923531abd85cc6e614fca1450610.jpg',\n",
       " 'test/26f2171c08646d0c5769659610ec59cc.jpg',\n",
       " 'test/effcbcfa58ba87eac8439b7106d8623c.jpg',\n",
       " 'test/da316b3810125758e911850b9c389ce9.jpg',\n",
       " 'test/4dc01898ae501af38f09291b2ce5c6d9.jpg',\n",
       " 'test/d6ae80a6a4efb6225937c2786de0ef7c.jpg',\n",
       " 'test/6d32ef9ae09035abec814438ea09b320.jpg',\n",
       " 'test/69e231ddd06ed66f4517f695908c7e6e.jpg',\n",
       " 'test/0c86aa25b14fcc51db69e652cf399775.jpg',\n",
       " 'test/8039f8c115eeaaaa324820bb49640fcd.jpg',\n",
       " 'test/1fb0b818cd3f9a59b818795942737321.jpg',\n",
       " 'test/1448ce088a417e359510c6ec0b847daf.jpg',\n",
       " 'test/0d2052c227baab35a97ea9d0b767967f.jpg',\n",
       " 'test/0e052388023bf1ebe8c0d8679e70b989.jpg',\n",
       " 'test/f5c67d1ba3029b538cc1a9b8ef2e53fe.jpg',\n",
       " 'test/d18faeca0980bb364e31d69e662b3511.jpg',\n",
       " 'test/ee18a2bf52ba6ae53327c951c94d598e.jpg',\n",
       " 'test/0a54ce47525781f2caa66f65291dddf8.jpg',\n",
       " 'test/b273868069a568219fd2f18c9ef1eaea.jpg',\n",
       " 'test/a23d441806561737963455cb1bda6faf.jpg',\n",
       " 'test/6ddad6369722cd52640a5270f2f5ac39.jpg',\n",
       " 'test/f5a6e430c2c363335d22ae0593d7533a.jpg',\n",
       " 'test/84e3a6a1d53e886d97f65411489969f0.jpg',\n",
       " 'test/04713db71e256ff9339b36f8005bae13.jpg',\n",
       " 'test/111fb27f743d10119c071278ee65d131.jpg',\n",
       " 'test/2d46b010d81824d286b1ffcaa7495609.jpg',\n",
       " 'test/ceda04a783e5a886f3f0375e51570667.jpg',\n",
       " 'test/cfd0a66680b16d2479c28001a03b5c7a.jpg',\n",
       " 'test/09612c47e84bcdf06c8e5a99ac1a8bd2.jpg',\n",
       " 'test/5fc50ff832ae9f5ba160e0d1e3ad9544.jpg',\n",
       " 'test/e8319b1410a984291d71a3e60c84d86c.jpg',\n",
       " 'test/34d644bd3675e70a43a4306e7aa3f6ee.jpg',\n",
       " 'test/dcab2d03a686ab3f31d1bc3e5700f6d1.jpg',\n",
       " 'test/02f7caf2655b4b2e31aae3eb63f482e3.jpg',\n",
       " 'test/371d5309a43022c903adbad7a940041b.jpg',\n",
       " 'test/57bb7cd827e0afec4d761aefaeb08996.jpg',\n",
       " 'test/1c6785d832f3bd13c01ee474e3fbf5b3.jpg',\n",
       " 'test/9c749758e85e5b13fa7ff4498bd7b3f3.jpg',\n",
       " 'test/7879149bc79bd897e240a8249c55eaf6.jpg',\n",
       " 'test/d6a017f768d41576299c6f523f383b83.jpg',\n",
       " 'test/aae4296ae3405c37470f01a9fa1aecb1.jpg',\n",
       " 'test/875606a7c2a96a729380ecfc9d38a4bc.jpg',\n",
       " 'test/e91c648dc54d6f418636ec7bc1566912.jpg',\n",
       " 'test/d2dfaebbd301b80ff290d088d2e7d258.jpg',\n",
       " 'test/cf1ce01da38d0bf27819def8b78f495e.jpg',\n",
       " 'test/0bf31cf6e8951bca71c2774b3a13e7e2.jpg',\n",
       " 'test/112cf5a77c123e8e8a024f26b4154a2d.jpg',\n",
       " 'test/06c5fbbfbd83eba3dd3993191df0f7ae.jpg',\n",
       " 'test/2e3ccd5230893d0e07e9ecf6d58be3d1.jpg',\n",
       " 'test/69407ee1ec80658602b97adf591f2e46.jpg',\n",
       " 'test/f49b264ba04d042811304a9f994d8415.jpg',\n",
       " 'test/2a6a5308f9d82b7d881cc02e13ebb41a.jpg',\n",
       " 'test/e93e61b16ed9e22d35046ae7900b0647.jpg',\n",
       " 'test/28d35718a4627178efa7055f52ce8a07.jpg',\n",
       " 'test/dfe02d52ca281aaca6215a42fee6245c.jpg',\n",
       " 'test/6cb44c0db0f03b690e2400c1e47d8596.jpg',\n",
       " 'test/9ae491d2d92d6482083212b0435b8692.jpg',\n",
       " 'test/78ac7393a682b3880baa5642f2b5a020.jpg',\n",
       " 'test/16c26e38cb350c186b2ebd8bb228ed90.jpg',\n",
       " 'test/53a1dbac12a4a509f51f72c9a3e2f158.jpg',\n",
       " 'test/838e482da3b6f4c6ae72ecc5539f2017.jpg',\n",
       " 'test/a4efca215aa78084b7f26ff1eb38c82e.jpg',\n",
       " 'test/ff9742bc22b5830176e85490cf54cdf7.jpg',\n",
       " 'test/f97e163c3ed39529c99cf141ca6e1adb.jpg',\n",
       " 'test/138aaaa3ad8bdee8167bda4ba8dd3875.jpg',\n",
       " 'test/ba9ac60ea59a608c13eb4e6bc6f463e1.jpg',\n",
       " 'test/f9c9168b4644003db3269103929cc325.jpg',\n",
       " 'test/0476e431ee08d486f1175f1a401dfafc.jpg',\n",
       " 'test/e4c49d7e028965d3504b0862633464c3.jpg',\n",
       " 'test/a6faea5f33b025272df4f3d8dde780d7.jpg',\n",
       " 'test/6fa52b20c124da0aab210e8540a50016.jpg',\n",
       " 'test/12a5a3abbcb676f7eaf490073d30f978.jpg',\n",
       " 'test/0ff3a251ebaa1892f8ee83a5140c87af.jpg',\n",
       " 'test/20e561f5bf09685d3cd0ca4431fc7961.jpg',\n",
       " 'test/69794f4f3442b425313195c1776b0047.jpg',\n",
       " 'test/4ba23811e90b958d3a9bc2d5cd6a415b.jpg',\n",
       " 'test/3f63679bdd376dd96d23a279fff15aff.jpg',\n",
       " 'test/b5240d34c060242b27b6ede36eec4d6c.jpg',\n",
       " 'test/ce617dcd518370f0c8c19c6c52d26c4d.jpg',\n",
       " 'test/f6e5a5912ddc42221f4dfe5194939280.jpg',\n",
       " 'test/3d8880a10627a428b3acb4f031c06fc4.jpg',\n",
       " 'test/a111748da0baecb190cac84b46f1129c.jpg',\n",
       " 'test/5fedefbcfd02cc6570cc2a4dbc0c0c13.jpg',\n",
       " 'test/b7a8008f12df534faca9d5403fea0ec8.jpg',\n",
       " 'test/c6ae4df9545aa5e104531a682c93715d.jpg',\n",
       " 'test/389668e7c182659d9b1a3155f301622b.jpg',\n",
       " 'test/90b849ec2527119051bb550810dbd075.jpg',\n",
       " 'test/3304bb6f7dba8b14fb7ff61bef70cea9.jpg',\n",
       " 'test/a996602e2147a30d8f9eb0dfa536e634.jpg',\n",
       " 'test/cc671ee46e9a0fb3cd41c43fcdc1c54a.jpg',\n",
       " 'test/2c2154d21044278fa5e41a5fc7c6e1ea.jpg',\n",
       " 'test/ac2c67c2a2f30a02fffe9063abbbef8e.jpg',\n",
       " 'test/103fc49f170b6a86eddc9097f2827730.jpg',\n",
       " 'test/c331138871ee8f8ab236174da5202cb6.jpg',\n",
       " 'test/ceded289dd78742eacd1628ca62c136e.jpg',\n",
       " 'test/36f4dfe3126ab49358f1664b5ab5036d.jpg',\n",
       " 'test/1e4c92e146f1ff2d3c4393a516d47865.jpg',\n",
       " 'test/8f115bf905b3a5f86c9809456c341926.jpg',\n",
       " 'test/b37feba190b9cb8663d75afd5ec22c1c.jpg',\n",
       " 'test/aa14c1133c39dad2aefcb6326cb2502d.jpg',\n",
       " 'test/aac33b3f16350f397a98c6ce2c113f34.jpg',\n",
       " 'test/3e764ad13028326c980cdb1263e70ef0.jpg',\n",
       " 'test/d361d73172d166881955c782296c5a7f.jpg',\n",
       " 'test/3bb8c11ab8b925a043e3a98a328098d0.jpg',\n",
       " 'test/60711dabdf0e26fbde63d83e02f7ede2.jpg',\n",
       " 'test/f6460023e12992579ddbe33ca4d7f8ad.jpg',\n",
       " 'test/f70ea8c1aa5b665a4dd1dd5e6e53b071.jpg',\n",
       " 'test/0ff55c6329f9bfe0f49a02d2d6c20cb4.jpg',\n",
       " 'test/897b7ced849fa46bb74125954b425021.jpg',\n",
       " 'test/9a1380f07d84ac412e15adece00c507f.jpg',\n",
       " 'test/a508f053a7bb83ce2deecaa9c5a9c832.jpg',\n",
       " 'test/67599f5e5c25cf1a9d7c86ffa5b199a1.jpg',\n",
       " 'test/eb407d16321c8cb62abd16c70756a28a.jpg',\n",
       " 'test/cc94fa9675fddf20d84f34bf4a746b3b.jpg',\n",
       " 'test/7f177781f59631037c6d2dc21ac37883.jpg',\n",
       " 'test/936713f47e6e288fee5823ea9b7ccd64.jpg',\n",
       " 'test/d073c9cffe0cf5d1d9d0862033289f16.jpg',\n",
       " 'test/191f5b6e24e8840c3d63e34af1bf2d14.jpg',\n",
       " 'test/9059532f7c53ee523c1c63e445662ed1.jpg',\n",
       " 'test/fda5707e5736ef6deceb5e356f36355c.jpg',\n",
       " 'test/b8fb63de058846f1523d6707661288de.jpg',\n",
       " 'test/32a0bd5889f4ffe8d663ee6b0e557da4.jpg',\n",
       " 'test/db1da6c0ef810c2341bd735458d7c18e.jpg',\n",
       " 'test/78274612f4183feac850f10e5c7f08af.jpg',\n",
       " 'test/6da8aa509212fa2911962205ee5735fd.jpg',\n",
       " 'test/5ef10a9edd5c5bb11c1cc4d5a4df566f.jpg',\n",
       " 'test/37456f9db5dd693360e058c92d0540d3.jpg',\n",
       " 'test/eee7c863af47e22f285f8aeb80adb4b9.jpg',\n",
       " 'test/b3843a820ddd51f6218361ef7c4c08ff.jpg',\n",
       " 'test/9e40d5186f0cadaf3512500664df0ef4.jpg',\n",
       " 'test/6c597194b92c2b412876214d789db2df.jpg',\n",
       " 'test/8f476d4376ac9c9be8a85395ea385834.jpg',\n",
       " 'test/310b3de7b811060bfdd868fa8324b685.jpg',\n",
       " 'test/03756256e62264c41917230686526f34.jpg',\n",
       " 'test/a2cf59280b2796e29bb4198d4999254f.jpg',\n",
       " 'test/735325a42aca71ebe25d7e9b7d86fc91.jpg',\n",
       " 'test/deec3d206b0f5c927c86ed1782990961.jpg',\n",
       " 'test/2f74937e0c451012831ef7798543fe17.jpg',\n",
       " 'test/34aa018fde17798972508df88e799de0.jpg',\n",
       " 'test/52b0473d0bee5fe16737b060b5ff50e8.jpg',\n",
       " 'test/2f13a80c9269d600951c8a0e4d1c9a81.jpg',\n",
       " 'test/805d229571294da3389e07e3e59bcfa7.jpg',\n",
       " 'test/86a450fd0d55e0d7836087a3d55f03ce.jpg',\n",
       " 'test/34df5bbafd8a7cd24900bc35b521491b.jpg',\n",
       " 'test/d43b95becf6d164c6ee4a2ede286feae.jpg',\n",
       " 'test/19a22f9ed38c609f49b56323fdcf1a43.jpg',\n",
       " 'test/df9ee3c663b1f2ca84781c09fa8c31f8.jpg',\n",
       " 'test/bfc8e5fe6c364c4aaec8d053047f0449.jpg',\n",
       " 'test/e89317cab9060dcaa19f1b669d363223.jpg',\n",
       " 'test/9f250984e81dd6c988074d50c9353641.jpg',\n",
       " 'test/3360969abaf458a84e7bfa91fb0602b9.jpg',\n",
       " 'test/9a8bd6d1ef39631fa2d139270837ab2c.jpg',\n",
       " 'test/028bd6c628883784fd39841e9e26a02c.jpg',\n",
       " 'test/c481264ad14cf032fd8974cee91c225e.jpg',\n",
       " 'test/548777448b984525db18e614fcd6fd2e.jpg',\n",
       " 'test/19b6fda352ab1b71ecab1d7ebd27031a.jpg',\n",
       " 'test/0e9c363076ca2a8fb7b7a1182a7528f1.jpg',\n",
       " 'test/76a5387819ec20088d467d2c6bfc4790.jpg',\n",
       " 'test/86980f8a41592ed40f07d441969f5500.jpg',\n",
       " 'test/55cffce6ffb1167881fdefe1615dee87.jpg',\n",
       " 'test/1b6c3e7be366ce22f5161dbce9603ff0.jpg',\n",
       " 'test/1f503f2c112adff1bd9ccc23c1377c59.jpg',\n",
       " 'test/3c3ab13edde7d2293d45d453a5a7df95.jpg',\n",
       " 'test/0e5e614226a9f90dadc315bfba52458f.jpg',\n",
       " 'test/85da4243dc1d77d693c941d8be0974be.jpg',\n",
       " 'test/6185d48ab57403045d30a7c59f534d54.jpg',\n",
       " 'test/d474413bacb63f8665d1e75e26401a0c.jpg',\n",
       " 'test/3a87df0c34e124c7d7972bd69b16d65f.jpg',\n",
       " 'test/ed77c2de9938730ef8e9d11c718dda38.jpg',\n",
       " 'test/2d83147d68b1158edc0eec2f11a4f26a.jpg',\n",
       " 'test/b9394502a73a79ea161ff40332252eb4.jpg',\n",
       " 'test/f73ccf304d83adecec019063e20c383c.jpg',\n",
       " 'test/34cc85bcee5d753514001575e6157c6e.jpg',\n",
       " 'test/6c4178faca40070300456ba962c28c37.jpg',\n",
       " 'test/058449b1062e42da9c45cb434c69d647.jpg',\n",
       " 'test/0f06bc9d173a94c0c79dcf1cac9511a3.jpg',\n",
       " 'test/58829252a5cf7d85630f26d0a7dd86e8.jpg',\n",
       " 'test/69736f3e22b460c670a918d5ae14a96f.jpg',\n",
       " 'test/21fbf9c54b7c9d9ff1c6809a591f55eb.jpg',\n",
       " 'test/386024ac883f8d7b13a4d27e4df36905.jpg',\n",
       " 'test/2725e24b567a02ea282e22f99725697f.jpg',\n",
       " 'test/27008c23b045d404eee3800105cc6d6a.jpg',\n",
       " 'test/9f5755ec65e8e95409569e4de1c0614c.jpg',\n",
       " 'test/2d8b78d291ba57b21c1893e1a6489dbb.jpg',\n",
       " 'test/944451b26b58e323926e66930ef1592b.jpg',\n",
       " 'test/45d4057799a6c0f92ac5e4736b4f1f17.jpg',\n",
       " 'test/42d9590a60f764850f55c94693e7566e.jpg',\n",
       " 'test/fa30caf6e17cad235b9fb91b048aa70e.jpg',\n",
       " 'test/a3be6cd3cf8483dd98af6202f0233689.jpg',\n",
       " 'test/86ecaf468c8cd48a5edc6bef040039cb.jpg',\n",
       " 'test/2040d24ed09224e8127ab42db1a881af.jpg',\n",
       " 'test/74e40c5277dc098324dfba2ae27c4b22.jpg',\n",
       " 'test/a1cf909419fcabd49b7bfffdd7f27fab.jpg',\n",
       " 'test/df7d17082d1b25eeba9be835a150db01.jpg',\n",
       " 'test/e312dda8d35118c40880c0f331c09509.jpg',\n",
       " 'test/e823ee1ca007c88600806925a6f2bce1.jpg',\n",
       " 'test/3e56d2ee169e78770bdc6881e1ebcb4f.jpg',\n",
       " 'test/b85b25f17411e9d0c10a0ba785a31fe6.jpg',\n",
       " 'test/53b689d150cded9b764db12339352284.jpg',\n",
       " 'test/892ba9189d58640b0c138298fe661cfa.jpg',\n",
       " 'test/792b82a4b30a681cc8046b6770aa6d9c.jpg',\n",
       " 'test/e783e22d4f370b6cc0b1f44b4d6584a8.jpg',\n",
       " 'test/b6010bdb4aa4f80837e51e8e2a275c33.jpg',\n",
       " 'test/9e5b3bce5ab4cfa3026f914f91a26a60.jpg',\n",
       " 'test/653d7197350c7cbfeff351e6021dac05.jpg',\n",
       " 'test/06245dd80c187262e48f84b13d4b4dea.jpg',\n",
       " 'test/6b95471c68c0ee1cb89a68d03e277245.jpg',\n",
       " 'test/b8d550702cb5ea905cc02af8c3e152f7.jpg',\n",
       " 'test/9faec84c236be4a0d22b535e642344eb.jpg',\n",
       " 'test/a9a81aa3035a6d9771cd5043b1cfbc67.jpg',\n",
       " 'test/d37625f94a424e75656886a2cd980535.jpg',\n",
       " 'test/662dc1598b0e4075c63cdd11c5ddf063.jpg',\n",
       " 'test/06eb6e8527837abe14e0c05b310a5de9.jpg',\n",
       " 'test/3a71473b748a1c7cdb8d4546a4bff503.jpg',\n",
       " 'test/9732f374534a7e66d0b4ce6c42f31933.jpg',\n",
       " 'test/e967dd3dc67352cc2525c8283bf2751d.jpg',\n",
       " 'test/b63f8eb29e04b578c8ff00f476674c61.jpg',\n",
       " 'test/8e18115d6aba90124c2a5b3942defd56.jpg',\n",
       " 'test/c3ec6483b2b5a60e247067d51901fd7b.jpg',\n",
       " 'test/c3cc6524c8ac04339b659c158aa86459.jpg',\n",
       " 'test/523be80bd62609bb93fda540435134cb.jpg',\n",
       " 'test/03522703178358081aa1775e69d2b891.jpg',\n",
       " 'test/5923343e2a6d849f7426da3a1afb5db4.jpg',\n",
       " 'test/2e71f98fa641e76bcb34cb12dbd1a0f2.jpg',\n",
       " 'test/e8e6e731b4afb84faf9c022a67935867.jpg',\n",
       " 'test/18b84991b24399dbfa651bbd7e8c0c85.jpg',\n",
       " 'test/73c5bd5a85935013a39564fad43e7592.jpg',\n",
       " 'test/455fa6e172d0f71efaaa365be3e3c107.jpg',\n",
       " 'test/53d51f2af15ad888d7f79900020f3a1c.jpg',\n",
       " 'test/79098c3b68960cc0f48a4354e32dccfd.jpg',\n",
       " 'test/005b281f1a4d6f29d527c9585e9bd33c.jpg',\n",
       " 'test/5e12bf10f925b2167704ac491e22edda.jpg',\n",
       " 'test/71443cf2c9e50eb8f5f3a428a2f16dc8.jpg',\n",
       " 'test/35f3809c9981c281b5a8d27cd37d02ac.jpg',\n",
       " 'test/7cdfeaf825c1aab0aefcbef6d1a49cfc.jpg',\n",
       " 'test/54ecb469a09aade9392bd267ec600034.jpg',\n",
       " 'test/f13508048aa548af116601fa59bd4c62.jpg',\n",
       " 'test/c17f8c8203cb68424ae67a010c354924.jpg',\n",
       " 'test/ef0209bcfab48f72f71c9d1b8648aa45.jpg',\n",
       " 'test/0ad84b0d9083b4e0dd5840ab77c4623b.jpg',\n",
       " 'test/9cf1938e43a7489a20a0960e359cb68d.jpg',\n",
       " 'test/43ef838aeff820c5e84f878e388ef63c.jpg',\n",
       " 'test/a6288593709f64294ce867c22fcef96f.jpg',\n",
       " 'test/c879dc8583ff90b3ceb67f1206e4c572.jpg',\n",
       " 'test/474742ec061801308d97cdbad4cafbe7.jpg',\n",
       " 'test/875a269003e603a4f36ec46dbab3e7a5.jpg',\n",
       " 'test/ddbdd621e79563a56443a0dd1ee4c48d.jpg',\n",
       " 'test/59fe8dbdbc6ffa14d73b84628eba3ee0.jpg',\n",
       " 'test/82a7eb5b384441f72edb300d5d46269e.jpg',\n",
       " 'test/7b1883b3c99c234dc623b842ce5cfb63.jpg',\n",
       " 'test/71955aab620cf2e788decb3c09421012.jpg',\n",
       " 'test/8ce6c3b48389a0cd8723eeab09e98f49.jpg',\n",
       " 'test/0a01f3b0c6d250c08785716c562e2d4d.jpg',\n",
       " 'test/9149ad1fdff77ebb0fce6548b1bac275.jpg',\n",
       " 'test/4693e3e7303ded00ccd10b1587f03be2.jpg',\n",
       " 'test/e18fbb12037c297b90642e99073cd6b4.jpg',\n",
       " 'test/7b686972d33211da05a6cab42b0cee16.jpg',\n",
       " 'test/76f3a5f1a5ec1b615c3bd80d122510f4.jpg',\n",
       " 'test/fe3175f577485cbc3cb70a1fd5e0394f.jpg',\n",
       " 'test/e5507ebc0e05513bf543e160a484666f.jpg',\n",
       " 'test/56568522569abd46a624739163883d6a.jpg',\n",
       " 'test/7fc375fc24b2a904146582c6b10325bd.jpg',\n",
       " 'test/b47a57244b5f4479e0f5f7aeaba133de.jpg',\n",
       " 'test/bd3002c2c3e4f1f7a7a118b89f11228d.jpg',\n",
       " 'test/ad7f2dcb37aae855db4176928662d741.jpg',\n",
       " 'test/2d654cb8ab66ea02913622ed3786d4de.jpg',\n",
       " 'test/e34bd9a8afc5280b5f2f7489f48c8e7d.jpg',\n",
       " 'test/0f9011ef7da2c18797410191fe7c3e0d.jpg',\n",
       " 'test/56552ac2cffbe9d68f0a304459d665a5.jpg',\n",
       " 'test/8899965f57351bcd9647cca2c3248b58.jpg',\n",
       " 'test/78e1dc4bfef9eae0bf251302e38d511e.jpg',\n",
       " 'test/415544b2da83c31b27b89d5ce7f3d744.jpg',\n",
       " 'test/6236d7ce8173737bf3caf7270184bc76.jpg',\n",
       " 'test/74fa841a3e1aecfff900c3d7a6673cdb.jpg',\n",
       " 'test/979688044296b16074cea50cf27d5365.jpg',\n",
       " 'test/1f0d63748605a5e63a9fafaa907392b2.jpg',\n",
       " 'test/519377d3d4ccc5367b3488ff388d8e68.jpg',\n",
       " 'test/821e371d373f282c0285c1e18ad47628.jpg',\n",
       " 'test/5333ccb08620f8f0855750adc4138c27.jpg',\n",
       " 'test/b231b6ce55dee1b0b7b777e7d9565347.jpg',\n",
       " 'test/0bb3fbcaac7d24aa3f24517355d62a27.jpg',\n",
       " 'test/94b3aaec44d9bb38ab0d6cdb15ce769e.jpg',\n",
       " 'test/9ec1a5f9aacbab57bfe9cfa56db788c5.jpg',\n",
       " 'test/70b3cf889bdf18fe115e597f8fa31760.jpg',\n",
       " 'test/2b9c008bfc545d99abfb6ca273103a0d.jpg',\n",
       " 'test/9e91a19081cb3a56313df554a5950f20.jpg',\n",
       " 'test/002c58d413a521ae8d1a5daeb35fc803.jpg',\n",
       " 'test/7835e7e7f3641a6452e8912a6da76dd4.jpg',\n",
       " 'test/45668507c4840614dcb05e8b894aa6c8.jpg',\n",
       " 'test/b9617e0a49a90f7cd35d21b78caee8cb.jpg',\n",
       " 'test/df58b248e14af15c43fb4a3ebc00e9a3.jpg',\n",
       " 'test/f66ba12155a4e501e7559e1f294af553.jpg',\n",
       " 'test/8aae8be6586b2e85b541772bac04753d.jpg',\n",
       " 'test/23e3de07d79b125aa21651f6d2bb972b.jpg',\n",
       " 'test/d2dcb318ecdb2bedadff7a27bc828e05.jpg',\n",
       " 'test/6c959ab8926c4699bcab8bb414b6a78f.jpg',\n",
       " 'test/94e2137ede652c3b240e583114dae522.jpg',\n",
       " 'test/646c2fb89f80d20f0a38550f8d929a5e.jpg',\n",
       " 'test/ff457fb6285b47fc933d0bcf58f87927.jpg',\n",
       " 'test/69be99b844287176383f857ee406df75.jpg',\n",
       " 'test/911e07b5599f21d72540a4519192b5ea.jpg',\n",
       " 'test/2faf6de2cbb2befbfb540e610e625b2c.jpg',\n",
       " 'test/7f596c2a94b0c2d8c63b65193a92ecc1.jpg',\n",
       " 'test/d346c8f2c14e1f602a74e895b0928e65.jpg',\n",
       " 'test/1397ba1a338af3502945e1beec7efabf.jpg',\n",
       " 'test/1af1c8b40ed015861a4ebdb67f21f7a3.jpg',\n",
       " 'test/0187ee2ec2367ed4fd060cca9681742a.jpg',\n",
       " 'test/99c85e92f484f931d0fcccf6e062c73d.jpg',\n",
       " 'test/077688a43b63922f7879b2fd66d32509.jpg',\n",
       " 'test/44e58eb6267901d0eb286dd4e0c00aa2.jpg',\n",
       " 'test/598816a4249ee9e17e286f8040e016f4.jpg',\n",
       " 'test/3dd26fb7235e28f766e0dc705e7f5b07.jpg',\n",
       " 'test/7286422adc903f5a9e875f47107c54c7.jpg',\n",
       " 'test/7eb338f7e624a1cc1d06d48e53a7f51c.jpg',\n",
       " 'test/0c6176b396e31ce7666185aa435be7e0.jpg',\n",
       " 'test/f130fade46d3423c601a7b9a16a0333c.jpg',\n",
       " 'test/f43a0698255ee6f04ad91702a4376b6c.jpg',\n",
       " 'test/ca6f51aef5c8e292af770fae232d2416.jpg',\n",
       " 'test/a0fce64bdb5bff71e919b07755d1fbad.jpg',\n",
       " 'test/2acabf0d051d2ab208bceb6b1831272d.jpg',\n",
       " 'test/16d7e06f92d7def2ff74136dde7a36e1.jpg',\n",
       " 'test/e514f86170698394e20f0cd1af968451.jpg',\n",
       " 'test/65ada604355e106b920f5014701add9f.jpg',\n",
       " 'test/dac8ee2e998767dc5bc2abd5bba323a3.jpg',\n",
       " 'test/cb7c8ef5b03d79feb9cf5416836ccc2d.jpg',\n",
       " 'test/b80d89ad4a17ac2537ff46d251efcd7c.jpg',\n",
       " 'test/2896468b0aa9423a2db1b25f24412a67.jpg',\n",
       " 'test/fb174683e8a5eacf6fbf76b1bd0967d8.jpg',\n",
       " 'test/11257c237f45cf3482fa033fe809d6a9.jpg',\n",
       " 'test/febfae88667a28d9df454cfd697eeddb.jpg',\n",
       " 'test/15dc293771e16bf634691bf78c7da0a7.jpg',\n",
       " 'test/b373ce8b0e1de183a2adff0ec7c36d19.jpg',\n",
       " 'test/b62a5aef03fb99ab5f14e3379d2a1542.jpg',\n",
       " 'test/5b0e3a9551edcca11fcf565bb78d8c49.jpg',\n",
       " 'test/02113c6c2c25cb7bfe1d743c17a93b0d.jpg',\n",
       " 'test/e9bdf2bcc823964c7375397a7c06242e.jpg',\n",
       " 'test/6676bbe8e2dd4a905b90c3327220aac6.jpg',\n",
       " 'test/8f25d0c00d66874752c0ae5dd2042205.jpg',\n",
       " 'test/ff194ab5709702a2eafb5e9063348776.jpg',\n",
       " 'test/185413ab6114593edb45d02dc64b4334.jpg',\n",
       " 'test/769df36b2485b3e9df740ca8e9e49793.jpg',\n",
       " 'test/38f85dd6e68e320568ed88588b83ea30.jpg',\n",
       " 'test/ed71e43cf7e5e8449879b5f0d38f3bd0.jpg',\n",
       " 'test/2630ca901a4718100cdf780996c13da7.jpg',\n",
       " 'test/5003ff3a66a776a4773c11f22eef57d1.jpg',\n",
       " 'test/8e38a2da3dc51eedac2153c37b9b2ad6.jpg',\n",
       " 'test/9103f5bae0e46c613ca51bab1a3457b4.jpg',\n",
       " 'test/4c1db8bb94b02ce66e4fd628c14e5806.jpg',\n",
       " 'test/f4ec1eb228bb0a7084de552fa4333b43.jpg',\n",
       " 'test/145e1b4570fd32057e82c8d5754576e5.jpg',\n",
       " 'test/d0fb1d5a18ffd793a5c7ee1e8c7b69f6.jpg',\n",
       " 'test/f1af835a9146d6ec0da8059b3a55c030.jpg',\n",
       " 'test/322543f668826f158650c94714a832db.jpg',\n",
       " 'test/4de2ba963d28c9ade288ec40ba54afb9.jpg',\n",
       " 'test/c37a6578f89042071f780a83e42a88dc.jpg',\n",
       " 'test/4f5b4dad544cf08f720bfef9467ce0d5.jpg',\n",
       " 'test/9c367f64333c1f6a15af6374a98ea194.jpg',\n",
       " 'test/c66730ee3fef77323d4f7e0e69683fef.jpg',\n",
       " 'test/8e3e85e7d95ad085aaf3c945799d53e0.jpg',\n",
       " 'test/dd703c7beeaf5cba5533d5f42b608f2e.jpg',\n",
       " 'test/cf15034b14a5121fb12feef75b5e7e1c.jpg',\n",
       " 'test/77037f4cc5978efa8ed4109b78672790.jpg',\n",
       " 'test/5c6abba541dbe63fc8cd572710d856f1.jpg',\n",
       " 'test/7c26e38407ec343d4129c764165757c8.jpg',\n",
       " 'test/0441fda84f1eab8ddc72a8262a66e626.jpg',\n",
       " 'test/6176a72621f847c62ea1e5da1f557f1d.jpg',\n",
       " 'test/9bb4213b044033a0efffc81fefda6d2b.jpg',\n",
       " 'test/533f4094b80a234c74cbd2ea942060cf.jpg',\n",
       " 'test/f58ce44146db339a0bba50bcecb02730.jpg',\n",
       " 'test/a5c1646de93471cbad69c80119572687.jpg',\n",
       " 'test/1f415fdfba198e37db879b1ab908aa71.jpg',\n",
       " 'test/f361999cc41b3d83214d8104c91c672d.jpg',\n",
       " 'test/926e2d0d8a9b32c4451942f6ae5349c0.jpg',\n",
       " 'test/38e11fa9140b0bc1bd16b415ccd89bcc.jpg',\n",
       " 'test/6f9ad72c2bdd06a13bf40729bf816831.jpg',\n",
       " 'test/d576885729438d7478880810c7d804ba.jpg',\n",
       " 'test/4bd48eb18f680b945431a15453980b57.jpg',\n",
       " 'test/377bf1770fc03d91c5bcf8cfd862aab1.jpg',\n",
       " 'test/b0b6c18ccb0aa7b27020fc9063daef57.jpg',\n",
       " 'test/2373ee7aa0195a4184dc93da0ba0433f.jpg',\n",
       " 'test/d3ab81be44c1f0703916e018ab97dfac.jpg',\n",
       " 'test/656eb54f833227748c00ab71cabf527a.jpg',\n",
       " 'test/3d98ccaa02b0074d95e0502e94bf806c.jpg',\n",
       " 'test/45b4f71cebd4380a7b6a97d09318709b.jpg',\n",
       " 'test/4e3440f75b37f3d13c0d8c025b30d337.jpg',\n",
       " 'test/b9dabc00c67a232007c059b13b03aa9b.jpg',\n",
       " 'test/a409bef9bb17af1de2e00e3c8c531801.jpg',\n",
       " 'test/a26011e99833ab06645e87c6b6c10b97.jpg',\n",
       " 'test/c0f9df47d480a1a7c80d45f8223c686c.jpg',\n",
       " 'test/ec5329231ea816ef212b367bdd17d06c.jpg',\n",
       " 'test/5841eb6b67eb578868ddce0576d5e89a.jpg',\n",
       " 'test/b3b01ead72942f0879e1ee430c3dfa57.jpg',\n",
       " 'test/a0b7a24c1fa6ddbb4a648ea7b8fc4eb0.jpg',\n",
       " 'test/7fa1a3a3b3489c954b54cace3799596b.jpg',\n",
       " 'test/3496333038fcfa13916012f79b1abaf2.jpg',\n",
       " 'test/1bd850d59f3d8a60e863bc2b6997ba09.jpg',\n",
       " 'test/88bb9b31f25f3eaa5279683ceeaa6b98.jpg',\n",
       " 'test/0a859b76a52d4fac456653a1d45ddf3d.jpg',\n",
       " 'test/7a2c4ffdbebceeb7f19c602976f3fb0c.jpg',\n",
       " 'test/52c0d0ce742e40e0ee89060cf56705c0.jpg',\n",
       " 'test/4bea48f8d05b73a6d0d4aeb7ad71f493.jpg',\n",
       " 'test/277d9a274ee73bae8cec80f06d6aef8c.jpg',\n",
       " 'test/79fe792ec6f799f0e7d387bd6e5cc26c.jpg',\n",
       " 'test/e079440ee0061b92ec22faf17be13908.jpg',\n",
       " 'test/4eb48e0523600ddd19dad73a7ffe2334.jpg',\n",
       " 'test/1ea22244a23b4f419be97c8f3e350010.jpg',\n",
       " 'test/7be35c000832d018170c3697271b40ea.jpg',\n",
       " 'test/1e5d3de587bc5db73a52fd01147166bd.jpg',\n",
       " 'test/a87389ccf3e82e66fcbab9426d4f50ab.jpg',\n",
       " 'test/30f960fef5fd6547d76d08d09c3f6e2d.jpg',\n",
       " 'test/20db4454a42b9760ff220d24e138f1b4.jpg',\n",
       " 'test/27155dedca27e52b7bbd4666644d07d5.jpg',\n",
       " 'test/9b4ec59ebaaf73354fe9cf6e8137de75.jpg',\n",
       " 'test/ae6d52d5b57bacb91bafc2580eccde58.jpg',\n",
       " 'test/1611e247bb7055f705bbe0de950ce81e.jpg',\n",
       " 'test/97b52c9b094e6e8a978565d8eb78db75.jpg',\n",
       " 'test/17ebd8501f1ce70bfeb6a344785fce06.jpg',\n",
       " 'test/ec6734fb75cab5100481b7b6e711d936.jpg',\n",
       " 'test/707d5d255b3a82cfd047b52c77b70284.jpg',\n",
       " 'test/363a7316f826710be42a27021832eea6.jpg',\n",
       " 'test/ab3242753d5b6a79985112a3cd63908a.jpg',\n",
       " 'test/e0165801e47527205e45295aba441972.jpg',\n",
       " 'test/1c647b0875674bd1aba3153e6fc951c6.jpg',\n",
       " 'test/1bcb6a6e8735fa2d3de90acb97f2ef17.jpg',\n",
       " 'test/8a61ad45cae28a62f8a173f62cdb20da.jpg',\n",
       " 'test/e431adb273c1b705e6e85147990f355e.jpg',\n",
       " 'test/858a434039128a6179a3334eee9eed83.jpg',\n",
       " 'test/e042a85a93edd51fe60ff5f9a9856902.jpg',\n",
       " 'test/14e4f44bf8f6cbdb439c7e230ba12f96.jpg',\n",
       " 'test/c4b07fbca9738b950b1c989a4708429f.jpg',\n",
       " 'test/8e78fefe5b7612a131e66a7fe616309a.jpg',\n",
       " 'test/75a86bc3031289e6b20e4b43bc978891.jpg',\n",
       " 'test/f58b1ce36c59e42dd22be92949fc38a7.jpg',\n",
       " 'test/edd77b60eb22df1021e726b87c270064.jpg',\n",
       " 'test/80d0d8d4357d2051bc8056b5421c3d0b.jpg',\n",
       " 'test/aadbbecc53c5671a1e92bc2df7605bd4.jpg',\n",
       " 'test/f5fb580dfd19890f200eed7010cedc3a.jpg',\n",
       " 'test/d528ef35f87f2c977142a9136b32222e.jpg',\n",
       " 'test/ef0ec3c95160918de7bd290897ea9f65.jpg',\n",
       " 'test/cd12dd43ac4dd1aa1d5982eca65bf177.jpg',\n",
       " 'test/1381912fe152f7873af101cf0d51bbaf.jpg',\n",
       " 'test/25c0949504ab6e22aae6bdf8ca2ffd4a.jpg',\n",
       " 'test/b67233ffc8910b6276ab5cc5955dceff.jpg',\n",
       " 'test/5b936aa81aed8baef757f83fb39213af.jpg',\n",
       " 'test/81164b3c4fdea801947ca3df15b95d9f.jpg',\n",
       " 'test/90ad495de11baabadbd4aeb22b15b507.jpg',\n",
       " 'test/a2c9ec9242f9733e5a312ad14879c26b.jpg',\n",
       " 'test/0d6a4703b8989cb5c5402b15e7efbdda.jpg',\n",
       " 'test/9cc252052c2a1b46364a38b77c3259f4.jpg',\n",
       " 'test/452557ff51d105fa6c4afbe5f41e1bcb.jpg',\n",
       " 'test/4490d9ef388396f93704b5d5c7af9419.jpg',\n",
       " 'test/d62563564b7bb7ccaa1f85206c232301.jpg',\n",
       " 'test/d7fc5b8bcb352557998a28d90a27da0c.jpg',\n",
       " 'test/184edfd87980c0ce7ae78979ff4782b5.jpg',\n",
       " 'test/1ee7497ca02744ffbdaac3f446864609.jpg',\n",
       " 'test/204c040a1ddbc2aec6d5e4b4d0e03c7e.jpg',\n",
       " 'test/1820c9324897823981dc2e50bb155873.jpg',\n",
       " 'test/4f530d1bada6499dd3d3fb5a8f208564.jpg',\n",
       " 'test/85374092bd6893a7eba337013efcbf7c.jpg',\n",
       " 'test/991d0107b7a686b25fa9e33e7f1b3611.jpg',\n",
       " 'test/0d5b801bfeff4eefb3994b8fc59bc2ff.jpg',\n",
       " 'test/7b57911ea7559cebd6db308125926642.jpg',\n",
       " 'test/473d2e1d35e3ee995b69bbf329cf4b7a.jpg',\n",
       " 'test/81fd1480bc371e8107b744e93d7544fb.jpg',\n",
       " 'test/7807ad374174cd05269b0a7e317dfd7a.jpg',\n",
       " 'test/04d5ea35b89c28e085a1923fd2370d67.jpg',\n",
       " 'test/2026abef9664a3eea5da1e4156e1f0c9.jpg',\n",
       " 'test/02215f26ca6ece8786daecc15c60e774.jpg',\n",
       " 'test/4ec4f48a2d9a7997c1012773bb15fe8c.jpg',\n",
       " 'test/f374a9d5a46f8b8aa97c715768f170d4.jpg',\n",
       " 'test/60e3be9727ae0c1adbd34cd03dffb52c.jpg',\n",
       " 'test/0664df7dcc26386a0adbfa3d875022be.jpg',\n",
       " 'test/0aa1ef16c5738686429329816f3eba76.jpg',\n",
       " 'test/c4c423d924163bc253c22f9591461fd7.jpg',\n",
       " 'test/72606f246fda073ed8e8584f54f4574c.jpg',\n",
       " 'test/21f81344e0f2c32b42f3751249da62ce.jpg',\n",
       " 'test/53963abceeb502b1fc6a6eb6af4e3bc4.jpg',\n",
       " 'test/f85dd6bab03d372d771dd7815e732e9d.jpg',\n",
       " 'test/42feb15909b1a7da5d85bc1a2baafe47.jpg',\n",
       " 'test/e55534e27f92b4c8177ed2beb1cbba7b.jpg',\n",
       " 'test/d187d843c451ffc0d9cb1b830553eaf6.jpg',\n",
       " 'test/3d88fb70e2bbd4ce7a43d0e5197b6299.jpg',\n",
       " 'test/4315d1aec690777cfc5ca8a9887cfd07.jpg',\n",
       " 'test/c917b56307748854b0c72617c506b600.jpg',\n",
       " 'test/d25f33270cbc58be60829dd76761d3d6.jpg',\n",
       " 'test/c552603df0bcc250879fa3f29a8ec8ef.jpg',\n",
       " 'test/860409613c002d1684659434cc3b7815.jpg',\n",
       " 'test/8bf8defe18c6db0efbd60d80706b1eab.jpg',\n",
       " 'test/370383c41d56ee3059bcdbd0eff49bc4.jpg',\n",
       " 'test/9b03c8ed3d7ccbb5390ec421e2b599ed.jpg',\n",
       " 'test/696e7f8ce4359a448628ad63a907fcb7.jpg',\n",
       " 'test/59f7c4e4d7d7501260ffba34cdb137c2.jpg',\n",
       " 'test/e425ab04e3a0d4464cda46a076964770.jpg',\n",
       " 'test/56d7b5e1713b034355e623419ded032d.jpg',\n",
       " 'test/723df780efe4c90814c392fff44faf36.jpg',\n",
       " 'test/51a9fc982eb0b63bedb58b67d65d35ea.jpg',\n",
       " 'test/19f85012f6cb636e921c947dc7c5b48d.jpg',\n",
       " 'test/54d4f244f8a5c429b7e0b9af504e9a91.jpg',\n",
       " 'test/e69416b277bf04ba83a5f3586fe12f9b.jpg',\n",
       " 'test/147189dcaeffe1678893377fa4916cf1.jpg',\n",
       " 'test/2464089ba3fc5696013a7cc10e3052e1.jpg',\n",
       " 'test/e3cfadb2543190f43da6bb5500c75578.jpg',\n",
       " 'test/96b3c56ad31d62afa3fbd9db6559e42a.jpg',\n",
       " 'test/e70dfb4bf50f74850463cfd35edc8af5.jpg',\n",
       " 'test/591d29a54620853d44332f81c07016f1.jpg',\n",
       " 'test/fedbfd23108558ac6fa690bf4bfaef0a.jpg',\n",
       " 'test/7ed71c10cced08b6b069a5b7b5785932.jpg',\n",
       " 'test/00496f65de6cc319145ce97bd6e90360.jpg',\n",
       " 'test/936b082d2ea910f2b364c30f67cfe903.jpg',\n",
       " 'test/a8b25cbffb50c79dc53467205b7f2226.jpg',\n",
       " 'test/56cb0f4e0287021b318f7e785d24cebc.jpg',\n",
       " 'test/285d2c95e2b4b33c5d0b9c20581a5279.jpg',\n",
       " 'test/31a69c8f551901f731fa9f4edc7d8c17.jpg',\n",
       " 'test/9ca5133b5bd48899a692ab0a6dd48849.jpg',\n",
       " 'test/e7b608110b0e29120d8740f37e85f3d0.jpg',\n",
       " 'test/a9d91057710b8c85fc93a06c24722794.jpg',\n",
       " 'test/2c39f55bb9fdea9164d30bd0a0c34182.jpg',\n",
       " 'test/7ec3929c60fe70208989c9882722a25b.jpg',\n",
       " 'test/c05271d19a1cd83dbe662ad93d1ac4ec.jpg',\n",
       " 'test/4ca5ea424b9c63f5802a58ba3b2a4ec4.jpg',\n",
       " 'test/7495c3d0ada8b19e865fe5655535086c.jpg',\n",
       " 'test/a77af69eefb7593f0ffbf6b43fb57ab7.jpg',\n",
       " 'test/d7b90df091424f073673e9396ee4d936.jpg',\n",
       " 'test/2f0a0627a512e655c3db07834783a582.jpg',\n",
       " 'test/3d1e28e268735f53b66138aef843996b.jpg',\n",
       " 'test/86a974fe06d2ed5c91b17c953e7a381c.jpg',\n",
       " 'test/2956a80b261677b76d61fa894d733df8.jpg',\n",
       " 'test/be2a990aebdddd1900b42d2741e0de32.jpg',\n",
       " 'test/a5b2f38489741fdb7bff85cc2b207f90.jpg',\n",
       " 'test/d0c7a68925b01a72cb2c94e12faab906.jpg',\n",
       " 'test/3c5d8a5c683ec3d9d230c4716d8c8d5f.jpg',\n",
       " 'test/9fcfefbf217313602eeb2d8645a3246c.jpg',\n",
       " 'test/97b6a6178a31ed3c4c5e67bb4dcc7a9c.jpg',\n",
       " 'test/13b4953cc9afdcf603692f74a7cf8048.jpg',\n",
       " 'test/9396c0e788edec64792e9161be3d4c95.jpg',\n",
       " 'test/a3c82edbf9c734483e5a0dde593eeb5b.jpg',\n",
       " 'test/4c108b9f10d8323c7d9c878880b094d6.jpg',\n",
       " 'test/497aa4c0b6f2f49f9c4e4ff3d82ad3bb.jpg',\n",
       " 'test/fc0f848abb459c9dc98c455356788516.jpg',\n",
       " 'test/79c961a446f41f6c090a2df5abab1c6b.jpg',\n",
       " 'test/129edeb395f0b7aa68cc2f886803dd9d.jpg',\n",
       " 'test/9d6538871f445d81c7cab1d4d7517e66.jpg',\n",
       " 'test/a5c82c75543587b168d36bd178a1b456.jpg',\n",
       " 'test/60dc0b634487ca5c243799a9673f368e.jpg',\n",
       " 'test/e5f2204119380ce1a17fd09435c5012a.jpg',\n",
       " 'test/fecd62d8caf2bad07e0cb279ba346939.jpg',\n",
       " 'test/72f5331d6a61869adcc79276711b54b7.jpg',\n",
       " 'test/e427b9e1ab1b7f09cfb02ac073f56f2d.jpg',\n",
       " 'test/fafd35e78dfe0bfb7c6ee90c12143d56.jpg',\n",
       " 'test/4dd4957a4e179df6cfc051bfe96f3995.jpg',\n",
       " 'test/33fe3ea78db246b2da8033d527c7b45d.jpg',\n",
       " 'test/7893673817843dfade56328f405e48c5.jpg',\n",
       " 'test/0d1e036ce1a811deaf6aceb405e34d50.jpg',\n",
       " 'test/1a7aa3efbad2ac441092c437192796ad.jpg',\n",
       " 'test/033410aef5def3da55d9f0057b46d7a2.jpg',\n",
       " 'test/9238a4ced93df1db4e268df6459f696f.jpg',\n",
       " 'test/9732e1cc24ea1a01dc6f504050b24392.jpg',\n",
       " 'test/04864e3dd820187bf2d0baba8b94554d.jpg',\n",
       " 'test/efd7266343c00fd2cb3cf5aec4aa0b42.jpg',\n",
       " 'test/28f7fbb3750d3256de932c58000a4c33.jpg',\n",
       " 'test/a9e58621353fbf5376bf6689a13578d1.jpg',\n",
       " 'test/796620b6c4063ee95d7b35b691595058.jpg',\n",
       " 'test/4fbdf5318a5b622aad6932a0b4e63a1e.jpg',\n",
       " 'test/82d137d71f56cb0484b376ae3c867b14.jpg',\n",
       " 'test/a2c3280726908cca724fbb0b22fece26.jpg',\n",
       " 'test/96a95a3b1e72fc6337070a731b0ace57.jpg',\n",
       " 'test/13733ca862e8b3881e35f1bf1a02a8ce.jpg',\n",
       " 'test/707b25fba9237bc1bd99a3178456c940.jpg',\n",
       " 'test/67e92bf555972f37671bfcad7f78302b.jpg',\n",
       " 'test/225747fed1b60dbe6e4a428d9cce6e26.jpg',\n",
       " 'test/263b2e3ae114ce7cf3b4e3e66247e41d.jpg',\n",
       " 'test/746af4d54b9837f9051e216df4e04a57.jpg',\n",
       " 'test/79c8658305c7775a46ced19811d9d898.jpg',\n",
       " 'test/ed67035dba2de274aa95556038113c40.jpg',\n",
       " 'test/52c2021a5ec2aa05e841df52b6a97d41.jpg',\n",
       " 'test/97b75dbeded489d890802c612a6ccbfa.jpg',\n",
       " 'test/6773de1e84e4c85e120564d6841fe6ae.jpg',\n",
       " 'test/4c33ae7654251d6317ece1b18d43ea6c.jpg',\n",
       " 'test/ca9f2b11a817dbbe6fa9c81a9e8b0108.jpg',\n",
       " 'test/d90cc1b8fe0ac4fddc6241579378103c.jpg',\n",
       " 'test/64e023843ec6d5b07058b1bd38fe5b55.jpg',\n",
       " 'test/ade72cfdf755a13daac2355904cb0e29.jpg',\n",
       " 'test/9d2c85501bb6979842ce70b14d7e2cc7.jpg',\n",
       " 'test/81104756188386b0d060406f42b1539d.jpg',\n",
       " 'test/38e9469052a90e83a6c28a5450292a6d.jpg',\n",
       " 'test/6303bf387f9edced85814f0a78eca54b.jpg',\n",
       " 'test/e3a2e1a4c44509d7aa7777d88c5cd45a.jpg',\n",
       " 'test/7225e0eca6be98840b101e086f03e060.jpg',\n",
       " 'test/1beec14f71112cceedf6579fe0c0d9ac.jpg',\n",
       " 'test/148d0eefa7e51f564d04c43bb1a22821.jpg',\n",
       " 'test/d258058c7626e2ad6ed6d318de3b829e.jpg',\n",
       " 'test/e218c0da622fedc975a97999ad7d48a5.jpg',\n",
       " 'test/46b20e0e235168368569d5921e4aedd7.jpg',\n",
       " 'test/b3bcc2a3a94c70497779eadaef668d3c.jpg',\n",
       " 'test/a2ec24a3da9f1dc871dbee5e48ac4539.jpg',\n",
       " 'test/98045b56df3937f66e147dd884e88d79.jpg',\n",
       " 'test/e6920cc0fd2e3099506d23761d9682e1.jpg',\n",
       " 'test/99bf54f97d26fe9c6b09538cb2a7d5df.jpg',\n",
       " 'test/b8808ab883b7b1fefa732bf5aebb5d08.jpg',\n",
       " 'test/b3d75834caa1a3d1078ce03efabdea9a.jpg',\n",
       " 'test/f0e6e1a934316bb94a6a1eeba894e32e.jpg',\n",
       " 'test/abebde94c9f5e121a51ef329f3d47cae.jpg',\n",
       " 'test/3dde71ab9cc55e7d1a6b07363a398723.jpg',\n",
       " 'test/e07e608afaa89ee4ee939ad0a3bd3224.jpg',\n",
       " 'test/2d7c2ac3fe912d9545ba692490b45d00.jpg',\n",
       " 'test/49895e2b5e0fe4c7ad40cf184790eb63.jpg',\n",
       " 'test/2cfb91b9f9a95a2efae9087db7ac0fb5.jpg',\n",
       " 'test/5d599abf9ebdc7dd5d75860bec166c7d.jpg',\n",
       " 'test/3a98899438c614970758846618857045.jpg',\n",
       " 'test/9902ec331f9222f5f7f2aae4f1d0fd87.jpg',\n",
       " 'test/21d03041afbfa3cb5680b8e1cb422001.jpg',\n",
       " 'test/77b95f2b2c71f5f5bdd4e777ce63ea72.jpg',\n",
       " 'test/4b64335a5b5d149a10ee9613fae9d454.jpg',\n",
       " 'test/176c320550e2c70f821b43fa452f54fb.jpg',\n",
       " 'test/e995cbf5f2c4da27a1e56966c70de380.jpg',\n",
       " 'test/158e88cf3cb41d3a88308d163eaa2176.jpg',\n",
       " 'test/a75f4c92af56636ac8cf5923a7723745.jpg',\n",
       " 'test/15e3385bb48b60e73b0daf9a02749b0b.jpg',\n",
       " 'test/092376c380c9d09c4af6e98ef2278925.jpg',\n",
       " 'test/feacb0de64a7fddfca983eb6ca11309c.jpg',\n",
       " 'test/cc81257cec3438e30abb090b1ce7f441.jpg',\n",
       " 'test/4cd451404d1d576e9fac3680068fc10a.jpg',\n",
       " 'test/14edac8c1c5ff73be5da45c527f756a1.jpg',\n",
       " 'test/12eb5437f03772e0cbb27269310a3964.jpg',\n",
       " 'test/f56b4140707da82fe91cb9e5df4ce68c.jpg',\n",
       " 'test/3c7a8017ae8d8e103728ce7e60378d7e.jpg',\n",
       " 'test/b2eeb405c9902584f9b626a10fa52960.jpg',\n",
       " 'test/e1fa4eb8a57184773ac11efe0de11e92.jpg',\n",
       " 'test/8dacca06fedcc9a683e310594babd901.jpg',\n",
       " 'test/12d213e502b778cbe2ee799eb8b0be3f.jpg',\n",
       " 'test/5455496508af49e178e5caef97749034.jpg',\n",
       " 'test/3283f57cf07f2f1f531e3018065d89b7.jpg',\n",
       " 'test/52293d18c28e84739b89c0b94014ee34.jpg',\n",
       " 'test/c3d6f1890f0a60e9f528fced6b206943.jpg',\n",
       " 'test/49adf44b63b707f951298072329968f1.jpg',\n",
       " 'test/9066e163d13db79d7c4a635b4e49c071.jpg',\n",
       " 'test/b6162e12a3de875f3f3af5ea3c581abb.jpg',\n",
       " 'test/420b64de9488040f9db59d4007aca81f.jpg',\n",
       " 'test/b15e74d162c080df854c21b458e4ca4d.jpg',\n",
       " 'test/fd32579d66aa6223b19085aa600fbc2d.jpg',\n",
       " 'test/db0a1ea334b6ed41bf6f951297172ecf.jpg',\n",
       " 'test/2fd6f4d2286521b4f929e7ab3f209dae.jpg',\n",
       " 'test/e8f51d54d179b05ea4cc9c726cae9229.jpg',\n",
       " 'test/1dc4659db1597e641743c8f0823cc43d.jpg',\n",
       " 'test/d4084988b2bc28dcc901be3666bee7f5.jpg',\n",
       " 'test/7a0c136119b2f667038ca7879e383ae6.jpg',\n",
       " 'test/39cc7e1bcef4b568e1f2926a2932f141.jpg',\n",
       " 'test/e596c0d97b381e876d46dda2eb60074c.jpg',\n",
       " 'test/174fea6abe703dd3f16a9df66d0c4665.jpg',\n",
       " 'test/95a57d8230990d5c51818101c1748108.jpg',\n",
       " 'test/5f12375f0ace4faf12fbdafc8a06dbf5.jpg',\n",
       " 'test/4dbba162f6cbc177df84e56b9d1720a4.jpg',\n",
       " 'test/61f2e51806a151d8967c584f78bf6d74.jpg',\n",
       " 'test/33fdf388402e678d94203911ec26c63e.jpg',\n",
       " 'test/258f32b2e965e29825a2afe8ffccf25d.jpg',\n",
       " 'test/343f3943704ceb5ee18a7eceaf934dfd.jpg',\n",
       " 'test/11fd8887c88af2cad11b1f0824bbb3b2.jpg',\n",
       " 'test/0ae94221b81d49e01b8fae3dd0f4f882.jpg',\n",
       " 'test/4f3c5f552067f65efb466017719a1c5b.jpg',\n",
       " 'test/a4e8a2b98ab80f5341070eb173dff5f9.jpg',\n",
       " 'test/faf757243722ea255b9b190cd251b9d6.jpg',\n",
       " 'test/8918682dc221c9be42a15700b72af442.jpg',\n",
       " 'test/c7941514534054adcd875cd8d5bc33be.jpg',\n",
       " 'test/9ca9b20d35a7f42036d66bdbf53a4c3d.jpg',\n",
       " 'test/6984614397d94afd9959d544bc020343.jpg',\n",
       " 'test/f3094e7b2a65b2fa50e0f4ac2e3021b4.jpg',\n",
       " 'test/117ea9f58dbe47140f9f1c3297b0a4b1.jpg',\n",
       " 'test/d730341f7447906720fbf47286796f7a.jpg',\n",
       " 'test/e904aa7e76ba608b3f658aa3817e12b9.jpg',\n",
       " 'test/98846d2e716f0d2728d9a5fcf98d8f86.jpg',\n",
       " 'test/bc01033df3400d2089e34ce0916fcc9e.jpg',\n",
       " 'test/143c4a06b4f57482282f69df69836986.jpg',\n",
       " 'test/7f174167db0e7e34983e9429e2927bbe.jpg',\n",
       " 'test/f7344ee72050c512b7e4b859f4a7836d.jpg',\n",
       " 'test/d199e1541032a10f67891d2da0d02a11.jpg',\n",
       " 'test/5240725d0e2ea1e55dc7bcd2aa6eb903.jpg',\n",
       " 'test/aa392e061f761b69d1544c0a3b271da0.jpg',\n",
       " 'test/058fce4f4149de234daa00bdfd0f80ac.jpg',\n",
       " 'test/7c1b3ccc876d64cac7a7d03e19abb0de.jpg',\n",
       " 'test/e8e68264f76c3398ecb6c67b9bb52833.jpg',\n",
       " 'test/673a6a2db39f4db6677fa3aae0db682c.jpg',\n",
       " 'test/8e839df1e76fbc901126915fc725699d.jpg',\n",
       " 'test/91d861224055c595b63e569d41426637.jpg',\n",
       " 'test/daefedd011984ee113319ea19a1bb5a5.jpg',\n",
       " 'test/9f017d417a6d6517d6940a731be1d0ee.jpg',\n",
       " 'test/622e9fe5354b256219688de0646e7cc0.jpg',\n",
       " 'test/a6827f5bfe011386c2471f9f9f87617f.jpg',\n",
       " 'test/3fdc730d43fbba9994730a6628b523a3.jpg',\n",
       " 'test/d14efa213e4667c1622c0cc0c42e2642.jpg',\n",
       " 'test/4d62b92c2cae97d3f5ed5fc6a6ab09c2.jpg',\n",
       " 'test/2948c8d3405bea6cd0ad3ed460dd7b6c.jpg',\n",
       " 'test/ee588777db43361c045c5dd7a779ed0f.jpg',\n",
       " 'test/ed0ec7befaa38726a118ab7e4d53b332.jpg',\n",
       " 'test/4a5d85b5525bf424f90a2928a13b047d.jpg',\n",
       " 'test/fc235032843333295c1e43551a715709.jpg',\n",
       " 'test/627d9f5cf30cf361de934ff0c134fc74.jpg',\n",
       " 'test/3753189045099adcef521b0b4bed3698.jpg',\n",
       " 'test/de30e8d3cfd89cb021800007879f271b.jpg',\n",
       " 'test/0f1f058522972750c6afe200c02a027c.jpg',\n",
       " 'test/c2cfcfebb375fde437807ded4c172460.jpg',\n",
       " 'test/eb8e9637c329ca7ad7937be0ec94e80d.jpg',\n",
       " 'test/9bc4847dd1203223ecc8760dc88bab25.jpg',\n",
       " 'test/7694031e117bcb7ee0399e13d78f004a.jpg',\n",
       " 'test/f3228d0cf1dd0163bb365717eb0254f0.jpg',\n",
       " 'test/1cb39487e071702fb2ac1a31be2d31d7.jpg',\n",
       " 'test/7c394506535c7b64949e79db570f9f08.jpg',\n",
       " 'test/26623886ae122bc7f5e181d331e3683f.jpg',\n",
       " 'test/192ecd8b7dfafe05b8059125628c9c26.jpg',\n",
       " 'test/4f5ef91d33d35b31d91e2fe250bc88cb.jpg',\n",
       " 'test/8a918d65fa1080f9b68b720e72a0575e.jpg',\n",
       " 'test/8c5442d028fdf92119a23980f1ae2885.jpg',\n",
       " 'test/69af491274e314d7e03785508d2c507c.jpg',\n",
       " 'test/576a5cd8fc622937c28fb3082899b411.jpg',\n",
       " 'test/ee0582b96b135f5e036e011d53baa087.jpg',\n",
       " 'test/bc45ad24fc667776a43785b1ae0dc906.jpg',\n",
       " 'test/ee0bd39d8d6a0f57d626dbe1e4c52ebb.jpg',\n",
       " 'test/e241e149039740594a6af60dc18b269b.jpg',\n",
       " ...]"
      ]
     },
     "execution_count": 95,
     "metadata": {},
     "output_type": "execute_result"
    }
   ],
   "source": [
    "data.test_ds.fnames"
   ]
  },
  {
   "cell_type": "code",
   "execution_count": 96,
   "metadata": {},
   "outputs": [
    {
     "name": "stdout",
     "output_type": "stream",
     "text": [
      "                                              \r"
     ]
    }
   ],
   "source": [
    "log_preds, y = learn.TTA(is_test=True) # use test dataset rather than validation dataset\n",
    "probs = np.mean(np.exp(log_preds),0)\n",
    "#accuracy_np(probs, y), metrcs.log_loss(y, probs) # This does not make sense since test dataset has no labels"
   ]
  },
  {
   "cell_type": "code",
   "execution_count": 97,
   "metadata": {},
   "outputs": [
    {
     "data": {
      "text/plain": [
       "(10357, 120)"
      ]
     },
     "execution_count": 97,
     "metadata": {},
     "output_type": "execute_result"
    }
   ],
   "source": [
    "probs.shape # (n_images, n_classes)"
   ]
  },
  {
   "cell_type": "code",
   "execution_count": 98,
   "metadata": {},
   "outputs": [],
   "source": [
    "df = pd.DataFrame(probs)\n",
    "df.columns = data.classes"
   ]
  },
  {
   "cell_type": "code",
   "execution_count": 99,
   "metadata": {},
   "outputs": [],
   "source": [
    "df.insert(0, 'id', [o[5:-4] for o in data.test_ds.fnames])"
   ]
  },
  {
   "cell_type": "code",
   "execution_count": 100,
   "metadata": {},
   "outputs": [
    {
     "data": {
      "text/html": [
       "<div>\n",
       "<style scoped>\n",
       "    .dataframe tbody tr th:only-of-type {\n",
       "        vertical-align: middle;\n",
       "    }\n",
       "\n",
       "    .dataframe tbody tr th {\n",
       "        vertical-align: top;\n",
       "    }\n",
       "\n",
       "    .dataframe thead th {\n",
       "        text-align: right;\n",
       "    }\n",
       "</style>\n",
       "<table border=\"1\" class=\"dataframe\">\n",
       "  <thead>\n",
       "    <tr style=\"text-align: right;\">\n",
       "      <th></th>\n",
       "      <th>id</th>\n",
       "      <th>affenpinscher</th>\n",
       "      <th>afghan_hound</th>\n",
       "      <th>african_hunting_dog</th>\n",
       "      <th>airedale</th>\n",
       "      <th>american_staffordshire_terrier</th>\n",
       "      <th>appenzeller</th>\n",
       "      <th>australian_terrier</th>\n",
       "      <th>basenji</th>\n",
       "      <th>basset</th>\n",
       "      <th>...</th>\n",
       "      <th>toy_poodle</th>\n",
       "      <th>toy_terrier</th>\n",
       "      <th>vizsla</th>\n",
       "      <th>walker_hound</th>\n",
       "      <th>weimaraner</th>\n",
       "      <th>welsh_springer_spaniel</th>\n",
       "      <th>west_highland_white_terrier</th>\n",
       "      <th>whippet</th>\n",
       "      <th>wire-haired_fox_terrier</th>\n",
       "      <th>yorkshire_terrier</th>\n",
       "    </tr>\n",
       "  </thead>\n",
       "  <tbody>\n",
       "    <tr>\n",
       "      <th>0</th>\n",
       "      <td>de084b830010b6107215fef5d4a75b94</td>\n",
       "      <td>2.247048e-08</td>\n",
       "      <td>5.574502e-07</td>\n",
       "      <td>3.681719e-08</td>\n",
       "      <td>3.269305e-08</td>\n",
       "      <td>3.547173e-08</td>\n",
       "      <td>3.298868e-08</td>\n",
       "      <td>1.025481e-08</td>\n",
       "      <td>1.417199e-08</td>\n",
       "      <td>8.700473e-09</td>\n",
       "      <td>...</td>\n",
       "      <td>9.358684e-10</td>\n",
       "      <td>3.589490e-09</td>\n",
       "      <td>2.157270e-08</td>\n",
       "      <td>1.694793e-08</td>\n",
       "      <td>9.384597e-08</td>\n",
       "      <td>4.990889e-08</td>\n",
       "      <td>6.101275e-09</td>\n",
       "      <td>3.453411e-07</td>\n",
       "      <td>1.649283e-08</td>\n",
       "      <td>2.441560e-09</td>\n",
       "    </tr>\n",
       "    <tr>\n",
       "      <th>1</th>\n",
       "      <td>6b423ca7020e70eb05732843c5d2bad1</td>\n",
       "      <td>7.582547e-06</td>\n",
       "      <td>1.388717e-05</td>\n",
       "      <td>1.746069e-07</td>\n",
       "      <td>2.040628e-06</td>\n",
       "      <td>6.267339e-07</td>\n",
       "      <td>6.887335e-09</td>\n",
       "      <td>2.795896e-08</td>\n",
       "      <td>2.194484e-07</td>\n",
       "      <td>1.958241e-07</td>\n",
       "      <td>...</td>\n",
       "      <td>1.010043e-07</td>\n",
       "      <td>1.285715e-07</td>\n",
       "      <td>6.261421e-08</td>\n",
       "      <td>1.793479e-07</td>\n",
       "      <td>1.799862e-08</td>\n",
       "      <td>1.960520e-07</td>\n",
       "      <td>9.588302e-06</td>\n",
       "      <td>4.191500e-07</td>\n",
       "      <td>5.329080e-06</td>\n",
       "      <td>9.861136e-08</td>\n",
       "    </tr>\n",
       "    <tr>\n",
       "      <th>2</th>\n",
       "      <td>74aa7e201e0e93e13e87b986a7d31839</td>\n",
       "      <td>1.027102e-05</td>\n",
       "      <td>2.299651e-06</td>\n",
       "      <td>6.321819e-06</td>\n",
       "      <td>2.784797e-03</td>\n",
       "      <td>9.752674e-06</td>\n",
       "      <td>4.674553e-06</td>\n",
       "      <td>6.442232e-06</td>\n",
       "      <td>1.012436e-05</td>\n",
       "      <td>1.059099e-06</td>\n",
       "      <td>...</td>\n",
       "      <td>4.675650e-06</td>\n",
       "      <td>2.305696e-05</td>\n",
       "      <td>3.550390e-06</td>\n",
       "      <td>5.613023e-06</td>\n",
       "      <td>8.927980e-06</td>\n",
       "      <td>1.537664e-06</td>\n",
       "      <td>1.826299e-05</td>\n",
       "      <td>2.044362e-05</td>\n",
       "      <td>2.905504e-01</td>\n",
       "      <td>1.959356e-06</td>\n",
       "    </tr>\n",
       "    <tr>\n",
       "      <th>3</th>\n",
       "      <td>a079f72193264bc5685e5d28d7372680</td>\n",
       "      <td>6.443643e-05</td>\n",
       "      <td>2.200352e-06</td>\n",
       "      <td>3.003749e-06</td>\n",
       "      <td>1.808636e-05</td>\n",
       "      <td>5.075205e-06</td>\n",
       "      <td>6.518222e-07</td>\n",
       "      <td>5.569359e-06</td>\n",
       "      <td>7.453322e-07</td>\n",
       "      <td>9.494549e-07</td>\n",
       "      <td>...</td>\n",
       "      <td>1.170134e-06</td>\n",
       "      <td>1.846260e-06</td>\n",
       "      <td>6.348965e-07</td>\n",
       "      <td>9.115518e-07</td>\n",
       "      <td>3.061384e-06</td>\n",
       "      <td>1.364195e-06</td>\n",
       "      <td>5.049321e-05</td>\n",
       "      <td>1.384389e-06</td>\n",
       "      <td>1.279709e-03</td>\n",
       "      <td>4.294207e-05</td>\n",
       "    </tr>\n",
       "    <tr>\n",
       "      <th>4</th>\n",
       "      <td>583f7580fa5fec1266331fcf83b76fd6</td>\n",
       "      <td>4.872059e-07</td>\n",
       "      <td>1.116747e-08</td>\n",
       "      <td>2.368724e-07</td>\n",
       "      <td>1.556485e-06</td>\n",
       "      <td>1.718904e-08</td>\n",
       "      <td>3.177167e-07</td>\n",
       "      <td>6.466888e-08</td>\n",
       "      <td>5.951816e-09</td>\n",
       "      <td>3.472320e-10</td>\n",
       "      <td>...</td>\n",
       "      <td>5.578445e-08</td>\n",
       "      <td>1.796591e-08</td>\n",
       "      <td>5.679023e-09</td>\n",
       "      <td>1.610486e-09</td>\n",
       "      <td>1.884359e-07</td>\n",
       "      <td>5.007061e-07</td>\n",
       "      <td>3.053912e-09</td>\n",
       "      <td>4.251438e-07</td>\n",
       "      <td>8.928684e-07</td>\n",
       "      <td>6.154019e-08</td>\n",
       "    </tr>\n",
       "  </tbody>\n",
       "</table>\n",
       "<p>5 rows × 121 columns</p>\n",
       "</div>"
      ],
      "text/plain": [
       "                                 id  affenpinscher  afghan_hound  \\\n",
       "0  de084b830010b6107215fef5d4a75b94   2.247048e-08  5.574502e-07   \n",
       "1  6b423ca7020e70eb05732843c5d2bad1   7.582547e-06  1.388717e-05   \n",
       "2  74aa7e201e0e93e13e87b986a7d31839   1.027102e-05  2.299651e-06   \n",
       "3  a079f72193264bc5685e5d28d7372680   6.443643e-05  2.200352e-06   \n",
       "4  583f7580fa5fec1266331fcf83b76fd6   4.872059e-07  1.116747e-08   \n",
       "\n",
       "   african_hunting_dog      airedale  american_staffordshire_terrier  \\\n",
       "0         3.681719e-08  3.269305e-08                    3.547173e-08   \n",
       "1         1.746069e-07  2.040628e-06                    6.267339e-07   \n",
       "2         6.321819e-06  2.784797e-03                    9.752674e-06   \n",
       "3         3.003749e-06  1.808636e-05                    5.075205e-06   \n",
       "4         2.368724e-07  1.556485e-06                    1.718904e-08   \n",
       "\n",
       "    appenzeller  australian_terrier       basenji        basset  \\\n",
       "0  3.298868e-08        1.025481e-08  1.417199e-08  8.700473e-09   \n",
       "1  6.887335e-09        2.795896e-08  2.194484e-07  1.958241e-07   \n",
       "2  4.674553e-06        6.442232e-06  1.012436e-05  1.059099e-06   \n",
       "3  6.518222e-07        5.569359e-06  7.453322e-07  9.494549e-07   \n",
       "4  3.177167e-07        6.466888e-08  5.951816e-09  3.472320e-10   \n",
       "\n",
       "         ...            toy_poodle   toy_terrier        vizsla  walker_hound  \\\n",
       "0        ...          9.358684e-10  3.589490e-09  2.157270e-08  1.694793e-08   \n",
       "1        ...          1.010043e-07  1.285715e-07  6.261421e-08  1.793479e-07   \n",
       "2        ...          4.675650e-06  2.305696e-05  3.550390e-06  5.613023e-06   \n",
       "3        ...          1.170134e-06  1.846260e-06  6.348965e-07  9.115518e-07   \n",
       "4        ...          5.578445e-08  1.796591e-08  5.679023e-09  1.610486e-09   \n",
       "\n",
       "     weimaraner  welsh_springer_spaniel  west_highland_white_terrier  \\\n",
       "0  9.384597e-08            4.990889e-08                 6.101275e-09   \n",
       "1  1.799862e-08            1.960520e-07                 9.588302e-06   \n",
       "2  8.927980e-06            1.537664e-06                 1.826299e-05   \n",
       "3  3.061384e-06            1.364195e-06                 5.049321e-05   \n",
       "4  1.884359e-07            5.007061e-07                 3.053912e-09   \n",
       "\n",
       "        whippet  wire-haired_fox_terrier  yorkshire_terrier  \n",
       "0  3.453411e-07             1.649283e-08       2.441560e-09  \n",
       "1  4.191500e-07             5.329080e-06       9.861136e-08  \n",
       "2  2.044362e-05             2.905504e-01       1.959356e-06  \n",
       "3  1.384389e-06             1.279709e-03       4.294207e-05  \n",
       "4  4.251438e-07             8.928684e-07       6.154019e-08  \n",
       "\n",
       "[5 rows x 121 columns]"
      ]
     },
     "execution_count": 100,
     "metadata": {},
     "output_type": "execute_result"
    }
   ],
   "source": [
    "df.head()"
   ]
  },
  {
   "cell_type": "code",
   "execution_count": 101,
   "metadata": {},
   "outputs": [],
   "source": [
    "SUBM = f'{PATH}/subm/'\n",
    "os.makedirs(SUBM, exist_ok=True)\n",
    "df.to_csv(f'{SUBM}subm.gz', compression='gzip', index=False)"
   ]
  },
  {
   "cell_type": "code",
   "execution_count": 102,
   "metadata": {},
   "outputs": [
    {
     "data": {
      "text/html": [
       "<a href='data/dogbreed//subm/subm.gz' target='_blank'>data/dogbreed//subm/subm.gz</a><br>"
      ],
      "text/plain": [
       "/home/paperspace/fastai/courses/dl1/data/dogbreed/subm/subm.gz"
      ]
     },
     "execution_count": 102,
     "metadata": {},
     "output_type": "execute_result"
    }
   ],
   "source": [
    "FileLink(f'{SUBM}subm.gz')"
   ]
  },
  {
   "cell_type": "markdown",
   "metadata": {},
   "source": [
    "## Individual prediction"
   ]
  },
  {
   "cell_type": "code",
   "execution_count": 57,
   "metadata": {},
   "outputs": [
    {
     "data": {
      "text/plain": [
       "'train/00214f311d5d2247d5dfe4fe24b2303d.jpg'"
      ]
     },
     "execution_count": 57,
     "metadata": {},
     "output_type": "execute_result"
    }
   ],
   "source": [
    "fn = data.val_ds.fnames[1]\n",
    "fn"
   ]
  },
  {
   "cell_type": "code",
   "execution_count": 58,
   "metadata": {},
   "outputs": [
    {
     "data": {
      "image/png": "[encoded data removed]",
      "text/plain": [
       "<PIL.Image.Image image mode=RGB size=150x150 at 0x7FE96822EE10>"
      ]
     },
     "execution_count": 58,
     "metadata": {},
     "output_type": "execute_result"
    }
   ],
   "source": [
    "Image.open(PATH + fn).resize((150, 150))"
   ]
  },
  {
   "cell_type": "code",
   "execution_count": 59,
   "metadata": {},
   "outputs": [
    {
     "data": {
      "text/plain": [
       "15"
      ]
     },
     "execution_count": 59,
     "metadata": {},
     "output_type": "execute_result"
    }
   ],
   "source": [
    "# Method 1.\n",
    "trn_tfms, val_tfms = tfms_from_model(arch, sz)\n",
    "ds = FilesIndexArrayDataset([fn], np.array([0]), val_tfms, PATH)\n",
    "dl = DataLoader(ds)\n",
    "preds = learn.predict_dl(dl)\n",
    "np.argmax(preds)"
   ]
  },
  {
   "cell_type": "code",
   "execution_count": 60,
   "metadata": {},
   "outputs": [
    {
     "data": {
      "text/plain": [
       "'bluetick'"
      ]
     },
     "execution_count": 60,
     "metadata": {},
     "output_type": "execute_result"
    }
   ],
   "source": [
    "learn.data.classes[np.argmax(preds)]"
   ]
  },
  {
   "cell_type": "code",
   "execution_count": 61,
   "metadata": {},
   "outputs": [
    {
     "data": {
      "text/plain": [
       "15"
      ]
     },
     "execution_count": 61,
     "metadata": {},
     "output_type": "execute_result"
    }
   ],
   "source": [
    "# Method 2.\n",
    "trn_tfms, val_tfms = tfms_from_model(arch, sz)\n",
    "im = val_tfms(open_image(PATH + fn)) # open_image() returns numpy.ndarray\n",
    "preds = learn.predict_array(im[None])\n",
    "np.argmax(preds)"
   ]
  }
 ],
 "metadata": {
  "kernelspec": {
   "display_name": "Python 3",
   "language": "python",
   "name": "python3"
  },
  "language_info": {
   "codemirror_mode": {
    "name": "ipython",
    "version": 3
   },
   "file_extension": ".py",
   "mimetype": "text/x-python",
   "name": "python",
   "nbconvert_exporter": "python",
   "pygments_lexer": "ipython3",
   "version": "3.6.6"
  },
  "toc": {
   "nav_menu": {},
   "number_sections": true,
   "sideBar": true,
   "skip_h1_title": false,
   "title_cell": "Table of Contents",
   "title_sidebar": "Contents",
   "toc_cell": false,
   "toc_position": {
    "height": "calc(100% - 180px)",
    "left": "10px",
    "top": "150px",
    "width": "180.188px"
   },
   "toc_section_display": true,
   "toc_window_display": true
  },
  "varInspector": {
   "cols": {
    "lenName": 16,
    "lenType": 16,
    "lenVar": 40
   },
   "kernels_config": {
    "python": {
     "delete_cmd_postfix": "",
     "delete_cmd_prefix": "del ",
     "library": "var_list.py",
     "varRefreshCmd": "print(var_dic_list())"
    },
    "r": {
     "delete_cmd_postfix": ") ",
     "delete_cmd_prefix": "rm(",
     "library": "var_list.r",
     "varRefreshCmd": "cat(var_dic_list()) "
    }
   },
   "types_to_exclude": [
    "module",
    "function",
    "builtin_function_or_method",
    "instance",
    "_Feature"
   ],
   "window_display": false
  },
  "widgets": {
   "application/vnd.jupyter.widget-state+json": {
    "state": {
     "0147ea39a83144aa99e7877a908ca502": {
      "model_module": "@jupyter-widgets/base",
      "model_module_version": "1.0.0",
      "model_name": "LayoutModel",
      "state": {}
     },
     "02af08793c9a4c5ba0cbd7462a715f89": {
      "model_module": "@jupyter-widgets/controls",
      "model_module_version": "1.1.0",
      "model_name": "ProgressStyleModel",
      "state": {
       "description_width": ""
      }
     },
     "03c7476e32ce48c2b38a7023c2dcc0a1": {
      "model_module": "@jupyter-widgets/base",
      "model_module_version": "1.0.0",
      "model_name": "LayoutModel",
      "state": {}
     },
     "075434e4b0234c5fa61c8d63fec51679": {
      "model_module": "@jupyter-widgets/controls",
      "model_module_version": "1.1.0",
      "model_name": "ProgressStyleModel",
      "state": {
       "description_width": ""
      }
     },
     "08ba1e10c1a641f7876680a632f6821d": {
      "model_module": "@jupyter-widgets/controls",
      "model_module_version": "1.1.0",
      "model_name": "IntProgressModel",
      "state": {
       "bar_style": "success",
       "layout": "IPY_MODEL_b0edcf9ef0754ca4bb7fe6e8790c464b",
       "max": 6,
       "style": "IPY_MODEL_c13bdace91114d639b408aa120c97f79",
       "value": 6
      }
     },
     "0b49f5119c6d4a25bb575a20e33fe219": {
      "model_module": "@jupyter-widgets/base",
      "model_module_version": "1.0.0",
      "model_name": "LayoutModel",
      "state": {}
     },
     "12cc98b1fc954667bd49c08972278f1d": {
      "model_module": "@jupyter-widgets/controls",
      "model_module_version": "1.1.0",
      "model_name": "ProgressStyleModel",
      "state": {
       "description_width": ""
      }
     },
     "13cbbf3a554a40f09d40df39c2cacf47": {
      "model_module": "@jupyter-widgets/base",
      "model_module_version": "1.0.0",
      "model_name": "LayoutModel",
      "state": {}
     },
     "148c1abd5f1747a2a787c09cef3071bc": {
      "model_module": "@jupyter-widgets/controls",
      "model_module_version": "1.1.0",
      "model_name": "HTMLModel",
      "state": {
       "layout": "IPY_MODEL_902c060a37b4491788462dce6be1798b",
       "style": "IPY_MODEL_88db019106ca4893816ea780e567a175",
       "value": "100% 3/3 [16:30&lt;00:00, 330.17s/it]"
      }
     },
     "16993380d0fa42b888a52dbf1bb42f20": {
      "model_module": "@jupyter-widgets/controls",
      "model_module_version": "1.1.0",
      "model_name": "IntProgressModel",
      "state": {
       "bar_style": "success",
       "layout": "IPY_MODEL_c74dedf09f57490a9f1ac9af54e14bf3",
       "max": 6,
       "style": "IPY_MODEL_557d35c901f54575b5963e3b7ce932a3",
       "value": 6
      }
     },
     "19c5557812814cb28bc7e0cc80c65c5f": {
      "model_module": "@jupyter-widgets/base",
      "model_module_version": "1.0.0",
      "model_name": "LayoutModel",
      "state": {}
     },
     "1c241c0e5b5844508c1c50e2a7c09b1b": {
      "model_module": "@jupyter-widgets/base",
      "model_module_version": "1.0.0",
      "model_name": "LayoutModel",
      "state": {}
     },
     "1c509f99160e41d5af6e565b1541e571": {
      "model_module": "@jupyter-widgets/controls",
      "model_module_version": "1.1.0",
      "model_name": "HTMLModel",
      "state": {
       "layout": "IPY_MODEL_9352e3fd2af54e09ad67afb4ac446b27",
       "style": "IPY_MODEL_62e7ecfbbea7427385deb25ed2f4232f",
       "value": "100% 6/6 [00:00&lt;00:00, 380.26it/s]"
      }
     },
     "1e2f1c40607144eb9cb7b9e257d06f35": {
      "model_module": "@jupyter-widgets/base",
      "model_module_version": "1.0.0",
      "model_name": "LayoutModel",
      "state": {}
     },
     "1fc90792a2b74c38aaf73659c3756831": {
      "model_module": "@jupyter-widgets/base",
      "model_module_version": "1.0.0",
      "model_name": "LayoutModel",
      "state": {}
     },
     "201ae86e437e4b5390782e9df272326d": {
      "model_module": "@jupyter-widgets/controls",
      "model_module_version": "1.1.0",
      "model_name": "HBoxModel",
      "state": {
       "children": [
        "IPY_MODEL_c8871c57d7bd4b61a99633668fb44621",
        "IPY_MODEL_38eb37d7293d4273a6ae06b5a451617d"
       ],
       "layout": "IPY_MODEL_1c241c0e5b5844508c1c50e2a7c09b1b"
      }
     },
     "20bfce64bf354e2398353b6a2a31d0e5": {
      "model_module": "@jupyter-widgets/base",
      "model_module_version": "1.0.0",
      "model_name": "LayoutModel",
      "state": {}
     },
     "21e75994f5e749748dd5693819e51d93": {
      "model_module": "@jupyter-widgets/controls",
      "model_module_version": "1.1.0",
      "model_name": "DescriptionStyleModel",
      "state": {
       "description_width": ""
      }
     },
     "22952b3bfa674aff898e452b30bd319e": {
      "model_module": "@jupyter-widgets/controls",
      "model_module_version": "1.1.0",
      "model_name": "DescriptionStyleModel",
      "state": {
       "description_width": ""
      }
     },
     "26e2b0e7abb24e3fad1b5c0c166aa44d": {
      "model_module": "@jupyter-widgets/controls",
      "model_module_version": "1.1.0",
      "model_name": "IntProgressModel",
      "state": {
       "bar_style": "success",
       "description": "Epoch",
       "layout": "IPY_MODEL_363595af2f5f4ad3a3f5a9e46069d58e",
       "max": 5,
       "style": "IPY_MODEL_02af08793c9a4c5ba0cbd7462a715f89",
       "value": 5
      }
     },
     "288366a4c5ba435286c34d6d5ad69201": {
      "model_module": "@jupyter-widgets/controls",
      "model_module_version": "1.1.0",
      "model_name": "HBoxModel",
      "state": {
       "children": [
        "IPY_MODEL_33f7abed940a4b24b01110da8ec67ddc",
        "IPY_MODEL_93f4380114fe48b88db18d0c97736fd4"
       ],
       "layout": "IPY_MODEL_5b17418f64954c14843a914942f8ce3d"
      }
     },
     "292be092bc964dd7a48bc62c906f5814": {
      "model_module": "@jupyter-widgets/controls",
      "model_module_version": "1.1.0",
      "model_name": "ProgressStyleModel",
      "state": {
       "description_width": ""
      }
     },
     "2d1dfcb285154a7bac2db184a87f3c4e": {
      "model_module": "@jupyter-widgets/base",
      "model_module_version": "1.0.0",
      "model_name": "LayoutModel",
      "state": {}
     },
     "2ff92f760a2b46a99576ab77daccac1d": {
      "model_module": "@jupyter-widgets/base",
      "model_module_version": "1.0.0",
      "model_name": "LayoutModel",
      "state": {}
     },
     "33ce7c9b732e4715ae12b71669addfdf": {
      "model_module": "@jupyter-widgets/controls",
      "model_module_version": "1.1.0",
      "model_name": "IntProgressModel",
      "state": {
       "bar_style": "success",
       "layout": "IPY_MODEL_20bfce64bf354e2398353b6a2a31d0e5",
       "max": 6,
       "style": "IPY_MODEL_830aa543858f4a54a14aad440bcbde34",
       "value": 6
      }
     },
     "33f7abed940a4b24b01110da8ec67ddc": {
      "model_module": "@jupyter-widgets/controls",
      "model_module_version": "1.1.0",
      "model_name": "IntProgressModel",
      "state": {
       "bar_style": "success",
       "layout": "IPY_MODEL_7ba0d94e2ef544fe9126eacee6588468",
       "max": 6,
       "style": "IPY_MODEL_8c8cb52ff5e54c55a297af7571a105ea",
       "value": 6
      }
     },
     "363595af2f5f4ad3a3f5a9e46069d58e": {
      "model_module": "@jupyter-widgets/base",
      "model_module_version": "1.0.0",
      "model_name": "LayoutModel",
      "state": {}
     },
     "37f00a662a3c4b5f9f29db6903cfc5ba": {
      "model_module": "@jupyter-widgets/controls",
      "model_module_version": "1.1.0",
      "model_name": "DescriptionStyleModel",
      "state": {
       "description_width": ""
      }
     },
     "37faed3c96f343e895d8f29ab07137c0": {
      "model_module": "@jupyter-widgets/base",
      "model_module_version": "1.0.0",
      "model_name": "LayoutModel",
      "state": {}
     },
     "38eb37d7293d4273a6ae06b5a451617d": {
      "model_module": "@jupyter-widgets/controls",
      "model_module_version": "1.1.0",
      "model_name": "HTMLModel",
      "state": {
       "layout": "IPY_MODEL_42c23fec7e814a9aaf39ffa59c0ffe20",
       "style": "IPY_MODEL_7163788d004d4c15b0b0137a654079a0",
       "value": "100% 7/7 [35:35&lt;00:00, 305.08s/it]"
      }
     },
     "39cf7d6b5e98460e9a621f1d74e32fad": {
      "model_module": "@jupyter-widgets/controls",
      "model_module_version": "1.1.0",
      "model_name": "HTMLModel",
      "state": {
       "layout": "IPY_MODEL_cb554ddf38bb4597b282655ee74ca321",
       "style": "IPY_MODEL_c45beabad9d34af5b39ce603b5308ef9",
       "value": "100% 5/5 [27:26&lt;00:00, 329.38s/it]"
      }
     },
     "39d7df82d70b40df9f1171dad9ce2b4c": {
      "model_module": "@jupyter-widgets/controls",
      "model_module_version": "1.1.0",
      "model_name": "DescriptionStyleModel",
      "state": {
       "description_width": ""
      }
     },
     "3a1160614abc4724b73cc9bc2e0d0d46": {
      "model_module": "@jupyter-widgets/controls",
      "model_module_version": "1.1.0",
      "model_name": "HTMLModel",
      "state": {
       "layout": "IPY_MODEL_19c5557812814cb28bc7e0cc80c65c5f",
       "style": "IPY_MODEL_87707de469bc4c4bb2ba2a2ed7322de1",
       "value": "100% 5/5 [00:28&lt;00:00,  5.70s/it]"
      }
     },
     "3b2e29458fdc49d0864a7fc9a1faafb6": {
      "model_module": "@jupyter-widgets/base",
      "model_module_version": "1.0.0",
      "model_name": "LayoutModel",
      "state": {}
     },
     "3ed035ff92d947ad9059d4bc03f2576c": {
      "model_module": "@jupyter-widgets/controls",
      "model_module_version": "1.1.0",
      "model_name": "HBoxModel",
      "state": {
       "children": [
        "IPY_MODEL_16993380d0fa42b888a52dbf1bb42f20",
        "IPY_MODEL_a52bd3eee7aa4e9093ee525fc42ff232"
       ],
       "layout": "IPY_MODEL_66e271ee790148eb89ae51b9b22216aa"
      }
     },
     "40060908ceee46fb859195274eca3da8": {
      "model_module": "@jupyter-widgets/controls",
      "model_module_version": "1.1.0",
      "model_name": "HBoxModel",
      "state": {
       "children": [
        "IPY_MODEL_4b3362ffeac948e490ce91f1e0786f2e",
        "IPY_MODEL_c09f764cc1c74e3aa75fea864a8d21f3"
       ],
       "layout": "IPY_MODEL_e6926f2efb5340528a00c5045376c380"
      }
     },
     "405077ae66ac44afbd35d90a6afd6cab": {
      "model_module": "@jupyter-widgets/base",
      "model_module_version": "1.0.0",
      "model_name": "LayoutModel",
      "state": {}
     },
     "41a9d48c29ef4752bcd2ddc7076dac3c": {
      "model_module": "@jupyter-widgets/base",
      "model_module_version": "1.0.0",
      "model_name": "LayoutModel",
      "state": {}
     },
     "42c23fec7e814a9aaf39ffa59c0ffe20": {
      "model_module": "@jupyter-widgets/base",
      "model_module_version": "1.0.0",
      "model_name": "LayoutModel",
      "state": {}
     },
     "43f1cb9394c5422798a91c1b6b0a5907": {
      "model_module": "@jupyter-widgets/base",
      "model_module_version": "1.0.0",
      "model_name": "LayoutModel",
      "state": {}
     },
     "45a9f25bf3964af68dfce8bbb2091917": {
      "model_module": "@jupyter-widgets/controls",
      "model_module_version": "1.1.0",
      "model_name": "DescriptionStyleModel",
      "state": {
       "description_width": ""
      }
     },
     "4654ebf91a484cb8b153920fb89bb522": {
      "model_module": "@jupyter-widgets/base",
      "model_module_version": "1.0.0",
      "model_name": "LayoutModel",
      "state": {}
     },
     "4b3362ffeac948e490ce91f1e0786f2e": {
      "model_module": "@jupyter-widgets/controls",
      "model_module_version": "1.1.0",
      "model_name": "IntProgressModel",
      "state": {
       "bar_style": "success",
       "layout": "IPY_MODEL_67e1b7b183484f03b2f63c22c44e8713",
       "max": 6,
       "style": "IPY_MODEL_12cc98b1fc954667bd49c08972278f1d",
       "value": 6
      }
     },
     "4c5e108b0b9145cb9987a673dda89bb6": {
      "model_module": "@jupyter-widgets/base",
      "model_module_version": "1.0.0",
      "model_name": "LayoutModel",
      "state": {}
     },
     "4d7cbd1c9b0b45359d4d31ad4e50e441": {
      "model_module": "@jupyter-widgets/base",
      "model_module_version": "1.0.0",
      "model_name": "LayoutModel",
      "state": {}
     },
     "54f04d9c381446649b742e1242de6953": {
      "model_module": "@jupyter-widgets/controls",
      "model_module_version": "1.1.0",
      "model_name": "IntProgressModel",
      "state": {
       "bar_style": "success",
       "description": "Epoch",
       "layout": "IPY_MODEL_f6539e378c294a6c955da278da4ade4e",
       "max": 2,
       "style": "IPY_MODEL_b1cddc992f864976b0f4132e0c4819f4",
       "value": 2
      }
     },
     "557d35c901f54575b5963e3b7ce932a3": {
      "model_module": "@jupyter-widgets/controls",
      "model_module_version": "1.1.0",
      "model_name": "ProgressStyleModel",
      "state": {
       "description_width": ""
      }
     },
     "5791e4167111408ca3f1be2e16334803": {
      "model_module": "@jupyter-widgets/base",
      "model_module_version": "1.0.0",
      "model_name": "LayoutModel",
      "state": {}
     },
     "5b0ec0306b6440c1a068951bf0d4a50c": {
      "model_module": "@jupyter-widgets/controls",
      "model_module_version": "1.1.0",
      "model_name": "ProgressStyleModel",
      "state": {
       "description_width": ""
      }
     },
     "5b17418f64954c14843a914942f8ce3d": {
      "model_module": "@jupyter-widgets/base",
      "model_module_version": "1.0.0",
      "model_name": "LayoutModel",
      "state": {}
     },
     "5b494db622384a7fabd7ed86d7f0575c": {
      "model_module": "@jupyter-widgets/controls",
      "model_module_version": "1.1.0",
      "model_name": "HBoxModel",
      "state": {
       "children": [
        "IPY_MODEL_26e2b0e7abb24e3fad1b5c0c166aa44d",
        "IPY_MODEL_c05cfeeac9a04c68a7387dc65bf48227"
       ],
       "layout": "IPY_MODEL_4654ebf91a484cb8b153920fb89bb522"
      }
     },
     "5c13867f02614d49bc038af563f5a5a2": {
      "model_module": "@jupyter-widgets/controls",
      "model_module_version": "1.1.0",
      "model_name": "IntProgressModel",
      "state": {
       "bar_style": "success",
       "layout": "IPY_MODEL_7234b227a46b404598576e19a230a94e",
       "max": 6,
       "style": "IPY_MODEL_7ae2ea4a6e144242ad504c2032fbb9b9",
       "value": 6
      }
     },
     "5d3aa8de854a491485458bcaf88b9de4": {
      "model_module": "@jupyter-widgets/controls",
      "model_module_version": "1.1.0",
      "model_name": "HBoxModel",
      "state": {
       "children": [
        "IPY_MODEL_c6a3a9d502b94ffba6cb6708c9762bd0",
        "IPY_MODEL_8d9389e09e1d44d88ffffdb83ac6f407"
       ],
       "layout": "IPY_MODEL_03c7476e32ce48c2b38a7023c2dcc0a1"
      }
     },
     "5f4033806f5144f28e0999110bf34612": {
      "model_module": "@jupyter-widgets/controls",
      "model_module_version": "1.1.0",
      "model_name": "IntProgressModel",
      "state": {
       "bar_style": "success",
       "description": "Epoch",
       "layout": "IPY_MODEL_e59a2233ae454d81ada1b8494763e7bc",
       "max": 2,
       "style": "IPY_MODEL_292be092bc964dd7a48bc62c906f5814",
       "value": 2
      }
     },
     "61defccfe9dc4330931ce420b9976dcd": {
      "model_module": "@jupyter-widgets/controls",
      "model_module_version": "1.1.0",
      "model_name": "HTMLModel",
      "state": {
       "layout": "IPY_MODEL_4d7cbd1c9b0b45359d4d31ad4e50e441",
       "style": "IPY_MODEL_45a9f25bf3964af68dfce8bbb2091917",
       "value": "100% 2/2 [10:08&lt;00:00, 304.26s/it]"
      }
     },
     "62e7ecfbbea7427385deb25ed2f4232f": {
      "model_module": "@jupyter-widgets/controls",
      "model_module_version": "1.1.0",
      "model_name": "DescriptionStyleModel",
      "state": {
       "description_width": ""
      }
     },
     "62e8fbf1622b4a36a186e7f319552990": {
      "model_module": "@jupyter-widgets/controls",
      "model_module_version": "1.1.0",
      "model_name": "IntProgressModel",
      "state": {
       "bar_style": "success",
       "description": "Epoch",
       "layout": "IPY_MODEL_41a9d48c29ef4752bcd2ddc7076dac3c",
       "max": 2,
       "style": "IPY_MODEL_5b0ec0306b6440c1a068951bf0d4a50c",
       "value": 2
      }
     },
     "65d9210f3d3345019a1fcf4ad82f1ae9": {
      "model_module": "@jupyter-widgets/base",
      "model_module_version": "1.0.0",
      "model_name": "LayoutModel",
      "state": {}
     },
     "66179fdeb4534eb281f2690ded33950e": {
      "model_module": "@jupyter-widgets/controls",
      "model_module_version": "1.1.0",
      "model_name": "DescriptionStyleModel",
      "state": {
       "description_width": ""
      }
     },
     "66e271ee790148eb89ae51b9b22216aa": {
      "model_module": "@jupyter-widgets/base",
      "model_module_version": "1.0.0",
      "model_name": "LayoutModel",
      "state": {}
     },
     "67e1b7b183484f03b2f63c22c44e8713": {
      "model_module": "@jupyter-widgets/base",
      "model_module_version": "1.0.0",
      "model_name": "LayoutModel",
      "state": {}
     },
     "7163788d004d4c15b0b0137a654079a0": {
      "model_module": "@jupyter-widgets/controls",
      "model_module_version": "1.1.0",
      "model_name": "DescriptionStyleModel",
      "state": {
       "description_width": ""
      }
     },
     "7234b227a46b404598576e19a230a94e": {
      "model_module": "@jupyter-widgets/base",
      "model_module_version": "1.0.0",
      "model_name": "LayoutModel",
      "state": {}
     },
     "77132b06e4ad40fdabdc0dd93922af21": {
      "model_module": "@jupyter-widgets/base",
      "model_module_version": "1.0.0",
      "model_name": "LayoutModel",
      "state": {}
     },
     "784cd320488247aa87d575558f81d06b": {
      "model_module": "@jupyter-widgets/base",
      "model_module_version": "1.0.0",
      "model_name": "LayoutModel",
      "state": {}
     },
     "7998921f656343ffadf133220692f859": {
      "model_module": "@jupyter-widgets/controls",
      "model_module_version": "1.1.0",
      "model_name": "IntProgressModel",
      "state": {
       "bar_style": "success",
       "description": "Epoch",
       "layout": "IPY_MODEL_0b49f5119c6d4a25bb575a20e33fe219",
       "max": 5,
       "style": "IPY_MODEL_cfeaf84bdbe34c7898e1ea8fc61b539c",
       "value": 5
      }
     },
     "7ad08fc0082a41bc882cedf6004206dd": {
      "model_module": "@jupyter-widgets/controls",
      "model_module_version": "1.1.0",
      "model_name": "HBoxModel",
      "state": {
       "children": [
        "IPY_MODEL_33ce7c9b732e4715ae12b71669addfdf",
        "IPY_MODEL_bc6e6b33b84344f094704454a0cf6f6b"
       ],
       "layout": "IPY_MODEL_2ff92f760a2b46a99576ab77daccac1d"
      }
     },
     "7adf432cd98f46df927bf9da9d94b182": {
      "model_module": "@jupyter-widgets/controls",
      "model_module_version": "1.1.0",
      "model_name": "DescriptionStyleModel",
      "state": {
       "description_width": ""
      }
     },
     "7ae2ea4a6e144242ad504c2032fbb9b9": {
      "model_module": "@jupyter-widgets/controls",
      "model_module_version": "1.1.0",
      "model_name": "ProgressStyleModel",
      "state": {
       "description_width": ""
      }
     },
     "7b215de0d6b64c3897c22bd817bbcb8d": {
      "model_module": "@jupyter-widgets/controls",
      "model_module_version": "1.1.0",
      "model_name": "IntProgressModel",
      "state": {
       "bar_style": "success",
       "description": "Epoch",
       "layout": "IPY_MODEL_1e2f1c40607144eb9cb7b9e257d06f35",
       "max": 3,
       "style": "IPY_MODEL_f38f8ae81eca43f9b1828369ebffd849",
       "value": 3
      }
     },
     "7ba0d94e2ef544fe9126eacee6588468": {
      "model_module": "@jupyter-widgets/base",
      "model_module_version": "1.0.0",
      "model_name": "LayoutModel",
      "state": {}
     },
     "8228413e70844312b5aa3128e3bea3ad": {
      "model_module": "@jupyter-widgets/controls",
      "model_module_version": "1.1.0",
      "model_name": "HTMLModel",
      "state": {
       "layout": "IPY_MODEL_890f789420e4416697cafbf732f38b95",
       "style": "IPY_MODEL_b52cba9c0daf49aab716b75c91137766",
       "value": "100% 2/2 [00:06&lt;00:00,  3.12s/it]"
      }
     },
     "830aa543858f4a54a14aad440bcbde34": {
      "model_module": "@jupyter-widgets/controls",
      "model_module_version": "1.1.0",
      "model_name": "ProgressStyleModel",
      "state": {
       "description_width": ""
      }
     },
     "868f105f38aa47b2b0223680dc202859": {
      "model_module": "@jupyter-widgets/base",
      "model_module_version": "1.0.0",
      "model_name": "LayoutModel",
      "state": {}
     },
     "87707de469bc4c4bb2ba2a2ed7322de1": {
      "model_module": "@jupyter-widgets/controls",
      "model_module_version": "1.1.0",
      "model_name": "DescriptionStyleModel",
      "state": {
       "description_width": ""
      }
     },
     "879f0f26c06041698336e79b9b92b0c8": {
      "model_module": "@jupyter-widgets/controls",
      "model_module_version": "1.1.0",
      "model_name": "HBoxModel",
      "state": {
       "children": [
        "IPY_MODEL_c19f1e5cf61444b5926c89b67c374dc8",
        "IPY_MODEL_148c1abd5f1747a2a787c09cef3071bc"
       ],
       "layout": "IPY_MODEL_b4a9636246544cd7a3ebcff56595bea2"
      }
     },
     "88db019106ca4893816ea780e567a175": {
      "model_module": "@jupyter-widgets/controls",
      "model_module_version": "1.1.0",
      "model_name": "DescriptionStyleModel",
      "state": {
       "description_width": ""
      }
     },
     "890f789420e4416697cafbf732f38b95": {
      "model_module": "@jupyter-widgets/base",
      "model_module_version": "1.0.0",
      "model_name": "LayoutModel",
      "state": {}
     },
     "8c8cb52ff5e54c55a297af7571a105ea": {
      "model_module": "@jupyter-widgets/controls",
      "model_module_version": "1.1.0",
      "model_name": "ProgressStyleModel",
      "state": {
       "description_width": ""
      }
     },
     "8d9389e09e1d44d88ffffdb83ac6f407": {
      "model_module": "@jupyter-widgets/controls",
      "model_module_version": "1.1.0",
      "model_name": "HTMLModel",
      "state": {
       "layout": "IPY_MODEL_1fc90792a2b74c38aaf73659c3756831",
       "style": "IPY_MODEL_66179fdeb4534eb281f2690ded33950e",
       "value": "100% 2/2 [00:06&lt;00:00,  3.17s/it]"
      }
     },
     "902c060a37b4491788462dce6be1798b": {
      "model_module": "@jupyter-widgets/base",
      "model_module_version": "1.0.0",
      "model_name": "LayoutModel",
      "state": {}
     },
     "91b150ff417c44d1bc68e66d1b3c5925": {
      "model_module": "@jupyter-widgets/controls",
      "model_module_version": "1.1.0",
      "model_name": "DescriptionStyleModel",
      "state": {
       "description_width": ""
      }
     },
     "9352e3fd2af54e09ad67afb4ac446b27": {
      "model_module": "@jupyter-widgets/base",
      "model_module_version": "1.0.0",
      "model_name": "LayoutModel",
      "state": {}
     },
     "93f4380114fe48b88db18d0c97736fd4": {
      "model_module": "@jupyter-widgets/controls",
      "model_module_version": "1.1.0",
      "model_name": "HTMLModel",
      "state": {
       "layout": "IPY_MODEL_b7e6303bb38542c9a8282079c33beca7",
       "style": "IPY_MODEL_21e75994f5e749748dd5693819e51d93",
       "value": "100% 6/6 [00:00&lt;00:00, 343.35it/s]"
      }
     },
     "956dbbddf33a476db031c3d1b8ad5b4e": {
      "model_module": "@jupyter-widgets/controls",
      "model_module_version": "1.1.0",
      "model_name": "HBoxModel",
      "state": {
       "children": [
        "IPY_MODEL_7998921f656343ffadf133220692f859",
        "IPY_MODEL_39cf7d6b5e98460e9a621f1d74e32fad"
       ],
       "layout": "IPY_MODEL_65d9210f3d3345019a1fcf4ad82f1ae9"
      }
     },
     "a19c0f9c5cb34e9e8cdfe5c356084b80": {
      "model_module": "@jupyter-widgets/controls",
      "model_module_version": "1.1.0",
      "model_name": "DescriptionStyleModel",
      "state": {
       "description_width": ""
      }
     },
     "a52bd3eee7aa4e9093ee525fc42ff232": {
      "model_module": "@jupyter-widgets/controls",
      "model_module_version": "1.1.0",
      "model_name": "HTMLModel",
      "state": {
       "layout": "IPY_MODEL_405077ae66ac44afbd35d90a6afd6cab",
       "style": "IPY_MODEL_fa7fbd7aa5ab41a5aaabfca1db46058e",
       "value": "100% 6/6 [00:00&lt;00:00, 377.47it/s]"
      }
     },
     "a6ba13af33984f1b96ed120d3798b035": {
      "model_module": "@jupyter-widgets/base",
      "model_module_version": "1.0.0",
      "model_name": "LayoutModel",
      "state": {}
     },
     "a6cf535c8f30471e947503cae6bdb611": {
      "model_module": "@jupyter-widgets/controls",
      "model_module_version": "1.1.0",
      "model_name": "IntProgressModel",
      "state": {
       "bar_style": "success",
       "description": "Epoch",
       "layout": "IPY_MODEL_e77a75b0e9b446318ef399e225003e65",
       "max": 7,
       "style": "IPY_MODEL_c8469a077e5449b69821e6b27b8e74e5",
       "value": 7
      }
     },
     "a7afeac8de60479e8c92248312fde8fc": {
      "model_module": "@jupyter-widgets/base",
      "model_module_version": "1.0.0",
      "model_name": "LayoutModel",
      "state": {}
     },
     "aad1581c410d48feb48e6b943c14bdb8": {
      "model_module": "@jupyter-widgets/controls",
      "model_module_version": "1.1.0",
      "model_name": "ProgressStyleModel",
      "state": {
       "description_width": ""
      }
     },
     "b0edcf9ef0754ca4bb7fe6e8790c464b": {
      "model_module": "@jupyter-widgets/base",
      "model_module_version": "1.0.0",
      "model_name": "LayoutModel",
      "state": {}
     },
     "b1258a718296423d9f4d9c0535aae63b": {
      "model_module": "@jupyter-widgets/controls",
      "model_module_version": "1.1.0",
      "model_name": "HTMLModel",
      "state": {
       "layout": "IPY_MODEL_3b2e29458fdc49d0864a7fc9a1faafb6",
       "style": "IPY_MODEL_37f00a662a3c4b5f9f29db6903cfc5ba",
       "value": "100% 3/3 [15:16&lt;00:00, 305.39s/it]"
      }
     },
     "b1cddc992f864976b0f4132e0c4819f4": {
      "model_module": "@jupyter-widgets/controls",
      "model_module_version": "1.1.0",
      "model_name": "ProgressStyleModel",
      "state": {
       "description_width": ""
      }
     },
     "b3ae58ce0bce4cd1b678a043b8ce4415": {
      "model_module": "@jupyter-widgets/controls",
      "model_module_version": "1.1.0",
      "model_name": "HBoxModel",
      "state": {
       "children": [
        "IPY_MODEL_54f04d9c381446649b742e1242de6953",
        "IPY_MODEL_e10c6be126a045d9809b90c0880e7362"
       ],
       "layout": "IPY_MODEL_77132b06e4ad40fdabdc0dd93922af21"
      }
     },
     "b4a9636246544cd7a3ebcff56595bea2": {
      "model_module": "@jupyter-widgets/base",
      "model_module_version": "1.0.0",
      "model_name": "LayoutModel",
      "state": {}
     },
     "b4c9fe6ac6f649dc9ed8a077a5eaeb20": {
      "model_module": "@jupyter-widgets/base",
      "model_module_version": "1.0.0",
      "model_name": "LayoutModel",
      "state": {}
     },
     "b52cba9c0daf49aab716b75c91137766": {
      "model_module": "@jupyter-widgets/controls",
      "model_module_version": "1.1.0",
      "model_name": "DescriptionStyleModel",
      "state": {
       "description_width": ""
      }
     },
     "b7e6303bb38542c9a8282079c33beca7": {
      "model_module": "@jupyter-widgets/base",
      "model_module_version": "1.0.0",
      "model_name": "LayoutModel",
      "state": {}
     },
     "ba26964d72134b3aa6095e3102f1531b": {
      "model_module": "@jupyter-widgets/base",
      "model_module_version": "1.0.0",
      "model_name": "LayoutModel",
      "state": {}
     },
     "bc6e6b33b84344f094704454a0cf6f6b": {
      "model_module": "@jupyter-widgets/controls",
      "model_module_version": "1.1.0",
      "model_name": "HTMLModel",
      "state": {
       "layout": "IPY_MODEL_e6337586212341de8a4de0ce6bd25649",
       "style": "IPY_MODEL_7adf432cd98f46df927bf9da9d94b182",
       "value": "100% 6/6 [00:00&lt;00:00, 270.73it/s]"
      }
     },
     "bd8469f87f2d4e789610110acd07571d": {
      "model_module": "@jupyter-widgets/controls",
      "model_module_version": "1.1.0",
      "model_name": "HBoxModel",
      "state": {
       "children": [
        "IPY_MODEL_ed2e720acb7a467c85bd7db465281523",
        "IPY_MODEL_3a1160614abc4724b73cc9bc2e0d0d46"
       ],
       "layout": "IPY_MODEL_37faed3c96f343e895d8f29ab07137c0"
      }
     },
     "c01a6ed0806a4aaaaf580bf56e78398f": {
      "model_module": "@jupyter-widgets/controls",
      "model_module_version": "1.1.0",
      "model_name": "DescriptionStyleModel",
      "state": {
       "description_width": ""
      }
     },
     "c05cfeeac9a04c68a7387dc65bf48227": {
      "model_module": "@jupyter-widgets/controls",
      "model_module_version": "1.1.0",
      "model_name": "HTMLModel",
      "state": {
       "layout": "IPY_MODEL_a7afeac8de60479e8c92248312fde8fc",
       "style": "IPY_MODEL_22952b3bfa674aff898e452b30bd319e",
       "value": "100% 5/5 [00:16&lt;00:00,  3.28s/it]"
      }
     },
     "c09f764cc1c74e3aa75fea864a8d21f3": {
      "model_module": "@jupyter-widgets/controls",
      "model_module_version": "1.1.0",
      "model_name": "HTMLModel",
      "state": {
       "layout": "IPY_MODEL_c80d11f161704ab3bda86e7d1dfaff03",
       "style": "IPY_MODEL_e1df5ccb47594688afaee7c51d9cfeed",
       "value": "100% 6/6 [00:00&lt;00:00, 377.26it/s]"
      }
     },
     "c13bdace91114d639b408aa120c97f79": {
      "model_module": "@jupyter-widgets/controls",
      "model_module_version": "1.1.0",
      "model_name": "ProgressStyleModel",
      "state": {
       "description_width": ""
      }
     },
     "c19f1e5cf61444b5926c89b67c374dc8": {
      "model_module": "@jupyter-widgets/controls",
      "model_module_version": "1.1.0",
      "model_name": "IntProgressModel",
      "state": {
       "bar_style": "success",
       "description": "Epoch",
       "layout": "IPY_MODEL_43f1cb9394c5422798a91c1b6b0a5907",
       "max": 3,
       "style": "IPY_MODEL_aad1581c410d48feb48e6b943c14bdb8",
       "value": 3
      }
     },
     "c28408357da544cd8c8bbd5c7469e541": {
      "model_module": "@jupyter-widgets/controls",
      "model_module_version": "1.1.0",
      "model_name": "HBoxModel",
      "state": {
       "children": [
        "IPY_MODEL_5c13867f02614d49bc038af563f5a5a2",
        "IPY_MODEL_1c509f99160e41d5af6e565b1541e571"
       ],
       "layout": "IPY_MODEL_e41e9dc77ce44f3fad0aee4db429cd7d"
      }
     },
     "c30905e882964682bbe231e445b57833": {
      "model_module": "@jupyter-widgets/controls",
      "model_module_version": "1.1.0",
      "model_name": "HBoxModel",
      "state": {
       "children": [
        "IPY_MODEL_08ba1e10c1a641f7876680a632f6821d",
        "IPY_MODEL_e6f6231f671e4871b9e496cce50bf2b9"
       ],
       "layout": "IPY_MODEL_db256ef0046f46d085353ffba880c8fa"
      }
     },
     "c438be876cfc49e8920f2704c6cddbdc": {
      "model_module": "@jupyter-widgets/controls",
      "model_module_version": "1.1.0",
      "model_name": "HBoxModel",
      "state": {
       "children": [
        "IPY_MODEL_de9c288444e74ea38dbac2ef1b1078e4",
        "IPY_MODEL_fe3c562acb4e432280f6432df0710577"
       ],
       "layout": "IPY_MODEL_ba26964d72134b3aa6095e3102f1531b"
      }
     },
     "c45beabad9d34af5b39ce603b5308ef9": {
      "model_module": "@jupyter-widgets/controls",
      "model_module_version": "1.1.0",
      "model_name": "DescriptionStyleModel",
      "state": {
       "description_width": ""
      }
     },
     "c522ca216e5a49e4a7624f94b7215c52": {
      "model_module": "@jupyter-widgets/controls",
      "model_module_version": "1.1.0",
      "model_name": "HBoxModel",
      "state": {
       "children": [
        "IPY_MODEL_62e8fbf1622b4a36a186e7f319552990",
        "IPY_MODEL_8228413e70844312b5aa3128e3bea3ad"
       ],
       "layout": "IPY_MODEL_cb6af7a441964132bb58e75ef7b4bd19"
      }
     },
     "c6a3a9d502b94ffba6cb6708c9762bd0": {
      "model_module": "@jupyter-widgets/controls",
      "model_module_version": "1.1.0",
      "model_name": "IntProgressModel",
      "state": {
       "bar_style": "success",
       "description": "Epoch",
       "layout": "IPY_MODEL_868f105f38aa47b2b0223680dc202859",
       "max": 2,
       "style": "IPY_MODEL_f4c78df23c774bb290250936916d962e",
       "value": 2
      }
     },
     "c74dedf09f57490a9f1ac9af54e14bf3": {
      "model_module": "@jupyter-widgets/base",
      "model_module_version": "1.0.0",
      "model_name": "LayoutModel",
      "state": {}
     },
     "c80d11f161704ab3bda86e7d1dfaff03": {
      "model_module": "@jupyter-widgets/base",
      "model_module_version": "1.0.0",
      "model_name": "LayoutModel",
      "state": {}
     },
     "c8469a077e5449b69821e6b27b8e74e5": {
      "model_module": "@jupyter-widgets/controls",
      "model_module_version": "1.1.0",
      "model_name": "ProgressStyleModel",
      "state": {
       "description_width": ""
      }
     },
     "c8871c57d7bd4b61a99633668fb44621": {
      "model_module": "@jupyter-widgets/controls",
      "model_module_version": "1.1.0",
      "model_name": "IntProgressModel",
      "state": {
       "bar_style": "success",
       "description": "Epoch",
       "layout": "IPY_MODEL_2d1dfcb285154a7bac2db184a87f3c4e",
       "max": 7,
       "style": "IPY_MODEL_ce4922cb72aa4e5c8b5713e47e49029e",
       "value": 7
      }
     },
     "c8ef187b9a1249018de7378cee824894": {
      "model_module": "@jupyter-widgets/controls",
      "model_module_version": "1.1.0",
      "model_name": "HBoxModel",
      "state": {
       "children": [
        "IPY_MODEL_7b215de0d6b64c3897c22bd817bbcb8d",
        "IPY_MODEL_b1258a718296423d9f4d9c0535aae63b"
       ],
       "layout": "IPY_MODEL_784cd320488247aa87d575558f81d06b"
      }
     },
     "cac9427c464f4db9b71c36da9245c066": {
      "model_module": "@jupyter-widgets/controls",
      "model_module_version": "1.1.0",
      "model_name": "ProgressStyleModel",
      "state": {
       "description_width": ""
      }
     },
     "cb554ddf38bb4597b282655ee74ca321": {
      "model_module": "@jupyter-widgets/base",
      "model_module_version": "1.0.0",
      "model_name": "LayoutModel",
      "state": {}
     },
     "cb6af7a441964132bb58e75ef7b4bd19": {
      "model_module": "@jupyter-widgets/base",
      "model_module_version": "1.0.0",
      "model_name": "LayoutModel",
      "state": {}
     },
     "ce4922cb72aa4e5c8b5713e47e49029e": {
      "model_module": "@jupyter-widgets/controls",
      "model_module_version": "1.1.0",
      "model_name": "ProgressStyleModel",
      "state": {
       "description_width": ""
      }
     },
     "cfeaf84bdbe34c7898e1ea8fc61b539c": {
      "model_module": "@jupyter-widgets/controls",
      "model_module_version": "1.1.0",
      "model_name": "ProgressStyleModel",
      "state": {
       "description_width": ""
      }
     },
     "d2b4db8ba2cb4c859ba3e0041c243193": {
      "model_module": "@jupyter-widgets/controls",
      "model_module_version": "1.1.0",
      "model_name": "HTMLModel",
      "state": {
       "layout": "IPY_MODEL_13cbbf3a554a40f09d40df39c2cacf47",
       "style": "IPY_MODEL_91b150ff417c44d1bc68e66d1b3c5925",
       "value": "100% 7/7 [38:27&lt;00:00, 329.65s/it]"
      }
     },
     "db256ef0046f46d085353ffba880c8fa": {
      "model_module": "@jupyter-widgets/base",
      "model_module_version": "1.0.0",
      "model_name": "LayoutModel",
      "state": {}
     },
     "de9c288444e74ea38dbac2ef1b1078e4": {
      "model_module": "@jupyter-widgets/controls",
      "model_module_version": "1.1.0",
      "model_name": "IntProgressModel",
      "state": {
       "bar_style": "success",
       "description": "Epoch",
       "layout": "IPY_MODEL_0147ea39a83144aa99e7877a908ca502",
       "max": 5,
       "style": "IPY_MODEL_075434e4b0234c5fa61c8d63fec51679",
       "value": 5
      }
     },
     "def3b0d0275c454e95c5c2952fc9d017": {
      "model_module": "@jupyter-widgets/controls",
      "model_module_version": "1.1.0",
      "model_name": "HBoxModel",
      "state": {
       "children": [
        "IPY_MODEL_5f4033806f5144f28e0999110bf34612",
        "IPY_MODEL_61defccfe9dc4330931ce420b9976dcd"
       ],
       "layout": "IPY_MODEL_e22e48eeda32478cbb6bf53babd9e700"
      }
     },
     "e10c6be126a045d9809b90c0880e7362": {
      "model_module": "@jupyter-widgets/controls",
      "model_module_version": "1.1.0",
      "model_name": "HTMLModel",
      "state": {
       "layout": "IPY_MODEL_5791e4167111408ca3f1be2e16334803",
       "style": "IPY_MODEL_c01a6ed0806a4aaaaf580bf56e78398f",
       "value": "100% 2/2 [10:59&lt;00:00, 329.53s/it]"
      }
     },
     "e1df5ccb47594688afaee7c51d9cfeed": {
      "model_module": "@jupyter-widgets/controls",
      "model_module_version": "1.1.0",
      "model_name": "DescriptionStyleModel",
      "state": {
       "description_width": ""
      }
     },
     "e22e48eeda32478cbb6bf53babd9e700": {
      "model_module": "@jupyter-widgets/base",
      "model_module_version": "1.0.0",
      "model_name": "LayoutModel",
      "state": {}
     },
     "e41e9dc77ce44f3fad0aee4db429cd7d": {
      "model_module": "@jupyter-widgets/base",
      "model_module_version": "1.0.0",
      "model_name": "LayoutModel",
      "state": {}
     },
     "e59a2233ae454d81ada1b8494763e7bc": {
      "model_module": "@jupyter-widgets/base",
      "model_module_version": "1.0.0",
      "model_name": "LayoutModel",
      "state": {}
     },
     "e6337586212341de8a4de0ce6bd25649": {
      "model_module": "@jupyter-widgets/base",
      "model_module_version": "1.0.0",
      "model_name": "LayoutModel",
      "state": {}
     },
     "e6926f2efb5340528a00c5045376c380": {
      "model_module": "@jupyter-widgets/base",
      "model_module_version": "1.0.0",
      "model_name": "LayoutModel",
      "state": {}
     },
     "e6f6231f671e4871b9e496cce50bf2b9": {
      "model_module": "@jupyter-widgets/controls",
      "model_module_version": "1.1.0",
      "model_name": "HTMLModel",
      "state": {
       "layout": "IPY_MODEL_4c5e108b0b9145cb9987a673dda89bb6",
       "style": "IPY_MODEL_a19c0f9c5cb34e9e8cdfe5c356084b80",
       "value": "100% 6/6 [00:00&lt;00:00, 42.32it/s]"
      }
     },
     "e77a75b0e9b446318ef399e225003e65": {
      "model_module": "@jupyter-widgets/base",
      "model_module_version": "1.0.0",
      "model_name": "LayoutModel",
      "state": {}
     },
     "ed2e720acb7a467c85bd7db465281523": {
      "model_module": "@jupyter-widgets/controls",
      "model_module_version": "1.1.0",
      "model_name": "IntProgressModel",
      "state": {
       "bar_style": "success",
       "description": "Epoch",
       "layout": "IPY_MODEL_f9852feeb51543e4a0d21c5cd6326380",
       "max": 5,
       "style": "IPY_MODEL_cac9427c464f4db9b71c36da9245c066",
       "value": 5
      }
     },
     "f2cf6963cc204b18921e63e1933ad18b": {
      "model_module": "@jupyter-widgets/controls",
      "model_module_version": "1.1.0",
      "model_name": "HBoxModel",
      "state": {
       "children": [
        "IPY_MODEL_a6cf535c8f30471e947503cae6bdb611",
        "IPY_MODEL_d2b4db8ba2cb4c859ba3e0041c243193"
       ],
       "layout": "IPY_MODEL_b4c9fe6ac6f649dc9ed8a077a5eaeb20"
      }
     },
     "f38f8ae81eca43f9b1828369ebffd849": {
      "model_module": "@jupyter-widgets/controls",
      "model_module_version": "1.1.0",
      "model_name": "ProgressStyleModel",
      "state": {
       "description_width": ""
      }
     },
     "f4c78df23c774bb290250936916d962e": {
      "model_module": "@jupyter-widgets/controls",
      "model_module_version": "1.1.0",
      "model_name": "ProgressStyleModel",
      "state": {
       "description_width": ""
      }
     },
     "f6539e378c294a6c955da278da4ade4e": {
      "model_module": "@jupyter-widgets/base",
      "model_module_version": "1.0.0",
      "model_name": "LayoutModel",
      "state": {}
     },
     "f9852feeb51543e4a0d21c5cd6326380": {
      "model_module": "@jupyter-widgets/base",
      "model_module_version": "1.0.0",
      "model_name": "LayoutModel",
      "state": {}
     },
     "fa7fbd7aa5ab41a5aaabfca1db46058e": {
      "model_module": "@jupyter-widgets/controls",
      "model_module_version": "1.1.0",
      "model_name": "DescriptionStyleModel",
      "state": {
       "description_width": ""
      }
     },
     "fe3c562acb4e432280f6432df0710577": {
      "model_module": "@jupyter-widgets/controls",
      "model_module_version": "1.1.0",
      "model_name": "HTMLModel",
      "state": {
       "layout": "IPY_MODEL_a6ba13af33984f1b96ed120d3798b035",
       "style": "IPY_MODEL_39d7df82d70b40df9f1171dad9ce2b4c",
       "value": "100% 5/5 [25:26&lt;00:00, 305.38s/it]"
      }
     }
    },
    "version_major": 2,
    "version_minor": 0
   }
  }
 },
 "nbformat": 4,
 "nbformat_minor": 2
}
